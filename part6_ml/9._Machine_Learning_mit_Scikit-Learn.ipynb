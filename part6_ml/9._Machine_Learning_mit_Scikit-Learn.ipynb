{
 "cells": [
  {
   "cell_type": "markdown",
   "metadata": {},
   "source": [
    "# Einführung"
   ]
  },
  {
   "cell_type": "markdown",
   "metadata": {},
   "source": [
    "Machine Learning (ML) als Teilgebiet der Künstlichen Intelligenz hat in den letzten Jahren aufgrund zahlreicher Durchbrüche im Bereich Deep Learning zu weitreichenden Disruptionen in unserem Leben geführt. Die Fortschritte bieten insbesondere Data Scientists die Möglichkeit, rießige Datenmengen effizient zu nutzen, um z.B. spannende Analysen für Prozessoptimierung, Forecasting oder Mustererkennung zu entwickeln. Bereits mit wenig Wissen lassen sich diese Technologien gewinnbringend nutzen und besitzen daher ein enormes Potential für die Zukunft.\n",
    "<br>\n",
    "Dieses Tutorial setzt voraus, dass Sie grundlegendes Wissen im Bereich Machine Learning und \n",
    "Kenntnisse in Python - speziell [`Numpy`](https://numpy.org/), [`Pandas`](https://pandas.pydata.org/) und [`Matplotlib`](https://matplotlib.org/) - besitzen. Diese Frameworks wurden bereits im Dokument 5. Einfuehrung_in_die_Data_Science näher erleutert.<br><br>\n",
    "Ziel des Tutorials ist es, Standards für die Vorgehensweise beim Entwickeln von Machine Learning Projekten zu setzen und ein \"Cheat-Sheet\" bei der intelligenten Programmierung mit Python - von Preprocessing bis zum Trainieren und Testen der Anwendung - zu sein.\n",
    "<br><br>\n",
    "Das Tutorial ist folgendermaßen gegliedert:\n",
    "1. Data Selection\n",
    "2. Feature Engineering\n",
    "3. Feature Selection\n",
    "4. Hyperparameter\n",
    "5. Backtests\n",
    "\n",
    "\n",
    "In diesem Tutorial verwenden wir [`Scikit-Learn`](https://scikit-learn.org/). Das Framework ist sehr einfach zu nutzen, trotzdem enthält es effiziente Machine Learning Algorithmen. Es wurde von David Cournapeau 2007 entwickelt und wird aktuell von einem Forscherteam des French Institute of Research in Computer Science and Automation (Inria) geführt."
   ]
  },
  {
   "cell_type": "markdown",
   "metadata": {},
   "source": [
    "# 1. Data Selection"
   ]
  },
  {
   "cell_type": "markdown",
   "metadata": {},
   "source": [
    "Data Selection soll für einen sauberen und aussagekräftigen Datensatz sorgen, bei dem keine falschen oder überflüssigen Informationen enthalten sind. Vor allem beim Arbeiten mit realen Daten sollte man sich vier Fragen stellen:"
   ]
  },
  {
   "cell_type": "markdown",
   "metadata": {},
   "source": [
    "### Wie sieht mein Datensatz aus?"
   ]
  },
  {
   "cell_type": "markdown",
   "metadata": {},
   "source": [
    " Folgendes ist zu beachten:\n",
    "* Wir verwenden stets CSV-Dateien.\n",
    "* Die Inhalte werden mit `Pandas` ausgelesen und als `Pandas.DataFrame` gespeichert. Dafür kann der unten stehende Befehl verwendet werden. Die Funktion gibt ein Dataframe Objekt zurück, das die gesamten Daten des Dokuments enthält.\n",
    "* Um die obersten Spalten des gespeicherte DataFrame auszugeben, nutzt man dann den Befehl `df.head()`."
   ]
  },
  {
   "cell_type": "code",
   "execution_count": 116,
   "metadata": {},
   "outputs": [
    {
     "data": {
      "text/html": [
       "<div>\n",
       "<style scoped>\n",
       "    .dataframe tbody tr th:only-of-type {\n",
       "        vertical-align: middle;\n",
       "    }\n",
       "\n",
       "    .dataframe tbody tr th {\n",
       "        vertical-align: top;\n",
       "    }\n",
       "\n",
       "    .dataframe thead th {\n",
       "        text-align: right;\n",
       "    }\n",
       "</style>\n",
       "<table border=\"1\" class=\"dataframe\">\n",
       "  <thead>\n",
       "    <tr style=\"text-align: right;\">\n",
       "      <th></th>\n",
       "      <th>longitude</th>\n",
       "      <th>latitude</th>\n",
       "      <th>housing_median_age</th>\n",
       "      <th>total_rooms</th>\n",
       "      <th>total_bedrooms</th>\n",
       "      <th>population</th>\n",
       "      <th>households</th>\n",
       "      <th>median_income</th>\n",
       "      <th>median_house_value</th>\n",
       "      <th>ocean_proximity</th>\n",
       "    </tr>\n",
       "  </thead>\n",
       "  <tbody>\n",
       "    <tr>\n",
       "      <th>0</th>\n",
       "      <td>-122.23</td>\n",
       "      <td>37.88</td>\n",
       "      <td>41.0</td>\n",
       "      <td>880.0</td>\n",
       "      <td>129.0</td>\n",
       "      <td>322.0</td>\n",
       "      <td>126.0</td>\n",
       "      <td>8.3252</td>\n",
       "      <td>452600.0</td>\n",
       "      <td>NEAR BAY</td>\n",
       "    </tr>\n",
       "    <tr>\n",
       "      <th>1</th>\n",
       "      <td>-122.22</td>\n",
       "      <td>37.86</td>\n",
       "      <td>21.0</td>\n",
       "      <td>7099.0</td>\n",
       "      <td>1106.0</td>\n",
       "      <td>2401.0</td>\n",
       "      <td>1138.0</td>\n",
       "      <td>8.3014</td>\n",
       "      <td>358500.0</td>\n",
       "      <td>NEAR BAY</td>\n",
       "    </tr>\n",
       "    <tr>\n",
       "      <th>2</th>\n",
       "      <td>-122.24</td>\n",
       "      <td>37.85</td>\n",
       "      <td>52.0</td>\n",
       "      <td>1467.0</td>\n",
       "      <td>190.0</td>\n",
       "      <td>496.0</td>\n",
       "      <td>177.0</td>\n",
       "      <td>7.2574</td>\n",
       "      <td>352100.0</td>\n",
       "      <td>NEAR BAY</td>\n",
       "    </tr>\n",
       "    <tr>\n",
       "      <th>3</th>\n",
       "      <td>-122.25</td>\n",
       "      <td>37.85</td>\n",
       "      <td>-3.0</td>\n",
       "      <td>1274.0</td>\n",
       "      <td>235.0</td>\n",
       "      <td>558.0</td>\n",
       "      <td>219.0</td>\n",
       "      <td>5.6431</td>\n",
       "      <td>341300.0</td>\n",
       "      <td>NEAR BAY</td>\n",
       "    </tr>\n",
       "    <tr>\n",
       "      <th>4</th>\n",
       "      <td>-122.25</td>\n",
       "      <td>37.85</td>\n",
       "      <td>52.0</td>\n",
       "      <td>1627.0</td>\n",
       "      <td>280.0</td>\n",
       "      <td>565.0</td>\n",
       "      <td>259.0</td>\n",
       "      <td>3.8462</td>\n",
       "      <td>342200.0</td>\n",
       "      <td>NEAR BAY</td>\n",
       "    </tr>\n",
       "  </tbody>\n",
       "</table>\n",
       "</div>"
      ],
      "text/plain": [
       "   longitude  latitude  housing_median_age  total_rooms  total_bedrooms  \\\n",
       "0    -122.23     37.88                41.0        880.0           129.0   \n",
       "1    -122.22     37.86                21.0       7099.0          1106.0   \n",
       "2    -122.24     37.85                52.0       1467.0           190.0   \n",
       "3    -122.25     37.85                -3.0       1274.0           235.0   \n",
       "4    -122.25     37.85                52.0       1627.0           280.0   \n",
       "\n",
       "   population  households  median_income  median_house_value ocean_proximity  \n",
       "0       322.0       126.0         8.3252            452600.0        NEAR BAY  \n",
       "1      2401.0      1138.0         8.3014            358500.0        NEAR BAY  \n",
       "2       496.0       177.0         7.2574            352100.0        NEAR BAY  \n",
       "3       558.0       219.0         5.6431            341300.0        NEAR BAY  \n",
       "4       565.0       259.0         3.8462            342200.0        NEAR BAY  "
      ]
     },
     "execution_count": 116,
     "metadata": {},
     "output_type": "execute_result"
    }
   ],
   "source": [
    "import pandas as pd\n",
    "import numpy as np\n",
    "\n",
    "housing = pd.read_csv(\"../data/housing.csv\", delimiter=\",\", encoding='latin-1', index_col=0)\n",
    "housing.head()"
   ]
  },
  {
   "cell_type": "markdown",
   "metadata": {},
   "source": [
    "* Die `info()`-Methode liefert eine kurze Beschreibung der Daten, genauer gesagt die Anzahl der Reihen, den Attributstyp und die Zahl der Werte, die nicht null sind. Beachten Sie, dass die Spalte `total_bedrooms` nur 20433 Einträge besitzt, um die fehlenden 7 Einträge kümmern wir uns später."
   ]
  },
  {
   "cell_type": "code",
   "execution_count": 117,
   "metadata": {},
   "outputs": [
    {
     "name": "stdout",
     "output_type": "stream",
     "text": [
      "<class 'pandas.core.frame.DataFrame'>\n",
      "Int64Index: 20640 entries, 0 to 20639\n",
      "Data columns (total 10 columns):\n",
      " #   Column              Non-Null Count  Dtype  \n",
      "---  ------              --------------  -----  \n",
      " 0   longitude           20640 non-null  float64\n",
      " 1   latitude            20640 non-null  float64\n",
      " 2   housing_median_age  20640 non-null  float64\n",
      " 3   total_rooms         20640 non-null  float64\n",
      " 4   total_bedrooms      20433 non-null  float64\n",
      " 5   population          20640 non-null  float64\n",
      " 6   households          20640 non-null  float64\n",
      " 7   median_income       20640 non-null  float64\n",
      " 8   median_house_value  20640 non-null  float64\n",
      " 9   ocean_proximity     20640 non-null  object \n",
      "dtypes: float64(9), object(1)\n",
      "memory usage: 1.7+ MB\n"
     ]
    }
   ],
   "source": [
    "housing.info()"
   ]
  },
  {
   "cell_type": "markdown",
   "metadata": {},
   "source": [
    "* Wenn Spalten sich wiederholende Werte enthalten, also <b>kategorische Variablen</b>, dann kann man die einzelen Werte mit Häufigkeit über die Methode `value_counts()` erhalten."
   ]
  },
  {
   "cell_type": "code",
   "execution_count": 118,
   "metadata": {},
   "outputs": [
    {
     "data": {
      "text/plain": [
       "<1H OCEAN     9136\n",
       "INLAND        6551\n",
       "NEAR OCEAN    2658\n",
       "NEAR BAY      2290\n",
       "ISLAND           5\n",
       "Name: ocean_proximity, dtype: int64"
      ]
     },
     "execution_count": 118,
     "metadata": {},
     "output_type": "execute_result"
    }
   ],
   "source": [
    "housing[\"ocean_proximity\"].value_counts()"
   ]
  },
  {
   "cell_type": "markdown",
   "metadata": {},
   "source": [
    "* Mit der Methode `describe()` wird eine Zusammenfassung der numerischen Werte erstellt. Fehlende Zellen werden ignoriert. `std` liefert die Standardabweichung, `25%`, `50%`, `75%` zeigen die Quantile an. "
   ]
  },
  {
   "cell_type": "code",
   "execution_count": 119,
   "metadata": {},
   "outputs": [
    {
     "data": {
      "text/html": [
       "<div>\n",
       "<style scoped>\n",
       "    .dataframe tbody tr th:only-of-type {\n",
       "        vertical-align: middle;\n",
       "    }\n",
       "\n",
       "    .dataframe tbody tr th {\n",
       "        vertical-align: top;\n",
       "    }\n",
       "\n",
       "    .dataframe thead th {\n",
       "        text-align: right;\n",
       "    }\n",
       "</style>\n",
       "<table border=\"1\" class=\"dataframe\">\n",
       "  <thead>\n",
       "    <tr style=\"text-align: right;\">\n",
       "      <th></th>\n",
       "      <th>longitude</th>\n",
       "      <th>latitude</th>\n",
       "      <th>housing_median_age</th>\n",
       "      <th>total_rooms</th>\n",
       "      <th>total_bedrooms</th>\n",
       "      <th>population</th>\n",
       "      <th>households</th>\n",
       "      <th>median_income</th>\n",
       "      <th>median_house_value</th>\n",
       "    </tr>\n",
       "  </thead>\n",
       "  <tbody>\n",
       "    <tr>\n",
       "      <th>count</th>\n",
       "      <td>20640.000000</td>\n",
       "      <td>20640.000000</td>\n",
       "      <td>20640.000000</td>\n",
       "      <td>20640.000000</td>\n",
       "      <td>20433.000000</td>\n",
       "      <td>20640.000000</td>\n",
       "      <td>20640.000000</td>\n",
       "      <td>20640.000000</td>\n",
       "      <td>20640.000000</td>\n",
       "    </tr>\n",
       "    <tr>\n",
       "      <th>mean</th>\n",
       "      <td>-119.569704</td>\n",
       "      <td>35.631861</td>\n",
       "      <td>28.636822</td>\n",
       "      <td>2635.763081</td>\n",
       "      <td>537.870553</td>\n",
       "      <td>1425.476744</td>\n",
       "      <td>499.539680</td>\n",
       "      <td>3.870671</td>\n",
       "      <td>206855.816909</td>\n",
       "    </tr>\n",
       "    <tr>\n",
       "      <th>std</th>\n",
       "      <td>2.003532</td>\n",
       "      <td>2.135952</td>\n",
       "      <td>12.586434</td>\n",
       "      <td>2181.615252</td>\n",
       "      <td>421.385070</td>\n",
       "      <td>1132.462122</td>\n",
       "      <td>382.329753</td>\n",
       "      <td>1.899822</td>\n",
       "      <td>115395.615874</td>\n",
       "    </tr>\n",
       "    <tr>\n",
       "      <th>min</th>\n",
       "      <td>-124.350000</td>\n",
       "      <td>32.540000</td>\n",
       "      <td>-3.000000</td>\n",
       "      <td>2.000000</td>\n",
       "      <td>1.000000</td>\n",
       "      <td>3.000000</td>\n",
       "      <td>1.000000</td>\n",
       "      <td>0.499900</td>\n",
       "      <td>14999.000000</td>\n",
       "    </tr>\n",
       "    <tr>\n",
       "      <th>25%</th>\n",
       "      <td>-121.800000</td>\n",
       "      <td>33.930000</td>\n",
       "      <td>18.000000</td>\n",
       "      <td>1447.750000</td>\n",
       "      <td>296.000000</td>\n",
       "      <td>787.000000</td>\n",
       "      <td>280.000000</td>\n",
       "      <td>2.563400</td>\n",
       "      <td>119600.000000</td>\n",
       "    </tr>\n",
       "    <tr>\n",
       "      <th>50%</th>\n",
       "      <td>-118.490000</td>\n",
       "      <td>34.260000</td>\n",
       "      <td>29.000000</td>\n",
       "      <td>2127.000000</td>\n",
       "      <td>435.000000</td>\n",
       "      <td>1166.000000</td>\n",
       "      <td>409.000000</td>\n",
       "      <td>3.534800</td>\n",
       "      <td>179700.000000</td>\n",
       "    </tr>\n",
       "    <tr>\n",
       "      <th>75%</th>\n",
       "      <td>-118.010000</td>\n",
       "      <td>37.710000</td>\n",
       "      <td>37.000000</td>\n",
       "      <td>3148.000000</td>\n",
       "      <td>647.000000</td>\n",
       "      <td>1725.000000</td>\n",
       "      <td>605.000000</td>\n",
       "      <td>4.743250</td>\n",
       "      <td>264725.000000</td>\n",
       "    </tr>\n",
       "    <tr>\n",
       "      <th>max</th>\n",
       "      <td>-114.310000</td>\n",
       "      <td>41.950000</td>\n",
       "      <td>52.000000</td>\n",
       "      <td>39320.000000</td>\n",
       "      <td>6445.000000</td>\n",
       "      <td>35682.000000</td>\n",
       "      <td>6082.000000</td>\n",
       "      <td>15.000100</td>\n",
       "      <td>500001.000000</td>\n",
       "    </tr>\n",
       "  </tbody>\n",
       "</table>\n",
       "</div>"
      ],
      "text/plain": [
       "          longitude      latitude  housing_median_age   total_rooms  \\\n",
       "count  20640.000000  20640.000000        20640.000000  20640.000000   \n",
       "mean    -119.569704     35.631861           28.636822   2635.763081   \n",
       "std        2.003532      2.135952           12.586434   2181.615252   \n",
       "min     -124.350000     32.540000           -3.000000      2.000000   \n",
       "25%     -121.800000     33.930000           18.000000   1447.750000   \n",
       "50%     -118.490000     34.260000           29.000000   2127.000000   \n",
       "75%     -118.010000     37.710000           37.000000   3148.000000   \n",
       "max     -114.310000     41.950000           52.000000  39320.000000   \n",
       "\n",
       "       total_bedrooms    population    households  median_income  \\\n",
       "count    20433.000000  20640.000000  20640.000000   20640.000000   \n",
       "mean       537.870553   1425.476744    499.539680       3.870671   \n",
       "std        421.385070   1132.462122    382.329753       1.899822   \n",
       "min          1.000000      3.000000      1.000000       0.499900   \n",
       "25%        296.000000    787.000000    280.000000       2.563400   \n",
       "50%        435.000000   1166.000000    409.000000       3.534800   \n",
       "75%        647.000000   1725.000000    605.000000       4.743250   \n",
       "max       6445.000000  35682.000000   6082.000000      15.000100   \n",
       "\n",
       "       median_house_value  \n",
       "count        20640.000000  \n",
       "mean        206855.816909  \n",
       "std         115395.615874  \n",
       "min          14999.000000  \n",
       "25%         119600.000000  \n",
       "50%         179700.000000  \n",
       "75%         264725.000000  \n",
       "max         500001.000000  "
      ]
     },
     "execution_count": 119,
     "metadata": {},
     "output_type": "execute_result"
    }
   ],
   "source": [
    "housing.describe()"
   ]
  },
  {
   "cell_type": "markdown",
   "metadata": {},
   "source": [
    "* Histogramme ermöglichen einen Überblick über die Verteilung der Werte. `hist()` wird über `Matplotlib` realisiert."
   ]
  },
  {
   "cell_type": "code",
   "execution_count": 120,
   "metadata": {},
   "outputs": [
    {
     "data": {
      "image/png": "[encoded data removed]",
      "text/plain": [
       "<Figure size 1440x1080 with 9 Axes>"
      ]
     },
     "metadata": {
      "needs_background": "light"
     },
     "output_type": "display_data"
    }
   ],
   "source": [
    "%matplotlib inline\n",
    "import matplotlib.pyplot as plt\n",
    "housing.hist(bins=50, figsize=(20,15))\n",
    "plt.show()"
   ]
  },
  {
   "cell_type": "markdown",
   "metadata": {},
   "source": [
    "### Was ist meine Zielgröße?"
   ]
  },
  {
   "cell_type": "markdown",
   "metadata": {},
   "source": [
    "An dieser Stelle soll das Ergebnis der Datenanalyse näher spezifiziert werden. Insbesondere wird festgelegt, wie die Zielgröße formatiert ist, also welchen Variablentyp das Ergebnis besitzen soll. In gewissen Projekten ist es sinnvoll, die Zielvariable zu [logarithmieren](https://de.wikipedia.org/wiki/Logarithmische_Darstellung), was viele Vorteile mit sich bringt. Ist am Ende des Projekts eine binäre Entscheidung zu treffen (z.B. kaufen/ nicht kaufen), dann macht ein rein numerisches Verfahren keinen Sinn, sondern ein Verfahren, dass mit kategorischen Targets umgehen kann."
   ]
  },
  {
   "cell_type": "markdown",
   "metadata": {},
   "source": [
    "### Sind die Daten fehlerhaft?"
   ]
  },
  {
   "cell_type": "markdown",
   "metadata": {},
   "source": [
    "Enthalten Trainingsdaten viele Fehler und Ausreißer (engl. Outliers), fällt es dem System schwierig, die zugrunde liegenden Patterns zu erfassen, worunter die Performance der Anwendung leiden könnte. Daher macht es oft Sinn, sich Zeit zu nehmen, um Trainingsdaten mit schlechter Qualität zu bereinigen. Unter anderem können Fehler manuell gefixed oder Ausreißer nach sinnvollen Regeln entfernt werden.\n",
    "<br><br>\n",
    "Ihnen ist bestimmt schon aufgefallen, dass der Datensatz einen negativen Wert in der Spalte `housing_median_age` enthält. Wir können entweder die Zeile löschen (#1) oder den Wert durch einen anderen ersetzen (#2):"
   ]
  },
  {
   "cell_type": "code",
   "execution_count": 121,
   "metadata": {},
   "outputs": [],
   "source": [
    "housing = housing[housing[\"housing_median_age\"] > 0] #1\n",
    "housing.loc[housing['housing_median_age'] < 0] = 0 #2"
   ]
  },
  {
   "cell_type": "markdown",
   "metadata": {},
   "source": [
    "Fehlende Werte können auch ganz einfach mit `dropna()` gelöscht werden."
   ]
  },
  {
   "cell_type": "code",
   "execution_count": 122,
   "metadata": {},
   "outputs": [
    {
     "data": {
      "text/html": [
       "<div>\n",
       "<style scoped>\n",
       "    .dataframe tbody tr th:only-of-type {\n",
       "        vertical-align: middle;\n",
       "    }\n",
       "\n",
       "    .dataframe tbody tr th {\n",
       "        vertical-align: top;\n",
       "    }\n",
       "\n",
       "    .dataframe thead th {\n",
       "        text-align: right;\n",
       "    }\n",
       "</style>\n",
       "<table border=\"1\" class=\"dataframe\">\n",
       "  <thead>\n",
       "    <tr style=\"text-align: right;\">\n",
       "      <th></th>\n",
       "      <th>longitude</th>\n",
       "      <th>latitude</th>\n",
       "      <th>housing_median_age</th>\n",
       "      <th>total_rooms</th>\n",
       "      <th>total_bedrooms</th>\n",
       "      <th>population</th>\n",
       "      <th>households</th>\n",
       "      <th>median_income</th>\n",
       "      <th>median_house_value</th>\n",
       "      <th>ocean_proximity</th>\n",
       "    </tr>\n",
       "  </thead>\n",
       "  <tbody>\n",
       "    <tr>\n",
       "      <th>0</th>\n",
       "      <td>-122.23</td>\n",
       "      <td>37.88</td>\n",
       "      <td>41.0</td>\n",
       "      <td>880.0</td>\n",
       "      <td>129.0</td>\n",
       "      <td>322.0</td>\n",
       "      <td>126.0</td>\n",
       "      <td>8.3252</td>\n",
       "      <td>452600.0</td>\n",
       "      <td>NEAR BAY</td>\n",
       "    </tr>\n",
       "    <tr>\n",
       "      <th>1</th>\n",
       "      <td>-122.22</td>\n",
       "      <td>37.86</td>\n",
       "      <td>21.0</td>\n",
       "      <td>7099.0</td>\n",
       "      <td>1106.0</td>\n",
       "      <td>2401.0</td>\n",
       "      <td>1138.0</td>\n",
       "      <td>8.3014</td>\n",
       "      <td>358500.0</td>\n",
       "      <td>NEAR BAY</td>\n",
       "    </tr>\n",
       "    <tr>\n",
       "      <th>2</th>\n",
       "      <td>-122.24</td>\n",
       "      <td>37.85</td>\n",
       "      <td>52.0</td>\n",
       "      <td>1467.0</td>\n",
       "      <td>190.0</td>\n",
       "      <td>496.0</td>\n",
       "      <td>177.0</td>\n",
       "      <td>7.2574</td>\n",
       "      <td>352100.0</td>\n",
       "      <td>NEAR BAY</td>\n",
       "    </tr>\n",
       "    <tr>\n",
       "      <th>4</th>\n",
       "      <td>-122.25</td>\n",
       "      <td>37.85</td>\n",
       "      <td>52.0</td>\n",
       "      <td>1627.0</td>\n",
       "      <td>280.0</td>\n",
       "      <td>565.0</td>\n",
       "      <td>259.0</td>\n",
       "      <td>3.8462</td>\n",
       "      <td>342200.0</td>\n",
       "      <td>NEAR BAY</td>\n",
       "    </tr>\n",
       "    <tr>\n",
       "      <th>5</th>\n",
       "      <td>-122.25</td>\n",
       "      <td>37.85</td>\n",
       "      <td>52.0</td>\n",
       "      <td>919.0</td>\n",
       "      <td>213.0</td>\n",
       "      <td>413.0</td>\n",
       "      <td>193.0</td>\n",
       "      <td>4.0368</td>\n",
       "      <td>269700.0</td>\n",
       "      <td>NEAR BAY</td>\n",
       "    </tr>\n",
       "  </tbody>\n",
       "</table>\n",
       "</div>"
      ],
      "text/plain": [
       "   longitude  latitude  housing_median_age  total_rooms  total_bedrooms  \\\n",
       "0    -122.23     37.88                41.0        880.0           129.0   \n",
       "1    -122.22     37.86                21.0       7099.0          1106.0   \n",
       "2    -122.24     37.85                52.0       1467.0           190.0   \n",
       "4    -122.25     37.85                52.0       1627.0           280.0   \n",
       "5    -122.25     37.85                52.0        919.0           213.0   \n",
       "\n",
       "   population  households  median_income  median_house_value ocean_proximity  \n",
       "0       322.0       126.0         8.3252            452600.0        NEAR BAY  \n",
       "1      2401.0      1138.0         8.3014            358500.0        NEAR BAY  \n",
       "2       496.0       177.0         7.2574            352100.0        NEAR BAY  \n",
       "4       565.0       259.0         3.8462            342200.0        NEAR BAY  \n",
       "5       413.0       193.0         4.0368            269700.0        NEAR BAY  "
      ]
     },
     "execution_count": 122,
     "metadata": {},
     "output_type": "execute_result"
    }
   ],
   "source": [
    "housing = housing.dropna(subset = ['total_bedrooms']) #löscht NaN-Werte aus spezifische Series\n",
    "housing = housing.dropna() #löscht alle NaN-Werte des DataFrames\n",
    "housing.head() #Veranschaulichung des Ergebnisses"
   ]
  },
  {
   "cell_type": "markdown",
   "metadata": {},
   "source": [
    "### Kann ich die fehlenden Werte ersetzen?"
   ]
  },
  {
   "cell_type": "markdown",
   "metadata": {},
   "source": [
    "Nachdem der Datensatz jetzt saubere Daten enthält, kann es für das Modell und besonders das Training sinnvoll sein, einzelne Spalten zu interpolieren. Hierbei unterscheidet man zwischen kategorischen und numerischen Spalten. "
   ]
  },
  {
   "cell_type": "markdown",
   "metadata": {},
   "source": [
    "* <b>kategorisch:</b><br>\n",
    "Kategorische Spalten werden meistens mit dem Wert aufgefüllt, der am häufigsten auftritt. Mit dem `SimpleImputer` von `Scikit-Learn` können wir verschiedene Strategien wählen, mit denen wir fehlende Zellen ausfüllen möchten. In diesem Beispiel werden die fehlenden Lücken mit dem am häufigsten auftretenden Wert ausgefüllt."
   ]
  },
  {
   "cell_type": "code",
   "execution_count": 123,
   "metadata": {},
   "outputs": [
    {
     "name": "stdout",
     "output_type": "stream",
     "text": [
      "['<1H OCEAN']\n"
     ]
    }
   ],
   "source": [
    "from sklearn.impute import SimpleImputer\n",
    "\n",
    "imputer = SimpleImputer(strategy=\"most_frequent\")\n",
    "housing_cat = housing[[\"ocean_proximity\"]]\n",
    "imputer.fit(housing_cat) #in statistics-Variable speichern\n",
    "print(imputer.statistics_)"
   ]
  },
  {
   "cell_type": "markdown",
   "metadata": {},
   "source": [
    "Den häufigsten Wert einer Spalte erhält man durch `.mode`"
   ]
  },
  {
   "cell_type": "code",
   "execution_count": 124,
   "metadata": {},
   "outputs": [
    {
     "data": {
      "text/plain": [
       "0    <1H OCEAN\n",
       "dtype: object"
      ]
     },
     "execution_count": 124,
     "metadata": {},
     "output_type": "execute_result"
    }
   ],
   "source": [
    "housing[\"ocean_proximity\"].mode()"
   ]
  },
  {
   "cell_type": "markdown",
   "metadata": {},
   "source": [
    "Dasselbe lässt sich auch aggregiert umsetzen. Möchte man z.B. den häufigsten Wert der Spalte `ocean_proximity`, bei dem der Wert von `total_bedrooms` größer gleich 1000 ist, mit *NEAR BAY* auffüllen, nutzt man die Methode `fillna()`. Auf die gleiche Weise können auch numerische Werte ersetzt werden."
   ]
  },
  {
   "cell_type": "code",
   "execution_count": 125,
   "metadata": {},
   "outputs": [],
   "source": [
    "housing[\"ocean_proximity\"] = housing[\"ocean_proximity\"].fillna(\n",
    "    pd.Series(np.where(housing[\"total_bedrooms\"] >= 1000, 'NEAR BAY', housing[\"ocean_proximity\"].mode())))"
   ]
  },
  {
   "cell_type": "markdown",
   "metadata": {},
   "source": [
    "Will man die Spalte mit dem Wert auffüllen, der am häufigsten auftritt, wenn `total_bedrooms` größer gleich 1000 ist, kann ebenfalls die Methode `fillna()` verwenden."
   ]
  },
  {
   "cell_type": "code",
   "execution_count": 126,
   "metadata": {},
   "outputs": [],
   "source": [
    "housing[\"ocean_proximity\"] = housing[\"ocean_proximity\"].fillna(\n",
    "    housing[housing[\"total_bedrooms\"]>=1000][\"total_bedrooms\"].mode())"
   ]
  },
  {
   "cell_type": "markdown",
   "metadata": {},
   "source": [
    "Eine weitere Möglichkeit, fehlende Werte zu ersetzen, ist die Methoden [`DataFrame.sort_values()`](https://pandas.pydata.org/pandas-docs/stable/reference/api/pandas.DataFrame.sort_values.html)  mit [`GroupBy.ffill()` ](https://pandas.pydata.org/pandas-docs/stable/reference/api/pandas.core.groupby.GroupBy.ffill.html) zu kombinieren. Hier werden die Werte der Spalte `ocean_proximity` nach den Einträgen in `total_bedrooms` sortiert und mit `GroupBy.ffill()` wird ein *forward-fill* realisiert."
   ]
  },
  {
   "cell_type": "code",
   "execution_count": 127,
   "metadata": {},
   "outputs": [],
   "source": [
    "housing['ocean_proximity'] = housing.sort_values('ocean_proximity').groupby(\n",
    "    'total_bedrooms')['ocean_proximity'].ffill()"
   ]
  },
  {
   "cell_type": "markdown",
   "metadata": {},
   "source": [
    "* <b>numerisch:</b><br><br>\n",
    "\n",
    "* Möglichkeit 1: Werte händisch mit Median auffüllen mit `fillna()`\n",
    "* Möglichkeit 2: `SimpleImputer`\n",
    "* Möglichkeit 3: Interpolation mit `Pandas`, z.B. *Spline-Interpolation*"
   ]
  },
  {
   "cell_type": "code",
   "execution_count": 128,
   "metadata": {},
   "outputs": [],
   "source": [
    "# Möglichkeit 1\n",
    "median = housing['total_bedrooms'].median()\n",
    "housing['total_bedrooms'].fillna(median,inplace=True)\n",
    "\n",
    "# Möglichkeit 2\n",
    "from sklearn.impute import SimpleImputer\n",
    "\n",
    "imputer = SimpleImputer(strategy=\"median\")\n",
    "housing_num = housing.drop([\"ocean_proximity\"], axis = 1) #Median kann nur über numerische Werte gebildet werden\n",
    "imputer.fit(housing_num) #in statistics-Variable speichern\n",
    "\n",
    "#jetzt können wir den \"trainierten\" imputer die fehlenden Werte ersetzen lassen\n",
    "X = imputer.transform(housing_num)\n",
    "#in ein df zurückführen\n",
    "housing_tr = pd.DataFrame(X,columns=housing_num.columns,index=housing_num.index)\n",
    "\n",
    "# Möglichkeit 3\n",
    "housing_num_interpolated = housing_num.interpolate(method='spline', order=2)"
   ]
  },
  {
   "cell_type": "markdown",
   "metadata": {},
   "source": [
    "# 2. Feature Engineering"
   ]
  },
  {
   "cell_type": "markdown",
   "metadata": {},
   "source": [
    "In diesem Schritt sollen neue Informationen aus den Daten generiert werden, die so nicht in das Modell einwirken können. Darüber hinaus sollen an dieser Stelle, wenn möglich, externe Daten eingebunden werden. Mehr Informationen dazu finden sich im Python Tutorial unter *5._Einführung_in_die_Data_Science*."
   ]
  },
  {
   "cell_type": "markdown",
   "metadata": {},
   "source": [
    "* Kategorische Variablen können mit numerischen Daten über den `OrdinalEncoder` ersetzt werden."
   ]
  },
  {
   "cell_type": "code",
   "execution_count": 129,
   "metadata": {},
   "outputs": [
    {
     "data": {
      "text/plain": [
       "array([[3.],\n",
       "       [3.],\n",
       "       [3.],\n",
       "       ...,\n",
       "       [1.],\n",
       "       [1.],\n",
       "       [1.]])"
      ]
     },
     "execution_count": 129,
     "metadata": {},
     "output_type": "execute_result"
    }
   ],
   "source": [
    "from sklearn.preprocessing import OrdinalEncoder\n",
    "ordinal_encoder = OrdinalEncoder()\n",
    "housing_cat = housing[[\"ocean_proximity\"]]\n",
    "housing_cat_encoded = ordinal_encoder.fit_transform(housing_cat)\n",
    "housing_cat_encoded"
   ]
  },
  {
   "cell_type": "markdown",
   "metadata": {},
   "source": [
    "* Binäre Variablen werden mit dem `OneHotEncoder` realisiert.<br>\n",
    "Beachte: Output ist eine `SciPy` sparse matrix"
   ]
  },
  {
   "cell_type": "code",
   "execution_count": 130,
   "metadata": {},
   "outputs": [
    {
     "name": "stdout",
     "output_type": "stream",
     "text": [
      "<class 'scipy.sparse.csr.csr_matrix'>\n",
      "[[0. 0. 0. 1. 0.]\n",
      " [0. 0. 0. 1. 0.]\n",
      " [0. 0. 0. 1. 0.]\n",
      " ...\n",
      " [0. 1. 0. 0. 0.]\n",
      " [0. 1. 0. 0. 0.]\n",
      " [0. 1. 0. 0. 0.]]\n"
     ]
    }
   ],
   "source": [
    "from sklearn.preprocessing import OneHotEncoder\n",
    "cat_encoder = OneHotEncoder()\n",
    "housing_cat_1hot = cat_encoder.fit_transform(housing_cat)\n",
    "print(type(housing_cat_1hot))\n",
    "print(housing_cat_1hot.toarray())"
   ]
  },
  {
   "cell_type": "markdown",
   "metadata": {},
   "source": [
    "### Transformation Pipelines"
   ]
  },
  {
   "cell_type": "markdown",
   "metadata": {},
   "source": [
    "`Scikit-Learn` bietet die `Pipeline`-Klasse, um Data Transformation zu erleichtern. Der `Pipeline`-Konstruktor nimmt eine Liste an Namen/estimator-Paaren und definiert dadurch eine Sequenz an Befehlen. Alle bis auf den letzten estimator müssen transformer sein (also eine `fit_transform()`-Methode enthalten). Hier ist eine kleine Pipeline für die numerischen Attribute, die sequenziell `fit_transform()` bei allen transformers aufruft:"
   ]
  },
  {
   "cell_type": "code",
   "execution_count": 131,
   "metadata": {},
   "outputs": [
    {
     "data": {
      "text/plain": [
       "array([[-1.32740481,  1.05177003,  0.98231289, ..., -0.97685813,\n",
       "         2.34520114,  2.12889421],\n",
       "       [-1.32241352,  1.04240801, -0.60615559, ...,  1.67031784,\n",
       "         2.33266988,  1.31369449],\n",
       "       [-1.3323961 ,  1.037727  ,  1.85597056, ..., -0.84345302,\n",
       "         1.78297944,  1.25825051],\n",
       "       ...,\n",
       "       [-0.82328455,  1.77732648, -0.92384929, ..., -0.17381167,\n",
       "        -1.14312174, -0.99242841],\n",
       "       [-0.87319745,  1.77732648, -0.84442587, ..., -0.39353774,\n",
       "        -1.05508703, -1.05826814],\n",
       "       [-0.83326713,  1.74924043, -1.00327272, ...,  0.07991963,\n",
       "        -0.78055772, -1.01755147]])"
      ]
     },
     "execution_count": 131,
     "metadata": {},
     "output_type": "execute_result"
    }
   ],
   "source": [
    "from sklearn.pipeline import Pipeline\n",
    "from sklearn.preprocessing import StandardScaler\n",
    "\n",
    "num_pipeline = Pipeline([\n",
    "    ('imputer', SimpleImputer(strategy=\"median\")),\n",
    "    ('std_scaler', StandardScaler())\n",
    "])\n",
    "\n",
    "housing_num_tr = num_pipeline.fit_transform(housing_num)\n",
    "housing_num_tr"
   ]
  },
  {
   "cell_type": "markdown",
   "metadata": {},
   "source": [
    "Bisher haben wir bereits kategorische Spalte und numerische Spalten separat behandelt (2. Feature Engineering). Der `ColumnTransformer` ermöglicht uns die einzelnen Transformationen in einem transformer zu vollziehen. Der Konstruktor benötigt eine Liste an Tripeln, wobei jedes Tripel aus einem Namen, einem transformer und einer Liste an Spaltennamen besteht."
   ]
  },
  {
   "cell_type": "code",
   "execution_count": 132,
   "metadata": {},
   "outputs": [
    {
     "data": {
      "text/plain": [
       "array([[-1.32740481,  1.05177003,  0.98231289, ...,  0.        ,\n",
       "         1.        ,  0.        ],\n",
       "       [-1.32241352,  1.04240801, -0.60615559, ...,  0.        ,\n",
       "         1.        ,  0.        ],\n",
       "       [-1.3323961 ,  1.037727  ,  1.85597056, ...,  0.        ,\n",
       "         1.        ,  0.        ],\n",
       "       ...,\n",
       "       [-0.82328455,  1.77732648, -0.92384929, ...,  0.        ,\n",
       "         0.        ,  0.        ],\n",
       "       [-0.87319745,  1.77732648, -0.84442587, ...,  0.        ,\n",
       "         0.        ,  0.        ],\n",
       "       [-0.83326713,  1.74924043, -1.00327272, ...,  0.        ,\n",
       "         0.        ,  0.        ]])"
      ]
     },
     "execution_count": 132,
     "metadata": {},
     "output_type": "execute_result"
    }
   ],
   "source": [
    "from sklearn.compose import ColumnTransformer\n",
    "\n",
    "num_attribs = list(housing_num) #Liste numerischer Spalten\n",
    "cat_attribs = [\"ocean_proximity\"] #Liste kategorischer Spalten\n",
    "\n",
    "full_pipeline = ColumnTransformer([\n",
    "    (\"num\", num_pipeline, num_attribs),\n",
    "    (\"cat\", OneHotEncoder(), cat_attribs)\n",
    "])\n",
    "\n",
    "housing_prepared = full_pipeline.fit_transform(housing)\n",
    "housing_prepared"
   ]
  },
  {
   "cell_type": "markdown",
   "metadata": {},
   "source": [
    "# 3. Feature Selection"
   ]
  },
  {
   "cell_type": "markdown",
   "metadata": {},
   "source": [
    "Nicht jede Einflussgröße ist wichtig, daher werden in diesem Schritt die wichtigen Features (<b>[Feature Importance](https://machinelearningmastery.com/calculate-feature-importance-with-python/)</b>) identifiziert.<br>\n",
    "Sind bestimmte Spalten nicht weiter relevant, kann man sie mit `drop()` oder `del` löschen."
   ]
  },
  {
   "cell_type": "code",
   "execution_count": 133,
   "metadata": {},
   "outputs": [
    {
     "name": "stdout",
     "output_type": "stream",
     "text": [
      "Index(['longitude', 'latitude', 'housing_median_age', 'total_rooms',\n",
      "       'total_bedrooms', 'population', 'households', 'median_income',\n",
      "       'median_house_value', 'ocean_proximity'],\n",
      "      dtype='object')\n",
      "Index(['latitude', 'housing_median_age', 'total_rooms', 'total_bedrooms',\n",
      "       'population', 'median_income', 'median_house_value', 'ocean_proximity'],\n",
      "      dtype='object')\n"
     ]
    }
   ],
   "source": [
    "housing_test = housing.copy()\n",
    "housing_test.drop('households', axis =1, inplace = True)\n",
    "del housing_test['longitude']\n",
    "print(housing.columns)\n",
    "print(housing_test.columns)"
   ]
  },
  {
   "cell_type": "markdown",
   "metadata": {},
   "source": [
    "Die Klassen im Modul [`sklearn.feature_selection`](https://scikit-learn.org/stable/modules/feature_selection.html) können zur Feature Selection genutzt werden. Das verbessert die Genauigkeit des Schätzers und sorgt für bessere Performance bei großen Datenmengen. Die Klasse `VarianceThreshold` ist eine einfache Baseline zum Selektieren, bei der alle Features mit einer Varianz unter der gewählten Schwelle aussortiert werden."
   ]
  },
  {
   "cell_type": "code",
   "execution_count": 134,
   "metadata": {},
   "outputs": [
    {
     "data": {
      "text/plain": [
       "array([[-1.32740481,  1.05177003,  0.98231289, ..., -0.97685813,\n",
       "         2.34520114,  2.12889421],\n",
       "       [-1.32241352,  1.04240801, -0.60615559, ...,  1.67031784,\n",
       "         2.33266988,  1.31369449],\n",
       "       [-1.3323961 ,  1.037727  ,  1.85597056, ..., -0.84345302,\n",
       "         1.78297944,  1.25825051],\n",
       "       ...,\n",
       "       [-0.82328455,  1.77732648, -0.92384929, ..., -0.17381167,\n",
       "        -1.14312174, -0.99242841],\n",
       "       [-0.87319745,  1.77732648, -0.84442587, ..., -0.39353774,\n",
       "        -1.05508703, -1.05826814],\n",
       "       [-0.83326713,  1.74924043, -1.00327272, ...,  0.07991963,\n",
       "        -0.78055772, -1.01755147]])"
      ]
     },
     "execution_count": 134,
     "metadata": {},
     "output_type": "execute_result"
    }
   ],
   "source": [
    "from sklearn.feature_selection import VarianceThreshold\n",
    "housing_selected = VarianceThreshold(threshold=(.8 * (1 - .8)))\n",
    "housing_selected.fit_transform(housing_num_tr)"
   ]
  },
  {
   "cell_type": "markdown",
   "metadata": {},
   "source": [
    "# 4. Hyperparameter"
   ]
  },
  {
   "cell_type": "markdown",
   "metadata": {},
   "source": [
    "Nachdem wir die Daten bereinigt haben, verwenden wir eine `LinearRegression` und den `DecisionTreeRegressor`, um auf dem Datensatz zu trainieren und zu evaluieren."
   ]
  },
  {
   "cell_type": "code",
   "execution_count": 135,
   "metadata": {},
   "outputs": [
    {
     "name": "stdout",
     "output_type": "stream",
     "text": [
      "   longitude  latitude  housing_median_age  total_rooms  total_bedrooms  \\\n",
      "0    -122.23     37.88                41.0        880.0           129.0   \n",
      "1    -122.22     37.86                21.0       7099.0          1106.0   \n",
      "2    -122.24     37.85                52.0       1467.0           190.0   \n",
      "4    -122.25     37.85                52.0       1627.0           280.0   \n",
      "5    -122.25     37.85                52.0        919.0           213.0   \n",
      "\n",
      "   population  households  median_income  median_house_value ocean_proximity  \n",
      "0       322.0       126.0         8.3252            452600.0        NEAR BAY  \n",
      "1      2401.0      1138.0         8.3014            358500.0        NEAR BAY  \n",
      "2       496.0       177.0         7.2574            352100.0        NEAR BAY  \n",
      "4       565.0       259.0         3.8462            342200.0        NEAR BAY  \n",
      "5       413.0       193.0         4.0368            269700.0        NEAR BAY  \n",
      "0    452600.0\n",
      "1    358500.0\n",
      "2    352100.0\n",
      "4    342200.0\n",
      "5    269700.0\n",
      "Name: median_house_value, dtype: float64\n",
      "Predictions: \n",
      " [452600. 358500. 352100. 342200. 269700.] \n",
      " [452600. 358500. 352100. 342200. 269700.]\n",
      "Labels: [452600.0, 358500.0, 352100.0, 342200.0, 269700.0]\n"
     ]
    }
   ],
   "source": [
    "from sklearn.linear_model import LinearRegression\n",
    "from sklearn.tree import DecisionTreeRegressor\n",
    "\n",
    "housing_labels = housing[\"median_house_value\"].copy()\n",
    "\n",
    "lin_reg = LinearRegression()\n",
    "lin_reg.fit(housing_prepared, housing_labels)\n",
    "\n",
    "tree_reg = DecisionTreeRegressor()\n",
    "tree_reg.fit(housing_prepared, housing_labels)\n",
    "\n",
    "some_data = housing.iloc[:5]\n",
    "some_labels = housing_labels.iloc[:5]\n",
    "print(some_data)\n",
    "print(some_labels)\n",
    "some_data_prepared = full_pipeline.transform(some_data)\n",
    "print(\"Predictions:\", \"\\n\",lin_reg.predict(some_data_prepared),\"\\n\",tree_reg.predict(some_data_prepared))\n",
    "print(\"Labels:\",list(some_labels))"
   ]
  },
  {
   "cell_type": "markdown",
   "metadata": {},
   "source": [
    "An dieser Stelle unterscheidet man, ob der Datensatz aus zusammenhängende Daten, z.B. Zeitreihen, besteht, oder nicht.  Ein Hauptgrund für den Split in Trainingsdaten und Testdaten ist [<b>overfitting</b>](https://elitedatascience.com/overfitting-in-machine-learning).\n",
    "* <b>kein Zusammenhang:</b><br>\n",
    "Die unten stehende Funktion mischt den Datensatz zufällig durch und teilt ihn in einen Traings- und Validationdatensatz entsprechend der gewünschten ratio. Hier müsste man nun das Modell gegen das Trainingsset trainieren und dann gegen das Validationsset evaluieren. "
   ]
  },
  {
   "cell_type": "code",
   "execution_count": null,
   "metadata": {},
   "outputs": [],
   "source": [
    "def split_train_test_shuffle(data,test_ratio):\n",
    "    shuffeled_indices = np.random.permutation(len(data))\n",
    "    test_set_size = int(len(data)*test_ratio)\n",
    "    test_indices = shuffled_indices[:test_set_size]\n",
    "    train_indices = shuffled_indices[test_set_size:]\n",
    "    return data.iloc[train_indices], data.iloc[test_indices]\n",
    "\n",
    "train_set, test_set = split_train_test_shuffle(housing,0.2)"
   ]
  },
  {
   "cell_type": "markdown",
   "metadata": {},
   "source": [
    "Um den Datensatz in kleinere training sets und einen validation set zu splitten, bietet `Scikit-Learn` das Feature `K-fold cross-validation`. Der folgende Code teilt den Datensatz zufällig in 10 disjunkte subsets, sogenannte `folds`. Dann wird das Modell mit 9 folds trainiert und mit einem fold wird evaluiert. "
   ]
  },
  {
   "cell_type": "code",
   "execution_count": 136,
   "metadata": {},
   "outputs": [
    {
     "name": "stdout",
     "output_type": "stream",
     "text": [
      "Result: [ 68.74610823 131.76878879  97.509368    61.74965642  99.92655159\n",
      "  67.54197767  74.92858404  61.47159287 120.51041717  67.65059523]\n",
      "Mean: 85.18036400119863\n",
      "Standard deviation: 24.27517554110687\n"
     ]
    }
   ],
   "source": [
    "from sklearn.model_selection import cross_val_score\n",
    "import numpy as np\n",
    "result = cross_val_score(tree_reg, housing_prepared, housing_labels, scoring=\"neg_mean_squared_error\", cv=10)\n",
    "x = np.sqrt(-result)\n",
    "\n",
    "def display_result(result):\n",
    "    print(\"Result:\", result)\n",
    "    print(\"Mean:\", result.mean())\n",
    "    print(\"Standard deviation:\", result.std())\n",
    "    \n",
    "display_result(x)"
   ]
  },
  {
   "cell_type": "markdown",
   "metadata": {},
   "source": [
    "Die Funktion `sklearn.model_selection.train_test_split()` teilt das Array oder die Matrix in zufällige Trainings-und Testsubsets auf."
   ]
  },
  {
   "cell_type": "code",
   "execution_count": 137,
   "metadata": {},
   "outputs": [
    {
     "name": "stdout",
     "output_type": "stream",
     "text": [
      "18586    192200.0\n",
      "9925     258900.0\n",
      "12834     94900.0\n",
      "15768    476900.0\n",
      "19789     66000.0\n",
      "           ...   \n",
      "8795     500001.0\n",
      "14548    370500.0\n",
      "13356    175400.0\n",
      "577      412500.0\n",
      "16805    246700.0\n",
      "Name: median_house_value, Length: 16345, dtype: float64 6316     302400.0\n",
      "4612     300000.0\n",
      "20099     79400.0\n",
      "2680      63700.0\n",
      "9983     300000.0\n",
      "           ...   \n",
      "3616     153900.0\n",
      "12917    195400.0\n",
      "268      164400.0\n",
      "1102      67500.0\n",
      "16591    208100.0\n",
      "Name: median_house_value, Length: 4087, dtype: float64\n"
     ]
    }
   ],
   "source": [
    "from sklearn.model_selection import train_test_split\n",
    "housing_labels_train, housing_labels_test = train_test_split(housing_labels, test_size=0.2)\n",
    "print(housing_labels_train, housing_labels_test)"
   ]
  },
  {
   "cell_type": "markdown",
   "metadata": {},
   "source": [
    "* <b>Zusammenhang:</b><br>\n",
    "Den Datensatz kann man über eine simple, selbst definierte Funktion ohne Permutationen aufsplitten. Dafür wurde die oben stehende Funktion `split_train_test_shuffle()` umgeschrieben."
   ]
  },
  {
   "cell_type": "code",
   "execution_count": 138,
   "metadata": {},
   "outputs": [],
   "source": [
    "def split_train_test(data,test_ratio):\n",
    "    test_set_size = int(len(data)*test_ratio)\n",
    "    return data.iloc[:test_set_size], data.iloc[test_set_size:]\n",
    "\n",
    "\n",
    "train_set, test_set = split_train_test(housing,0.2)"
   ]
  },
  {
   "cell_type": "markdown",
   "metadata": {},
   "source": [
    "Eine bessere Alternative ist, dass *cross-validation* Feature [`sklearn.model_selection.KFold`](https://scikit-learn.org/stable/modules/generated/sklearn.model_selection.KFold.html) für zusammenhängenden Daten zu nutzen. Hier wird der Datensatz wieder in 10 aufeinander folgende *folds* aufgetrennt (ohne Permutation/shuffle als default). Jeder *fold* wird dann einmal als validation set genutzt, während die übrigen 9 das trainings set bilden. Die unten stehende Grafik dient zur Veranschaulichung des Splits bei 4 *folds*. "
   ]
  },
  {
   "attachments": {
    "grafik-2.png": {
     "image/png": "[encoded data removed]"
    }
   },
   "cell_type": "markdown",
   "metadata": {},
   "source": [
    "![grafik-2.png](attachment:grafik-2.png)"
   ]
  },
  {
   "cell_type": "code",
   "execution_count": 139,
   "metadata": {},
   "outputs": [
    {
     "name": "stdout",
     "output_type": "stream",
     "text": [
      "TRAIN: [ 2044  2045  2046 ... 20429 20430 20431] TEST: [   0    1    2 ... 2041 2042 2043]\n",
      "TRAIN: [    0     1     2 ... 20429 20430 20431] TEST: [2044 2045 2046 ... 4085 4086 4087]\n",
      "TRAIN: [    0     1     2 ... 20429 20430 20431] TEST: [4088 4089 4090 ... 6128 6129 6130]\n",
      "TRAIN: [    0     1     2 ... 20429 20430 20431] TEST: [6131 6132 6133 ... 8171 8172 8173]\n",
      "TRAIN: [    0     1     2 ... 20429 20430 20431] TEST: [ 8174  8175  8176 ... 10214 10215 10216]\n",
      "TRAIN: [    0     1     2 ... 20429 20430 20431] TEST: [10217 10218 10219 ... 12257 12258 12259]\n",
      "TRAIN: [    0     1     2 ... 20429 20430 20431] TEST: [12260 12261 12262 ... 14300 14301 14302]\n",
      "TRAIN: [    0     1     2 ... 20429 20430 20431] TEST: [14303 14304 14305 ... 16343 16344 16345]\n",
      "TRAIN: [    0     1     2 ... 20429 20430 20431] TEST: [16346 16347 16348 ... 18386 18387 18388]\n",
      "TRAIN: [    0     1     2 ... 18386 18387 18388] TEST: [18389 18390 18391 ... 20429 20430 20431]\n"
     ]
    }
   ],
   "source": [
    "from sklearn.model_selection import KFold\n",
    "kf = KFold(n_splits=10)\n",
    "X = housing_labels \n",
    "for train_index, test_index in kf.split(X):\n",
    "    print(\"TRAIN:\", train_index, \"TEST:\", test_index)\n",
    "    X_train, X_test = X.iloc[train_index], X.iloc[test_index]"
   ]
  },
  {
   "cell_type": "markdown",
   "metadata": {},
   "source": [
    "Beachten Sie, dass bei Zeitreihen dadurch auch ältere Daten mit aktuelleren Daten trainiert werden. Eine Funktion, mit der man dieses Problem umgehen kann, nennt sich [`sklearn.model_selection.TimeSeriesSplit`](https://scikit-learn.org/stable/modules/generated/sklearn.model_selection.TimeSeriesSplit.html). Diese Anwendung ist eine Variation von `KFold`, bei dem in jedem Split die Testindices größer als zuvor sind und immer größer als die Trainingsindices sind. Im k-ten Split werden die ersten k *folds* als trainings set und der (k+1)-te *fold* als test set zurückgegeben. Die unten stehende Grafik dient zur Veranschaulichung des Splits bei 4 *folds*. Weitere Veranschaulichungen zu anderen Splits von `Scikit-Learn` finden Sie [hier](https://scikit-learn.org/stable/auto_examples/model_selection/plot_cv_indices.html#sphx-glr-auto-examples-model-selection-plot-cv-indices-py)."
   ]
  },
  {
   "attachments": {
    "grafik.png": {
     "image/png": "[encoded data removed]"
    }
   },
   "cell_type": "markdown",
   "metadata": {},
   "source": [
    "![grafik.png](attachment:grafik.png)"
   ]
  },
  {
   "cell_type": "code",
   "execution_count": 140,
   "metadata": {},
   "outputs": [
    {
     "name": "stdout",
     "output_type": "stream",
     "text": [
      "TRAIN: [0] TEST: [1]\n",
      "TRAIN: [0 1] TEST: [2]\n",
      "TRAIN: [0 1 2] TEST: [3]\n",
      "TRAIN: [0 1 2 3] TEST: [4]\n",
      "TRAIN: [0 1 2 3 4] TEST: [5]\n"
     ]
    }
   ],
   "source": [
    "from sklearn.model_selection import TimeSeriesSplit\n",
    "X = np.array([1, 2, 3, 4, 5, 6])\n",
    "tscv = TimeSeriesSplit()\n",
    "\n",
    "for train_index, test_index in tscv.split(X):\n",
    "    print(\"TRAIN:\", train_index, \"TEST:\", test_index)\n",
    "    X_train, X_test = X[train_index], X[test_index] "
   ]
  },
  {
   "cell_type": "markdown",
   "metadata": {},
   "source": [
    "### Fine-Tuning mit `Grid Search`"
   ]
  },
  {
   "cell_type": "markdown",
   "metadata": {},
   "source": [
    "`Scikit Learn`'s `Grid Search` ermöglicht uns, Hyperparameteroptimierung durchzuführen. Man übergibt der Funktion Hyperparameter, die man bestimmen möchte, und Werte, die man als Hyperparameter ausprobieren möchte. Dann nutzt die Funktion *cross-validation*, um mögliche Kombinationen zu evaluieren. Als Beispiel verwenden wir dafür einen `RandomForestRegressor`, dessen Hyperparameter wir optimieren möchten."
   ]
  },
  {
   "cell_type": "code",
   "execution_count": 141,
   "metadata": {},
   "outputs": [
    {
     "data": {
      "text/plain": [
       "RandomForestRegressor()"
      ]
     },
     "execution_count": 141,
     "metadata": {},
     "output_type": "execute_result"
    }
   ],
   "source": [
    "from sklearn.ensemble import RandomForestRegressor\n",
    "forest_reg = RandomForestRegressor()\n",
    "forest_reg.fit(housing_prepared, housing_labels)"
   ]
  },
  {
   "cell_type": "code",
   "execution_count": 142,
   "metadata": {},
   "outputs": [
    {
     "data": {
      "text/plain": [
       "GridSearchCV(cv=5, estimator=RandomForestRegressor(),\n",
       "             param_grid=[{'max_features': [2, 4, 6, 8],\n",
       "                          'n_estimators': [3, 10, 30]},\n",
       "                         {'bootstrap': [False], 'max_features': [2, 3, 4],\n",
       "                          'n_estimators': [3, 10]}],\n",
       "             return_train_score=True, scoring='neg_mean_squared_error')"
      ]
     },
     "execution_count": 142,
     "metadata": {},
     "output_type": "execute_result"
    }
   ],
   "source": [
    "from sklearn.model_selection import GridSearchCV\n",
    "\n",
    "param_grid = [\n",
    "    {'n_estimators': [3,10,30], 'max_features': [2,4,6,8]},\n",
    "    {'bootstrap': [False], 'n_estimators': [3,10], 'max_features':[2,3,4]},\n",
    "]\n",
    "\n",
    "forest_reg = RandomForestRegressor()\n",
    "\n",
    "grid_search = GridSearchCV(forest_reg, param_grid, cv=5, \n",
    "                           scoring='neg_mean_squared_error', \n",
    "                           return_train_score=True)\n",
    "\n",
    "grid_search.fit(housing_prepared, housing_labels)"
   ]
  },
  {
   "cell_type": "markdown",
   "metadata": {},
   "source": [
    "Die Variable `param_grid` sagt `Scikit-Learn`, dass alle 3x4 = 12 Kombinationen von `n_estimators` und `max_features` Hyperparametern im ersten *dict* evaluiert werden sollen, dann werden alle 2x4 = 6 Kombinationen von Hyperparametern im zweiten *dict* ausgetestet, aber diesmal mit dem *bootstrap* Hyperparameter `False`, anstelle von *default* `True`. Dadurch werden 12+6 = 18 Kombinationen von Hyperparamtern für den `RandomForestRegressor` ausgetestet. Anschließend trainieren wir jedes Modell 5 mal; das bedeutet, dass ingesamt 18x5 = 90 Runden trainiert wird. Man erhält die Ergebnisse der Evaluation und die beste Kombination an Parametern wie folgt:"
   ]
  },
  {
   "cell_type": "code",
   "execution_count": 143,
   "metadata": {},
   "outputs": [
    {
     "name": "stdout",
     "output_type": "stream",
     "text": [
      "41575.16081022382 {'max_features': 2, 'n_estimators': 3}\n",
      "30072.74665949688 {'max_features': 2, 'n_estimators': 10}\n",
      "27929.849585580527 {'max_features': 2, 'n_estimators': 30}\n",
      "20218.553657568704 {'max_features': 4, 'n_estimators': 3}\n",
      "13508.892548652342 {'max_features': 4, 'n_estimators': 10}\n",
      "10951.580445275862 {'max_features': 4, 'n_estimators': 30}\n",
      "10703.498504113837 {'max_features': 6, 'n_estimators': 3}\n",
      "5438.097956885715 {'max_features': 6, 'n_estimators': 10}\n",
      "4663.656438337039 {'max_features': 6, 'n_estimators': 30}\n",
      "5467.629668400616 {'max_features': 8, 'n_estimators': 3}\n",
      "3020.949379973575 {'max_features': 8, 'n_estimators': 10}\n",
      "1727.109242008895 {'max_features': 8, 'n_estimators': 30}\n",
      "42353.48243077762 {'bootstrap': False, 'max_features': 2, 'n_estimators': 3}\n",
      "28688.07915724774 {'bootstrap': False, 'max_features': 2, 'n_estimators': 10}\n",
      "25933.61776394167 {'bootstrap': False, 'max_features': 3, 'n_estimators': 3}\n",
      "17267.76332881727 {'bootstrap': False, 'max_features': 3, 'n_estimators': 10}\n",
      "24401.02852002069 {'bootstrap': False, 'max_features': 4, 'n_estimators': 3}\n",
      "12106.29708921769 {'bootstrap': False, 'max_features': 4, 'n_estimators': 10}\n"
     ]
    }
   ],
   "source": [
    "cvres = grid_search.cv_results_\n",
    "for mean_score, params in zip(cvres[\"mean_test_score\"], cvres[\"params\"]):\n",
    "    print(np.sqrt(-mean_score), params)"
   ]
  },
  {
   "cell_type": "markdown",
   "metadata": {},
   "source": [
    "Ferner erhält man auch den `best_estimator` und die beste Parameterkombination direkt:"
   ]
  },
  {
   "cell_type": "code",
   "execution_count": 144,
   "metadata": {},
   "outputs": [
    {
     "name": "stdout",
     "output_type": "stream",
     "text": [
      "RandomForestRegressor(max_features=8, n_estimators=30)\n",
      "{'max_features': 8, 'n_estimators': 30}\n"
     ]
    }
   ],
   "source": [
    "print(grid_search.best_estimator_)\n",
    "print(grid_search.best_params_)"
   ]
  },
  {
   "cell_type": "markdown",
   "metadata": {},
   "source": [
    "### Randomisierte Suche"
   ]
  },
  {
   "cell_type": "markdown",
   "metadata": {},
   "source": [
    "Der `Grid Search`-Ansatz ist gut, wenn es darum geht, relativ wenige Kombinationen auszuprobieren, aber wenn Wertebereich für die Hyperparamter groß ist, ist `RandomizedSearchCV` von Vorteil. Diese Klasse funktioniert ähnlich wie `GridSearchCV`, allerdings testet es nicht alle Kombinationen, sondern evaluiert eine bestimmte Zahl an zufälligen Kombinationen, indem es zufällige Werte jedes Hyperparamters für jeden Iteration auswählt."
   ]
  },
  {
   "cell_type": "markdown",
   "metadata": {},
   "source": [
    "# 5. Backtests"
   ]
  },
  {
   "cell_type": "markdown",
   "metadata": {},
   "source": [
    "Beim Backtesting wird das Modell mit historischen Daten evaluiert. Dafür können unterschiedliche Fehlermaße verwendet werden. Fehlermaße sind wichtig zur Einschätzung der Güte eines Modells. \n",
    "* Um den `RMSE` ([Root-mean-square error](https://en.wikipedia.org/wiki/Root-mean-square_deviation), Wurzel aus dem mittleren quatratischen Fehler) des Regressionsmodells zu bestimmen, kann man die Funktion `mean_squared_error()` verwenden:"
   ]
  },
  {
   "cell_type": "code",
   "execution_count": 145,
   "metadata": {},
   "outputs": [
    {
     "data": {
      "text/plain": [
       "7.579592886754806e-10"
      ]
     },
     "execution_count": 145,
     "metadata": {},
     "output_type": "execute_result"
    }
   ],
   "source": [
    "from sklearn.metrics import mean_squared_error\n",
    "\n",
    "housing_predictions = lin_reg.predict(housing_prepared)\n",
    "lin_mse = mean_squared_error(housing_labels, housing_predictions) #liefert mean-square-error, kurz MSE\n",
    "lin_rmse = np.sqrt(lin_mse)\n",
    "lin_rmse"
   ]
  },
  {
   "cell_type": "markdown",
   "metadata": {},
   "source": [
    "* Den `mean_absolute_percentage_error`, kurz `MAPE`, kann man über diese Funktion bestimmen: "
   ]
  },
  {
   "cell_type": "code",
   "execution_count": 146,
   "metadata": {},
   "outputs": [
    {
     "data": {
      "text/plain": [
       "4.385285018910247e-13"
      ]
     },
     "execution_count": 146,
     "metadata": {},
     "output_type": "execute_result"
    }
   ],
   "source": [
    "def mean_absolute_percentage_error(y_true, y_pred):\n",
    "    return np.mean(np.abs((y_true - y_pred) / y_true)) * 100\n",
    "    \n",
    "lin_mape = mean_absolute_percentage_error(housing_labels, housing_predictions)\n",
    "lin_mape"
   ]
  },
  {
   "cell_type": "markdown",
   "metadata": {},
   "source": [
    "* Ergebnisse für den `RandomForestRegressor` oder den `DecisionTreeRegressor` erhält man analog. "
   ]
  },
  {
   "cell_type": "code",
   "execution_count": 147,
   "metadata": {},
   "outputs": [
    {
     "name": "stdout",
     "output_type": "stream",
     "text": [
      "18.47519913506921\n",
      "0.004225668537066166\n",
      "0.0\n",
      "0.0\n"
     ]
    }
   ],
   "source": [
    "#RandomForestRegressor\n",
    "forest_reg.fit(housing_prepared, housing_labels)\n",
    "housing_predictions = forest_reg.predict(housing_prepared)\n",
    "forest_mse = mean_squared_error(housing_labels, housing_predictions)\n",
    "forest_rmse = np.sqrt(forest_mse)\n",
    "print(forest_rmse)\n",
    "\n",
    "forest_mape = mean_absolute_percentage_error(housing_labels, housing_predictions)\n",
    "print(forest_mape)\n",
    "\n",
    "# DecisionTreeRegressor\n",
    "tree_reg.fit(housing_prepared, housing_labels)\n",
    "housing_predictions = tree_reg.predict(housing_prepared)\n",
    "tree_mse = mean_squared_error(housing_labels, housing_predictions)\n",
    "tree_rmse = np.sqrt(tree_mse)\n",
    "print(tree_rmse)\n",
    "\n",
    "tree_mape = mean_absolute_percentage_error(housing_labels, housing_predictions)\n",
    "print(tree_mape)"
   ]
  }
 ],
 "metadata": {
  "kernelspec": {
   "display_name": "Python 3",
   "language": "python",
   "name": "python3"
  },
  "language_info": {
   "codemirror_mode": {
    "name": "ipython",
    "version": 3
   },
   "file_extension": ".py",
   "mimetype": "text/x-python",
   "name": "python",
   "nbconvert_exporter": "python",
   "pygments_lexer": "ipython3",
   "version": "3.8.5"
  }
 },
 "nbformat": 4,
 "nbformat_minor": 2
}