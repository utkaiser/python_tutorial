{
 "cells": [
  {
   "cell_type": "markdown",
   "metadata": {},
   "source": [
    "# 5.5 Umgang mit Daten in `Pandas`: Aufgaben"
   ]
  },
  {
   "cell_type": "markdown",
   "metadata": {},
   "source": [
    "## 1. Aufgabe"
   ]
  },
  {
   "cell_type": "markdown",
   "metadata": {},
   "source": [
    "a) \n",
    "Lese die Datei `mtcars2` ein und speichere sie als `csv`-Datei. Gebe den oberen und unteren Bereich der Tabelle aus, um zu überprüfen, ob die `csv`-Datei korrekt eingelesen wurde.\n",
    "\n",
    "b)\n",
    "Beantworte folgende Fragen:\n",
    "1. Wie heißt das Modell des 31. Autos in der Tabelle?\n",
    "2. Wie oft wurde das 30. Auto verkauft?\n",
    "3. In welchem Jahr wurde das 34. Auto das erste Mal verkauft.\n",
    "\n",
    "(Tipp: Es reicht nicht, einfach das gesamte `Pandas.DataFrame` auszugeben um die Werte abzulesen. Der gesuchte Bereich wird nämlich nicht angezeigt.<br>\n",
    "Achte außerdem auf die richtige Indexwahl)\n",
    "\n",
    "c)\n",
    "1. Gebe ein `Dataframe` aus, das die beiden Spalten `Model` und `Sales` enthält.\n",
    "2. Gebe einen `Series` aus, der als Index die `Autonamen` und als Werte die `Sales` besitzt.\n",
    "\n",
    "d) \n",
    "Bearbeite die Daten:\n",
    "1. Füge in das oben stehende `Dataframe` eine zusätzliche Spalte `Verfügbarkeit` ein, in der jeder Eintrag lautet: `noch vorrätig`\n",
    "2. Das Auto `Porsche 914-2` ist ausverkauft. Hinterlege das in deinem `Dataframe`.\n",
    "\n",
    "e) \n",
    "Visualisiere das `Dataframe`:<br>\n",
    "Gebe eine Grafik aus, die zu den ersten fünf Modellen die Verkaufszahl anzeigt. Beschrifte außerdem die Achsen."
   ]
  },
  {
   "cell_type": "code",
   "execution_count": null,
   "metadata": {},
   "outputs": [],
   "source": []
  },
  {
   "cell_type": "code",
   "execution_count": null,
   "metadata": {},
   "outputs": [],
   "source": []
  },
  {
   "cell_type": "code",
   "execution_count": null,
   "metadata": {},
   "outputs": [],
   "source": []
  }
 ],
 "metadata": {
  "kernelspec": {
   "display_name": "Python 3",
   "language": "python",
   "name": "python3"
  },
  "language_info": {
   "codemirror_mode": {
    "name": "ipython",
    "version": 3
   },
   "file_extension": ".py",
   "mimetype": "text/x-python",
   "name": "python",
   "nbconvert_exporter": "python",
   "pygments_lexer": "ipython3",
   "version": "3.8.5"
  }
 },
 "nbformat": 4,
 "nbformat_minor": 2
}
