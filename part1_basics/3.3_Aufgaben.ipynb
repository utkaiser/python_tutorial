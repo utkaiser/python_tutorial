{
 "cells": [
  {
   "cell_type": "markdown",
   "metadata": {},
   "source": [
    "# 3. Datentypen: Aufgaben"
   ]
  },
  {
   "cell_type": "markdown",
   "metadata": {},
   "source": [
    "## 1. Aufgabe: Variablennamen"
   ]
  },
  {
   "cell_type": "markdown",
   "metadata": {},
   "source": [
    "Welche der folgenden Variablennamen sind gültig, welche nicht?"
   ]
  },
  {
   "cell_type": "markdown",
   "metadata": {},
   "source": [
    "a) Antwort_23<br>\n",
    "b) deine‑antwort<br>\n",
    "c) Deine2teAntwort<br>\n",
    "d) ja,nein_variable"
   ]
  },
  {
   "cell_type": "markdown",
   "metadata": {},
   "source": [
    "## 2. Aufgabe: Variablen und Umformungen"
   ]
  },
  {
   "cell_type": "markdown",
   "metadata": {},
   "source": [
    "Gegeben ist ein Array mit unterschiedlichen Datendatentyp.<br>\n",
    "Berechne die Summe der Zahlen in diesem Array indem du jeden Wert einzeln ausliest und dann die Summe berechnest. Gebe das Ergebnis zuerst als float, dann als integer und dann nochmal als float aus und führe die Typumwandlungen auf zwei verschiedenen Art und Weisen durch."
   ]
  },
  {
   "cell_type": "code",
   "execution_count": 20,
   "metadata": {},
   "outputs": [],
   "source": [
    "array = [5,-7,\"9\", \"1.2\",1.0]"
   ]
  },
  {
   "cell_type": "code",
   "execution_count": null,
   "metadata": {},
   "outputs": [],
   "source": []
  },
  {
   "cell_type": "markdown",
   "metadata": {},
   "source": [
    "## 3. Aufgabe: Listen"
   ]
  },
  {
   "cell_type": "markdown",
   "metadata": {},
   "source": [
    "### 3.1 \n",
    "Erstelle ein Array mit den Werten: 2,4,6,7<br>\n",
    "a) Gebe die Länge des Arrays aus.<br>\n",
    "b) Gebe die Zahl an der letzten Stelle des Arrays aus.<br>\n",
    "c) Bilde eine Teilliste des Arrays aus den erste 3 Zahlen. Ändere von diesem neuen Array die erste Zahl:<br>\n",
    "Ordne ihr die Zahl 10 zu. Gebe das neue Array aus."
   ]
  },
  {
   "cell_type": "code",
   "execution_count": null,
   "metadata": {},
   "outputs": [],
   "source": []
  },
  {
   "cell_type": "markdown",
   "metadata": {},
   "source": [
    "### 3.2\n",
    "\n",
    "Erstelle ein neues Arrays mit den Werten: \"a\",1,2,3,4,100,\"c\",5,6,7,\"c\"<br>\n",
    "a) Speichere alle `int`-Werte dieses Arrays in ein neues Array ab. (Nutze slicing)<br>\n",
    "b) Entferne die Zahl 100 und den String \"c\".<br>\n",
    "c) Führe die Zahlenfolge bis 10 fort. Füge dazu die fehlenden Zahlen an das Array hinzu.<br>"
   ]
  },
  {
   "cell_type": "code",
   "execution_count": null,
   "metadata": {},
   "outputs": [],
   "source": []
  },
  {
   "cell_type": "code",
   "execution_count": null,
   "metadata": {},
   "outputs": [],
   "source": []
  },
  {
   "cell_type": "markdown",
   "metadata": {},
   "source": [
    "### 4. Tupel und Mehrdimensionale Arrays"
   ]
  },
  {
   "cell_type": "markdown",
   "metadata": {},
   "source": [
    "In Python lassen sich mehrdimensionale Arrays realisieren. Das folgende Array zeigt an, in welcher Kiste sich welcher Gegenstand befindet:"
   ]
  },
  {
   "cell_type": "code",
   "execution_count": 14,
   "metadata": {},
   "outputs": [
    {
     "name": "stdout",
     "output_type": "stream",
     "text": [
      "1\n",
      "Zange\n",
      "Luftpumpe\n"
     ]
    }
   ],
   "source": [
    "mehrdim = [[1,\"Hammer\",\"Ball\"],[2,\"Schlüssel\",\"Zange\"],[3, \"CD\", \"Luftpumpe\"]]\n",
    "print(mehrdim[0][0])\n",
    "print(mehrdim[1][2])\n",
    "print(mehrdim[2][2])"
   ]
  },
  {
   "cell_type": "markdown",
   "metadata": {},
   "source": [
    "Wir wollen nun die Plazierungen eines Wettkampf in einem Array speichern.<br>\n",
    "a) Erstelle folgende Datentypen und Datenstrukturen:\n",
    "1. Eintrag: Gold, Silber, Bronze\n",
    "2. Eintrag: enthält ein 3er Tripel (3er Tupel). Ein Tripel besteht aus Name, Größe (`float`) und Alter. Dieser Tripel stellt eine Person dar. Erstellen Sie 3 Tripel:\n",
    "    * Person 1: Peter, 1.90, 25\n",
    "    * Person 2: Hans, 1.75, 23\n",
    "    * Person 3: Ingo, 1.82, 33\n",
    "\n",
    "b) Erstelle jetzt ein mehrdimensionales Array, welches die Plazierungen des Wettkampfs deutlich macht.<br>\n",
    "c) Gebe außerdem den Erstplazierten wie folgt aus: ---- erhält die --- Medaille.\n",
    "(rufe dafür die Stelle im Array auf)"
   ]
  },
  {
   "cell_type": "code",
   "execution_count": null,
   "metadata": {},
   "outputs": [],
   "source": []
  },
  {
   "cell_type": "markdown",
   "metadata": {},
   "source": [
    "### 5. Zeitangaben und Slicing"
   ]
  },
  {
   "cell_type": "markdown",
   "metadata": {},
   "source": [
    "Strings lassen sich ebenfalls slicen. Dabei wird jeder Buchstabe eines Strings als Stelle im Array gesehen.\n",
    "Hier ein Bsp.:"
   ]
  },
  {
   "cell_type": "code",
   "execution_count": 18,
   "metadata": {},
   "outputs": [
    {
     "name": "stdout",
     "output_type": "stream",
     "text": [
      "Hal\n"
     ]
    }
   ],
   "source": [
    "print(\"Hallo\"[:3])"
   ]
  },
  {
   "cell_type": "markdown",
   "metadata": {},
   "source": [
    "a) In der folgenden Zelle steht ein Satz. Bitte wähle den Substring (Teilstring) aus, der die Datumsangabe enthält, speichere  diese Datumsangabe und gebe sie wie folgt aus: `dd.mm.yyyy`"
   ]
  },
  {
   "cell_type": "code",
   "execution_count": 19,
   "metadata": {},
   "outputs": [],
   "source": [
    "satz = \"Ich vermute, dass wir 2020, 10.08., einen wichtigen Termin haben.\""
   ]
  },
  {
   "cell_type": "code",
   "execution_count": null,
   "metadata": {},
   "outputs": [],
   "source": []
  },
  {
   "cell_type": "markdown",
   "metadata": {},
   "source": [
    "Tipp: nutze die Methode `index()`, um den Substring zu bilden."
   ]
  },
  {
   "cell_type": "markdown",
   "metadata": {},
   "source": [
    "b) Wie viele Tage liegen zwischen heute und dem Datum aus dem Satz?"
   ]
  },
  {
   "cell_type": "code",
   "execution_count": null,
   "metadata": {},
   "outputs": [],
   "source": []
  }
 ],
 "metadata": {
  "kernelspec": {
   "display_name": "Python 3",
   "language": "python",
   "name": "python3"
  },
  "language_info": {
   "codemirror_mode": {
    "name": "ipython",
    "version": 3
   },
   "file_extension": ".py",
   "mimetype": "text/x-python",
   "name": "python",
   "nbconvert_exporter": "python",
   "pygments_lexer": "ipython3",
   "version": "3.8.5"
  }
 },
 "nbformat": 4,
 "nbformat_minor": 2
}
