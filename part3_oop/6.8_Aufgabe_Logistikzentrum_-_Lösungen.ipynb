{
 "cells": [
  {
   "cell_type": "code",
   "execution_count": 26,
   "metadata": {},
   "outputs": [],
   "source": [
    "from abc import ABC, abstractmethod\n",
    "import pandas as pd\n",
    "import os\n",
    "path = os.path.dirname(os.path.dirname(os.path.dirname(os.getcwd())))+r\"\\Repositories\\Python_Tutorial\\data\"\n",
    "class Artikel(ABC):\n",
    "    @abstractmethod\n",
    "    def __init__(self,verkäufe):\n",
    "        self.verkäufe = verkäufe\n",
    "    @abstractmethod\n",
    "    def getPreis(self):\n",
    "        pass\n",
    "\n",
    "class CD(Artikel):\n",
    "    def __init__(self,bands,verkäufe,gründung):\n",
    "        self.bands = bands\n",
    "        Artikel.__init__(self,verkäufe)\n",
    "        self.gründung = gründung\n",
    "        self.preis = 10 #Klassenvariable\n",
    "    def getPreis(self):\n",
    "        return self.preis\n",
    "    \n",
    "class Auto(Artikel):\n",
    "    def __init__(self,modell,baujahr,verkäufe):\n",
    "        self.modell = modell\n",
    "        self.baujahr = baujahr\n",
    "        Artikel.__init__(self,verkäufe)\n",
    "        self.preis = 450 #Klassenvariable\n",
    "    def getPreis(self):\n",
    "        return self.preis\n",
    "\n",
    "class Artikelliste:\n",
    "    \n",
    "    def __init__(self):\n",
    "        self.liste = []\n",
    "    def artikel_hinzufügen(self,artikel):\n",
    "        self.liste.append(artikel)\n",
    "    def CD_liste_einlesen(self):\n",
    "        df = pd.read_csv(path+r\"\\Musik1.csv\", delimiter=\",\", encoding='latin-1')\n",
    "        for i in range(0,len(df)):\n",
    "            x = CD(df.iat[i,0],df.iat[i,1],df.iat[i,2])\n",
    "            self.artikel_hinzufügen(x)   \n",
    "    def Auto_liste_einlesen(self):\n",
    "        df = pd.read_csv(path+\"\\mtcars2.csv\", delimiter=\";\", encoding='latin-1')\n",
    "        for i in range(0,len(df)):\n",
    "            self.artikel_hinzufügen(Auto(df.iat[i,0],df.iat[i,1],df.iat[i,2]))\n",
    "    def summe(self):\n",
    "        summe = 0\n",
    "        for artikel in self.liste:\n",
    "            summe = summe + artikel.preis\n",
    "        return summe\n",
    "    def getEintrag(self,index):\n",
    "        return self.liste[index]     \n",
    "\n",
    "class Lager:\n",
    "    def __init__(self):\n",
    "        artikelliste = Artikelliste()\n",
    "        artikelliste.CD_liste_einlesen()\n",
    "        artikelliste.Auto_liste_einlesen()\n",
    "        self.lagerliste = artikelliste\n",
    "    def artikel_verfügbar(self,artikel):\n",
    "        if artikel in self.lagerliste.liste:\n",
    "            return True\n",
    "        else:\n",
    "            return False\n",
    "    def artikel_löschen(self,artikel):\n",
    "        if Lager.artikel_verfügbar(self,artikel):\n",
    "            self.lagerliste.liste.remove(artikel)\n",
    "        else:\n",
    "            print(\"Dieser Artikel ist leider nicht vorrätig\")\n",
    "    def getObjektanzahl(self):\n",
    "        return len(self.lagerliste.liste)\n",
    "    def getLagerwert(self):\n",
    "        return self.lagerliste.summe()\n",
    "\n",
    "class Person:\n",
    "    def __init__(self, name, geburtsdatum, land):\n",
    "        self.name = name\n",
    "        self.geburtsdatum = geburtsdatum\n",
    "        self.land = land\n",
    "        \n",
    "class Mitarbeiter(Person):\n",
    "    def __init__(self,name,geburtsdatum,land,größe):\n",
    "        Person.__init__(self,name,geburtsdatum,land)\n",
    "        self.größe = größe\n",
    "    def bearbeite_auftrag(self,artikelliste,lager):\n",
    "        for artikel in artikelliste.liste:\n",
    "            lager.artikel_löschen(artikel)\n",
    "    def getName(self):\n",
    "        return self.name\n",
    "    \n",
    "class Kunde(Person):\n",
    "    def __init__(self,name,geburtsdatum,land):\n",
    "        Person.__init__(self,name,geburtsdatum,land)\n",
    "        self.kontostand = 1000 #jeder Kunde zu Beginn 1000€\n",
    "    def kaufen(self,*args):\n",
    "        if len(args)==3:\n",
    "            self.kaufen1(args[0],args[1],args[2])\n",
    "        elif len(args) == 4:\n",
    "            self.kaufen2(args[0],args[1],args[2],args[3])\n",
    "        else:\n",
    "            print(\"Falsche Eingabe 1\")\n",
    "    def kaufen1(self,lager,artikelliste,mitarbeiter):\n",
    "        mitarbeiter.bearbeite_auftrag(artikelliste,lager)\n",
    "        self.kontostand = self.kontostand - artikelliste.summe()\n",
    "    def kaufen2(self,lager, artikelliste,mitarbeiter,gutscheincode):\n",
    "        if (gutscheincode == \"GutscheinA\"):\n",
    "            self.kontostand += 100\n",
    "            self.kaufen1(artikelliste,mitarbeiter)\n",
    "        elif (gutscheincode == \"GutscheinB\"):\n",
    "            mitarbeiter.bearbeite_auftrag(artikelliste,lager)\n",
    "            self.kontostand = self.kontostand - artikelliste.summe()*0.5\n",
    "        else:\n",
    "            print(\"Falsche Eingabe 2\")\n",
    "    def getName(self):\n",
    "        return self.name\n",
    "            \n",
    "class Personenliste:\n",
    "    \n",
    "    def __init__(self):\n",
    "        self.liste = []\n",
    "    def person_hinzufügen(self,person):\n",
    "        self.liste.append(person)\n",
    "    def Mitarbeiter_liste_einlesen(self):\n",
    "        df = pd.read_csv(path+\"\\Personen2.csv\", delimiter=\";\", encoding='latin-1')\n",
    "        for i in range(0,len(df)):\n",
    "            self.person_hinzufügen(Mitarbeiter(df.iat[i,0],df.iat[i,3],df.iat[i,1],df.iat[i,2]))\n",
    "    def Kunden_liste_einlesen(self):\n",
    "        df = pd.read_csv(path+\"\\Kunden.csv\", delimiter=\";\", encoding='latin-1')\n",
    "        for i in range(0,len(df)):\n",
    "            self.person_hinzufügen(Kunde(df.iat[i,0],df.iat[i,1],df.iat[i,2]))\n",
    "    def getEintrag(self,index):\n",
    "        return self.liste[index]"
   ]
  },
  {
   "cell_type": "code",
   "execution_count": 27,
   "metadata": {},
   "outputs": [
    {
     "name": "stdout",
     "output_type": "stream",
     "text": [
      "68\n",
      "28840\n",
      "Dieser Artikel ist leider nicht vorrätig\n",
      "Dieser Artikel ist leider nicht vorrätig\n",
      "545.0\n",
      "67\n",
      "28060\n",
      "Moritz\n",
      "Kunde_2\n"
     ]
    }
   ],
   "source": [
    "from datetime import date\n",
    "\n",
    "if __name__ == \"__main__\":\n",
    "    lager = Lager()\n",
    "    print(lager.getObjektanzahl())\n",
    "    print(lager.getLagerwert())\n",
    "    kunde1 = Kunde(\"Peter\",date(1985,9,3),\"Deutschland\")\n",
    "    mitarbeiter1 = Mitarbeiter(\"Markus\",date(1997,12,12),\"Russland\",1.92)\n",
    "    \n",
    "    einkauf_kunde1 = Artikelliste()\n",
    "    einkauf_kunde1.artikel_hinzufügen(CD(\"ABC\",234567,date(1990,8,3)))\n",
    "    einkauf_kunde1.artikel_hinzufügen(Auto(\"XYZ\",date(1990,8,3),1234))\n",
    "    lager.lagerliste.getEintrag(5).preis = 120 \n",
    "    einkauf_kunde1.artikel_hinzufügen(lager.lagerliste.getEintrag(10))\n",
    "    kunde1.kaufen(lager,einkauf_kunde1,mitarbeiter1,\"GutscheinB\")\n",
    "    print(kunde1.kontostand)\n",
    "    \n",
    "    print(lager.getObjektanzahl())\n",
    "    print(lager.getLagerwert())\n",
    "    \n",
    "    mitarbeiterliste = Personenliste()\n",
    "    mitarbeiterliste.Mitarbeiter_liste_einlesen()\n",
    "    mitarbeiterliste.person_hinzufügen(Mitarbeiter(\"Ingo\",date(1993, 12, 14),\"Deutschland\",1.76))\n",
    "    print(mitarbeiterliste.getEintrag(1).getName())\n",
    "    \n",
    "    kundenliste = Personenliste()\n",
    "    kundenliste.Kunden_liste_einlesen()\n",
    "    kundenliste.person_hinzufügen(Kunde(\"Lisa\",date(1996,7,4),\"Italien\"))\n",
    "    print(kundenliste.getEintrag(1).getName())"
   ]
  },
  {
   "cell_type": "markdown",
   "metadata": {},
   "source": [
    "## mögliche grafische Darstellungen (nicht gefordert):"
   ]
  },
  {
   "cell_type": "code",
   "execution_count": 28,
   "metadata": {},
   "outputs": [
    {
     "name": "stdout",
     "output_type": "stream",
     "text": [
      "            Bands  Verkäufe    Gründung\n",
      "0       Motörhead    206203  1974-07-20\n",
      "1     Linkin Park    248849  1994-11-22\n",
      "2  Helene Fischer    329140  1994-05-15\n",
      "3     Udo Jürgens    463281  1994-12-07\n"
     ]
    },
    {
     "data": {
      "image/png": "[encoded data removed]",
      "text/plain": [
       "<Figure size 432x288 with 1 Axes>"
      ]
     },
     "metadata": {
      "needs_background": "light"
     },
     "output_type": "display_data"
    }
   ],
   "source": [
    "import matplotlib.pyplot as plt\n",
    "path = os.path.dirname(os.path.dirname(os.path.dirname(os.getcwd())))+r\"\\Repositories\\Python_Tutorial\\data\"\n",
    "df = pd.read_csv(path+\"\\Musik1.csv\", delimiter=\",\", encoding='latin-1')\n",
    "print(df)\n",
    "df.plot(y='Verkäufe',x='Gründung',color='red')\n",
    "plt.show()"
   ]
  },
  {
   "cell_type": "code",
   "execution_count": 29,
   "metadata": {},
   "outputs": [
    {
     "data": {
      "image/png": "[encoded data removed]",
      "text/plain": [
       "<Figure size 432x288 with 1 Axes>"
      ]
     },
     "metadata": {
      "needs_background": "light"
     },
     "output_type": "display_data"
    }
   ],
   "source": [
    "from datetime import date\n",
    "\n",
    "liste = mitarbeiterliste.liste\n",
    "plt.plot(*zip(*[(m.land, m.größe) for m in liste]),\"bo\")\n",
    "plt.show()"
   ]
  },
  {
   "cell_type": "code",
   "execution_count": null,
   "metadata": {},
   "outputs": [],
   "source": []
  },
  {
   "cell_type": "code",
   "execution_count": null,
   "metadata": {},
   "outputs": [],
   "source": []
  }
 ],
 "metadata": {
  "kernelspec": {
   "display_name": "Python 3",
   "language": "python",
   "name": "python3"
  },
  "language_info": {
   "codemirror_mode": {
    "name": "ipython",
    "version": 3
   },
   "file_extension": ".py",
   "mimetype": "text/x-python",
   "name": "python",
   "nbconvert_exporter": "python",
   "pygments_lexer": "ipython3",
   "version": "3.8.5"
  }
 },
 "nbformat": 4,
 "nbformat_minor": 2
}
