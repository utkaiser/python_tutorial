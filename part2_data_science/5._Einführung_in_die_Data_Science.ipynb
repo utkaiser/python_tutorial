{
 "cells": [
  {
   "cell_type": "markdown",
   "metadata": {},
   "source": [
    "# 5. Einführung in die Data Science"
   ]
  },
  {
   "attachments": {},
   "cell_type": "markdown",
   "metadata": {},
   "source": [
    "Dieser Abschnitt soll grundlegendes Wissen im Umgang mit `Pandas` vermitteln.\n",
    "\n",
    "\"pandas ist eine Programmbibliothek für die Programmiersprache Python, die Hilfsmittel für die Verwaltung von Daten und deren Analyse anbietet. Insbesondere enthält sie Datenstrukturen und Operatoren für den Zugriff auf numerische Tabellen und Zeitreihen.\" (Wikipedia)\n",
    "\n",
    "Speziell im Bereich Data Science wird `Pandas` sehr häufig eingesetzt und erleichtert in vielerlei Hinsicht den Umgang mit großen Datenmengen.\n",
    "\n",
    "`Pandas` baut auf das Erweiterungsmodul `NumPy` (Numerisches Python) auf. `NumPy` bereichert die Programmiersprache um mächtige Datenstrukturen und hilfreiche mathematische Funktionen, die vor allem den Umgang mit Arrays, Listen und Matrizen erleichtern sollen.<br>\n",
    "\n",
    "Stelle vorher sicher, dass du `Pandas`, `Numpy` und `Matplotlib` installiert hast. Gebe dafür folgende Befehle ein und führe die Zeilen aus:\n",
    "* pip install pandas\n",
    "* pip install numpy\n",
    "* pip install matplotlib"
   ]
  },
  {
   "cell_type": "markdown",
   "metadata": {},
   "source": [
    "## 5.1 `Series` und `Dataframes`"
   ]
  },
  {
   "cell_type": "markdown",
   "metadata": {},
   "source": [
    "Wir beginnen mit den wichtigsten Datenstrukturen im Umgang mit `Pandas`."
   ]
  },
  {
   "cell_type": "markdown",
   "metadata": {},
   "source": [
    "__a) `Series`__<br>\n",
    "`Series` sind vergleichbar zu zwei eindimensionalen Arrays, wobei das erste Array den Index darstellt und das zweite Array die Werte enthält:"
   ]
  },
  {
   "cell_type": "code",
   "execution_count": 1,
   "metadata": {},
   "outputs": [
    {
     "name": "stdout",
     "output_type": "stream",
     "text": [
      "0     4\n",
      "1     9\n",
      "2     3\n",
      "3    12\n",
      "dtype: int64\n"
     ]
    }
   ],
   "source": [
    "import pandas as pd #pd ist die Abkürzung, mit der Pandas nun genutzt werden kann.\n",
    "serie1 = pd.Series([4,9,3,12])\n",
    "print(serie1)"
   ]
  },
  {
   "cell_type": "markdown",
   "metadata": {},
   "source": [
    "Wir können auf Indizes und Werte zugreifen:"
   ]
  },
  {
   "cell_type": "code",
   "execution_count": 2,
   "metadata": {},
   "outputs": [
    {
     "name": "stdout",
     "output_type": "stream",
     "text": [
      "RangeIndex(start=0, stop=4, step=1)\n",
      "[ 4  9  3 12]\n"
     ]
    }
   ],
   "source": [
    "print(serie1.index)\n",
    "print(serie1.values)"
   ]
  },
  {
   "cell_type": "markdown",
   "metadata": {},
   "source": [
    "Weitere Methoden findest du, indem Sie `series1.` schreiben und dann `TAB` betätigen."
   ]
  },
  {
   "cell_type": "markdown",
   "metadata": {},
   "source": [
    "Du kannst Indizes selbst definieren.<br>\n",
    "Außerdem lassen sich zwei `Series` zusammenführen. Weichen die Indizes dabei teilweise voneinander ab, werden die kritischen Zeilen im zusammengeführten `Series`-Objekt mit `NaN` ausgefüllt."
   ]
  },
  {
   "cell_type": "code",
   "execution_count": 3,
   "metadata": {},
   "outputs": [
    {
     "name": "stdout",
     "output_type": "stream",
     "text": [
      "cherries       83.0\n",
      "oranges        46.0\n",
      "peaches         NaN\n",
      "pears          42.0\n",
      "raspberries     NaN\n",
      "dtype: float64\n"
     ]
    }
   ],
   "source": [
    "fruits = ['peaches', 'oranges', 'cherries', 'pears']\n",
    "fruits2 = ['raspberries', 'oranges', 'cherries', 'pears']\n",
    "S = pd.Series([20, 33, 52, 10], index=fruits)\n",
    "S2 = pd.Series([17, 13, 31, 32], index=fruits2)\n",
    "serie = S + S2\n",
    "print(serie)"
   ]
  },
  {
   "cell_type": "markdown",
   "metadata": {},
   "source": [
    "Um auf verschiedene Werte zuzugreifen kann man entweder die Stelle (also eine Zahl) eingeben oder man nutzt den definierten Indize:"
   ]
  },
  {
   "cell_type": "code",
   "execution_count": 4,
   "metadata": {},
   "outputs": [
    {
     "name": "stdout",
     "output_type": "stream",
     "text": [
      "46.0\n",
      "46.0\n"
     ]
    }
   ],
   "source": [
    "print(serie[1])\n",
    "print(serie[\"oranges\"])"
   ]
  },
  {
   "cell_type": "markdown",
   "metadata": {},
   "source": [
    "__b) `Dataframes`__"
   ]
  },
  {
   "cell_type": "markdown",
   "metadata": {},
   "source": [
    "Diese Datenstruktur eignet sich dafür, Tabellen zu erstellen bzw. mit ihnen zu arbeiten.\n",
    "Man kann `Dataframes` auf verschiedene Weisen initialisieren.<br>\n",
    "Zum einen kann man mehrere `Series` zu einem `Dictionary` zusammenführen:"
   ]
  },
  {
   "cell_type": "code",
   "execution_count": 5,
   "metadata": {},
   "outputs": [],
   "source": [
    "import pandas as pd\n",
    "years = range(2014, 2018)\n",
    "shop1 = pd.Series([2409.14, 2941.01, 3496.83, 3119.55], index=years)\n",
    "shop2 = pd.Series([1203.45, 3441.62, 3007.83, 3619.53], index=years)\n",
    "shop3 = pd.Series([3412.12, 3491.16, 3457.19, 1963.10], index=years)"
   ]
  },
  {
   "cell_type": "code",
   "execution_count": 6,
   "metadata": {},
   "outputs": [
    {
     "name": "stdout",
     "output_type": "stream",
     "text": [
      "            0        1        2\n",
      "2014  2409.14  1203.45  3412.12\n",
      "2015  2941.01  3441.62  3491.16\n",
      "2016  3496.83  3007.83  3457.19\n",
      "2017  3119.55  3619.53  1963.10\n"
     ]
    }
   ],
   "source": [
    "shops_df = pd.concat([shop1, shop2, shop3], axis=1)\n",
    "print(shops_df)"
   ]
  },
  {
   "cell_type": "markdown",
   "metadata": {},
   "source": [
    "Zum anderen lässt sich ein `Dataframe` aus einem `Dictionary` erzeugen:<br>\n",
    "Im folgenden wird jeder Stadt (`Key`) ihre Einwohnerzahl und eine Sehenswürdigkeit (`Values`) zugeordnet. Diese Werte werden in einem `Dictionary` gespeichert. Danach wird das `Dictionary` in ein `Dataframe` umgewandelt. Diese Umwandlung bietet dem Programmierer jetzt mehr Möglichkeiten, Daten besser zu analysieren oder zu bearbeiten."
   ]
  },
  {
   "cell_type": "code",
   "execution_count": 7,
   "metadata": {},
   "outputs": [
    {
     "name": "stdout",
     "output_type": "stream",
     "text": [
      "       London        Berlin       Rome       Paris\n",
      "0     8615246       3562166    2874038     2273305\n",
      "1  London Eye  Berliner Tor  Kolosseum  Eiffelturm\n"
     ]
    }
   ],
   "source": [
    "cities = {\"London\":    [8615246, \"London Eye\"],\n",
    "          \"Berlin\":    [3562166, \"Berliner Tor\"],\n",
    "          \"Rome\":      [2874038, \"Kolosseum\"],\n",
    "          \"Paris\":     [2273305, \"Eiffelturm\"]} #Datenstruktur\n",
    "city_frame = pd.DataFrame(cities)\n",
    "print(city_frame)"
   ]
  },
  {
   "cell_type": "code",
   "execution_count": 8,
   "metadata": {},
   "outputs": [
    {
     "name": "stdout",
     "output_type": "stream",
     "text": [
      "8615246\n"
     ]
    }
   ],
   "source": [
    "london_einwohner = cities.get(\"London\")[0]\n",
    "print(london_einwohner)"
   ]
  },
  {
   "cell_type": "markdown",
   "metadata": {},
   "source": [
    "Die beiden Datenstrukturen lassen sich in die jeweils andere Struktur umwandeln:"
   ]
  },
  {
   "cell_type": "code",
   "execution_count": 9,
   "metadata": {},
   "outputs": [
    {
     "name": "stdout",
     "output_type": "stream",
     "text": [
      "London      [8615246, London Eye]\n",
      "Berlin    [3562166, Berliner Tor]\n",
      "Rome         [2874038, Kolosseum]\n",
      "Paris       [2273305, Eiffelturm]\n",
      "dtype: object\n",
      "                              0\n",
      "London    [8615246, London Eye]\n",
      "Berlin  [3562166, Berliner Tor]\n",
      "Rome       [2874038, Kolosseum]\n",
      "Paris     [2273305, Eiffelturm]\n",
      "       London        Berlin       Rome       Paris\n",
      "0     8615246       3562166    2874038     2273305\n",
      "1  London Eye  Berliner Tor  Kolosseum  Eiffelturm\n"
     ]
    }
   ],
   "source": [
    "cities_series = pd.Series(cities) #dict --> series\n",
    "print(cities_series)\n",
    "print(cities_series.to_frame()) #series --> dataframe\n",
    "\n",
    "#Alternative:\n",
    "cities_dict = cities_series.to_dict() #series --> dict\n",
    "city_frame = pd.DataFrame(cities_dict) #dict --> dataframe\n",
    "print(city_frame)"
   ]
  },
  {
   "cell_type": "code",
   "execution_count": 10,
   "metadata": {},
   "outputs": [
    {
     "name": "stdout",
     "output_type": "stream",
     "text": [
      "[[8615246, 'London Eye'], [3562166, 'Berliner Tor'], [2874038, 'Kolosseum'], [2273305, 'Eiffelturm']]\n"
     ]
    }
   ],
   "source": [
    "cities_list = cities_series.values.tolist() #series --> list\n",
    "print(cities_list)"
   ]
  },
  {
   "cell_type": "code",
   "execution_count": 11,
   "metadata": {},
   "outputs": [
    {
     "name": "stdout",
     "output_type": "stream",
     "text": [
      "[[8615246, 3562166, 2874038, 2273305], ['London Eye', 'Berliner Tor', 'Kolosseum', 'Eiffelturm']]\n"
     ]
    }
   ],
   "source": [
    "cities_list = city_frame.values.tolist() #dataframe --> list\n",
    "print(cities_list)"
   ]
  },
  {
   "cell_type": "code",
   "execution_count": 12,
   "metadata": {},
   "outputs": [
    {
     "name": "stdout",
     "output_type": "stream",
     "text": [
      "<class 'pandas.core.series.Series'>\n",
      "London    8615246\n",
      "Berlin    3562166\n",
      "Rome      2874038\n",
      "Paris     2273305\n",
      "Name: 0, dtype: object\n"
     ]
    }
   ],
   "source": [
    "series1 = city_frame.iloc[0,:] #dataframe --> series\n",
    "print(type(series1))\n",
    "print(series1)"
   ]
  },
  {
   "cell_type": "markdown",
   "metadata": {},
   "source": [
    "Weitere nützliche Informationen zu `Series` und `DataFrames` findest du auf https://www.python-kurs.eu/pandas.php und https://pandas.pydata.org/pandas-docs/stable/getting_started/dsintro.html."
   ]
  },
  {
   "cell_type": "markdown",
   "metadata": {},
   "source": [
    "## 5.2 `Numpy`"
   ]
  },
  {
   "cell_type": "markdown",
   "metadata": {},
   "source": [
    "`Numpy` ist ein Akronym für \"Numerisches Python\". Es ist ein Erweiterungsmodul, das Python um mächtige Datenstrukturen für das effiziente Rechnen mit großen Arrays und Matrizen ergänzt. Die Implementierung zielt sogar auf extrem große (*big data*) Matrizen und Arrays. `SciPy` (Scientific Python) wird oft im gleichen Atemzug wie `NumPy` genannt. `SciPy` erweitert die Leistungsfähigkeit von NumPy um weitere nützliche Funktionen, wie zum Beispiel Minimierung, Regression, Fouriertransformation und vielen anderen.<br>\n",
    "Sowohl `NumPy` als auch `SciPy` sind üblicherweise bei einer Standardinstallation von Python nicht installiert. `NumPy` sowie all die anderen erwähnten Module sind jedoch Bestandteil der `Anaconda`-Distribution.<br>\n",
    "Ferner bietet das Modul eine riesige Anzahl von hochwertigen mathematischen Funktionen, um mit diesen Matrizen und Arrays zu arbeiten:<br>"
   ]
  },
  {
   "cell_type": "code",
   "execution_count": 13,
   "metadata": {},
   "outputs": [
    {
     "name": "stdout",
     "output_type": "stream",
     "text": [
      "[20.1 20.8 21.9 22.5 22.7 21.8 21.3 20.9 20.1]\n",
      "22.7\n",
      "192.1\n",
      "(5, 5)\n",
      "[[1. 0. 0. 0. 0.]\n",
      " [0. 1. 0. 0. 0.]\n",
      " [0. 0. 1. 4. 0.]\n",
      " [0. 0. 0. 1. 0.]\n",
      " [9. 0. 0. 0. 1.]]\n"
     ]
    }
   ],
   "source": [
    "import numpy as np\n",
    "cvalues = [20.1, 20.8, 21.9, 22.5, 22.7, \n",
    "           21.8, 21.3, 20.9, 20.1]\n",
    "a = np.array(cvalues) #wandelt eine Liste in ein Array um\n",
    "print(a)\n",
    "print(a.max()) #liefert das Maximum des Numpy-Arrays\n",
    "print(a.sum()) #liefert die Summe des Numpy-Arrays\n",
    "d = np.eye(5)  #erzeugt eine 5x5 Einheitsmatrix (einsen auf der Diagonalen)\n",
    "print(d.shape) #liefert Dimension der Matrix\n",
    "d[2,3] = 4     #ändert Matrixeintrag\n",
    "d[4,0] = 9\n",
    "print(d)"
   ]
  },
  {
   "cell_type": "markdown",
   "metadata": {},
   "source": [
    "`Numpy` unterstützt Slicing und verschiedene Filtermethoden:"
   ]
  },
  {
   "cell_type": "code",
   "execution_count": 14,
   "metadata": {},
   "outputs": [
    {
     "name": "stdout",
     "output_type": "stream",
     "text": [
      "[[1. 0. 0.]\n",
      " [0. 1. 0.]\n",
      " [0. 0. 1.]\n",
      " [0. 0. 0.]\n",
      " [9. 0. 0.]]\n"
     ]
    }
   ],
   "source": [
    "b = d[:5, 0:3]\n",
    "print(b)"
   ]
  },
  {
   "cell_type": "code",
   "execution_count": 15,
   "metadata": {},
   "outputs": [
    {
     "name": "stdout",
     "output_type": "stream",
     "text": [
      "[[False False False False False]\n",
      " [False False False False False]\n",
      " [False False False  True False]\n",
      " [False False False False False]\n",
      " [ True False False False False]]\n",
      "[4. 9.]\n"
     ]
    }
   ],
   "source": [
    "bool_index = (d > 2)\n",
    "print(bool_index)\n",
    "print(d[d > 2])"
   ]
  },
  {
   "cell_type": "markdown",
   "metadata": {},
   "source": [
    "Mit `Numpy` lassen sich Matrixoperationen leicht durchführen:"
   ]
  },
  {
   "cell_type": "code",
   "execution_count": 16,
   "metadata": {},
   "outputs": [
    {
     "name": "stdout",
     "output_type": "stream",
     "text": [
      "[[ 5 12]\n",
      " [21 32]]\n",
      "[[19 22]\n",
      " [43 50]]\n",
      "[[-1. ]\n",
      " [ 1.5]]\n"
     ]
    }
   ],
   "source": [
    "x = np.array([[1,2],[3,4]])\n",
    "y = np.array([[5,6],[7,8]])\n",
    "b = np.array([[2],[3]])\n",
    "\n",
    "print(x*y) #elementweise Multiplikation\n",
    "print(x.dot(y)) #Matrixmultiplikation\n",
    "inv_x = np.linalg.inv(x) #liefert die zu x inverse Matrix\n",
    "solution = inv_x.dot(b)\n",
    "print(solution)"
   ]
  },
  {
   "cell_type": "markdown",
   "metadata": {},
   "source": [
    "Außerdem lassen sich auf diese Weise die einzelnen Matrizen zusammenführen:"
   ]
  },
  {
   "cell_type": "code",
   "execution_count": 17,
   "metadata": {},
   "outputs": [
    {
     "name": "stdout",
     "output_type": "stream",
     "text": [
      "[1 2 3 4 5 6 7 8]\n",
      "[[1 2]\n",
      " [3 4]\n",
      " [5 6]\n",
      " [7 8]]\n"
     ]
    }
   ],
   "source": [
    "z = np.append(x,y)\n",
    "r = np.concatenate((x,y))\n",
    "print(z)\n",
    "print(r)"
   ]
  },
  {
   "cell_type": "markdown",
   "metadata": {},
   "source": [
    "## 5.3 `Matplotlib`"
   ]
  },
  {
   "cell_type": "markdown",
   "metadata": {},
   "source": [
    "`Matplotlib` ist eine Programmbibliothek, die es erlaubt, mathematische Darstellungen aller Art anzufertigen."
   ]
  },
  {
   "cell_type": "code",
   "execution_count": 18,
   "metadata": {},
   "outputs": [
    {
     "data": {
      "text/plain": [
       "<Figure size 640x480 with 1 Axes>"
      ]
     },
     "metadata": {},
     "output_type": "display_data"
    }
   ],
   "source": [
    "import matplotlib.pyplot as plt\n",
    "cvalues = [20.1, 20.8, 21.9, 22.5, 22.7, \n",
    "           21.8, 21.3, 20.9, 20.1]\n",
    "a = np.array(cvalues)\n",
    "plt.plot(a) #liefert eine Kurve\n",
    "plt.show()"
   ]
  },
  {
   "cell_type": "code",
   "execution_count": 19,
   "metadata": {},
   "outputs": [
    {
     "data": {
      "image/png": "[encoded data removed]",
      "text/plain": [
       "<Figure size 432x288 with 1 Axes>"
      ]
     },
     "metadata": {
      "needs_background": "light"
     },
     "output_type": "display_data"
    }
   ],
   "source": [
    "plt.hist(a,bins=30) #liefert ein Histogramm\n",
    "plt.show()"
   ]
  },
  {
   "cell_type": "code",
   "execution_count": 20,
   "metadata": {},
   "outputs": [
    {
     "data": {
      "image/png": "[encoded data removed]",
      "text/plain": [
       "<Figure size 432x288 with 1 Axes>"
      ]
     },
     "metadata": {
      "needs_background": "light"
     },
     "output_type": "display_data"
    }
   ],
   "source": [
    "from numpy.random import rand\n",
    "a = rand(100)\n",
    "b = rand(100)\n",
    "plt.scatter(a,b) #liefert ein Streudiagramm\n",
    "plt.show()"
   ]
  },
  {
   "cell_type": "code",
   "execution_count": 21,
   "metadata": {},
   "outputs": [
    {
     "data": {
      "image/png": "[encoded data removed]",
      "text/plain": [
       "<Figure size 432x288 with 1 Axes>"
      ]
     },
     "metadata": {
      "needs_background": "light"
     },
     "output_type": "display_data"
    }
   ],
   "source": [
    "import matplotlib.pyplot as plt\n",
    "X = np.linspace(0, 2 * np.pi, 50, endpoint=True) #gibt Werte der x-Achse an; von 0 bis 2*PI mit Genauigkeit 50\n",
    "#unterschiedliche Sinus und Cosinus-Funktionen:\n",
    "F1 = 3 * np.sin(X)\n",
    "F2 = np.sin(2*X)\n",
    "F3 = 0.3 * np.sin(X)\n",
    "F4 = np.cos(X)\n",
    "#Linienstile:\n",
    "plt.plot(X, F1, color=\"blue\", linewidth=2.5, linestyle=\"-\")\n",
    "plt.plot(X, F2, color=\"red\", linewidth=1.5, linestyle=\"--\")\n",
    "plt.plot(X, F3, color=\"green\", linewidth=2, linestyle=\":\")\n",
    "plt.plot(X, F4, color=\"grey\", linewidth=2, linestyle=\"-.\")\n",
    "#Achsenbeschriftung:\n",
    "plt.xlabel('x-Achse')\n",
    "plt.ylabel('y-Achse')\n",
    "#Flächen einfärben\n",
    "plt.fill_between(X, F1, F3, color=\"blue\", alpha=.1) #färbt die Fläche zwischen den Funktionen F1 und F3 ein\n",
    "plt.show()"
   ]
  },
  {
   "cell_type": "markdown",
   "metadata": {},
   "source": [
    "Ausführlichere Informationen erhälst du unter: https://matplotlib.org/tutorials/index.html."
   ]
  },
  {
   "cell_type": "markdown",
   "metadata": {},
   "source": [
    "## 5.4 Umgang mit Daten in `Pandas`"
   ]
  },
  {
   "cell_type": "markdown",
   "metadata": {},
   "source": [
    "### 5.4.1 Daten einlesen"
   ]
  },
  {
   "cell_type": "markdown",
   "metadata": {},
   "source": [
    "Im Git-Repository im Ordner `data` finden Sie die Zip-Datei `Data`. Bitte laden Sie sich die Datei herunter und entpacken Sie sie. Die darin enthaltenen Datensätze werden wir im Laufe des Tutorials immer wieder verwenden.\n",
    "Die einzelnen Datensätze sind als `csv`-Dateien gespeichert.\n",
    "\n",
    "Hier wirst du lernen, wie man Daten mit `Pandas` einließt und diese bearbeitet:\n",
    "\n",
    "Um `Pandas` nutzen zu können, muss das Tool zunächst importiert werden.<br>\n",
    "In den folgenden Zelle siehst Du, wie man eine `csv`-Datei einliest. Einiges muss hier beachtet werden:\n",
    "* Wird die `csv`-Datei über `Exel` erstellt, kann es sein, dass als Trennzeichen ein Semikolon (`;`) genutzt wird. Um die Tabelle trotzdem in gewünschter Form zu erstellen setzt man den `delimiter` als Semikolon (2. Zeile).\n",
    "* `Pandas` geht davon aus, dass die erste Zeile die Spaltennamen enthält.\n",
    "* Der Pfad der Datei kann auf zwei Weisen angegeben werden. In der Alternative sieht man, dass vor dem String ein `r` stehen muss. Das erzeugt einen `raw-string`, da sonst ein `unicode error` entsteht (wegen `\\U`).\n",
    "\n",
    "Das `os`-Modul in Python ermöglicht es, den Directory-Pfad des aktuellen Skripts zurückzugeben."
   ]
  },
  {
   "cell_type": "code",
   "execution_count": 19,
   "metadata": {},
   "outputs": [
    {
     "name": "stdout",
     "output_type": "stream",
     "text": [
      "C:\\Users\\lkaiser9166\\Documents\\Python_Tutorial\\Teil_2_Einfuehrung_in_die_DataScience\n"
     ]
    }
   ],
   "source": [
    "import os\n",
    "path = os.getcwd()\n",
    "print(path)"
   ]
  },
  {
   "cell_type": "markdown",
   "metadata": {},
   "source": [
    "Um einen Ebene nach oben zu gehen, benutzt man folgenden Befehl:"
   ]
  },
  {
   "cell_type": "code",
   "execution_count": 20,
   "metadata": {},
   "outputs": [
    {
     "name": "stdout",
     "output_type": "stream",
     "text": [
      "C:\\Users\\lkaiser9166\\Documents\\Python_Tutorial\n"
     ]
    }
   ],
   "source": [
    "path = os.path.dirname(os.getcwd())\n",
    "print(path)"
   ]
  },
  {
   "cell_type": "markdown",
   "metadata": {},
   "source": [
    "<b>Einbinden einer `csv`-Datei:</b>"
   ]
  },
  {
   "cell_type": "code",
   "execution_count": null,
   "metadata": {},
   "outputs": [],
   "source": [
    "path = os.path.dirname(os.path.dirname(os.path.dirname(os.getcwd())))+r\"\\Repositories\\Python_Tutorial\\data\\Medikamente.csv\""
   ]
  },
  {
   "cell_type": "code",
   "execution_count": 10,
   "metadata": {},
   "outputs": [],
   "source": [
    "import pandas as pd\n",
    "df = pd.read_csv(path, delimiter = \";\") #speichert die csv-Datei als Dataframe"
   ]
  },
  {
   "cell_type": "code",
   "execution_count": 29,
   "metadata": {},
   "outputs": [],
   "source": [
    "#Alternative:\n",
    "#df2 = pd.read_csv(r\"<filepath>\\Data\\Medikamente.csv\", delimiter = \";\")"
   ]
  },
  {
   "cell_type": "markdown",
   "metadata": {},
   "source": [
    "### 5.4.2 Daten mergen"
   ]
  },
  {
   "cell_type": "markdown",
   "metadata": {},
   "source": [
    "Um Daten zu mergen, muss man folgende Vorüberlegungen treffen:\n",
    "1. `merge` (Methode): Wird verwendet, wenn 2 Objekte verknüpft werden und der `Join` über die Spalten erfolgen soll.\n",
    "2. `join` (Methode): Wird verwendet, wenn 2 Objekte verknüpft werden und der `Join` über die Indizes erfolgen soll.\n",
    "3. `concat` (Funktion): Wird verwendet, wenn mehr als 2 Objekte verknüpft werden.\n",
    "4. `append`: (Methode): Wie `concat` da keine Erweiterung der Funktionalität. Dient als Shortcut von `concat`."
   ]
  },
  {
   "cell_type": "markdown",
   "metadata": {},
   "source": [
    "<b>1. `merge`</b>"
   ]
  },
  {
   "cell_type": "code",
   "execution_count": 46,
   "metadata": {},
   "outputs": [
    {
     "name": "stdout",
     "output_type": "stream",
     "text": [
      "  Artikel_ID Warengruppe       Datum     Kunde  Menge\n",
      "0  Artikel_1           A  2015-01-28  Kunde_18      3\n",
      "1  Artikel_1           A  2015-02-12   Kunde_2      3\n",
      "2  Artikel_1           A  2015-02-26  Kunde_19      1\n",
      "3  Artikel_1           A  2015-03-06  Kunde_28      2\n",
      "4  Artikel_1           A  2015-03-10  Kunde_22      1\n",
      "  Artikel_ID Warengruppe       Datum     Kunde  Menge\n",
      "0  Artikel_1           A  2015-01-28  Kunde_18      3\n",
      "1  Artikel_1           A  2015-02-12   Kunde_2      3\n",
      "2  Artikel_1           A  2015-02-26  Kunde_19      1\n",
      "3  Artikel_1           A  2015-03-06  Kunde_28      2\n",
      "4  Artikel_1           A  2015-03-10  Kunde_22      1\n"
     ]
    }
   ],
   "source": [
    "left = pd.read_csv(\"../Datensammlung/Data/Artikel.csv\", delimiter = \";\")\n",
    "right = pd.read_csv(\"../Datensammlung/Data/Verkauf.csv\", delimiter = \";\")\n",
    "\n",
    "#führt als Default-Wert einen Innerjoin durch\n",
    "merge = pd.merge(left,right) \n",
    "print(merge.head())\n",
    "\n",
    "#Alternativ kann man auch den Schnittpunkt von Schlüsseln aus zwei Dataframes angeben\n",
    "merged_inner = pd.merge(left=left, right=right, left_on='Artikel_ID', right_on='Artikel_ID')\n",
    "print(merged_inner.head())"
   ]
  },
  {
   "cell_type": "markdown",
   "metadata": {},
   "source": [
    "Über einen `outer-join` können wir neue Spalten hinzufügen."
   ]
  },
  {
   "cell_type": "code",
   "execution_count": 47,
   "metadata": {},
   "outputs": [
    {
     "data": {
      "text/html": [
       "<div>\n",
       "<style scoped>\n",
       "    .dataframe tbody tr th:only-of-type {\n",
       "        vertical-align: middle;\n",
       "    }\n",
       "\n",
       "    .dataframe tbody tr th {\n",
       "        vertical-align: top;\n",
       "    }\n",
       "\n",
       "    .dataframe thead th {\n",
       "        text-align: right;\n",
       "    }\n",
       "</style>\n",
       "<table border=\"1\" class=\"dataframe\">\n",
       "  <thead>\n",
       "    <tr style=\"text-align: right;\">\n",
       "      <th></th>\n",
       "      <th>Artikel_ID</th>\n",
       "      <th>Warengruppe</th>\n",
       "    </tr>\n",
       "  </thead>\n",
       "  <tbody>\n",
       "    <tr>\n",
       "      <th>96</th>\n",
       "      <td>Artikel_97</td>\n",
       "      <td>B</td>\n",
       "    </tr>\n",
       "    <tr>\n",
       "      <th>97</th>\n",
       "      <td>Artikel_98</td>\n",
       "      <td>E</td>\n",
       "    </tr>\n",
       "    <tr>\n",
       "      <th>98</th>\n",
       "      <td>Artikel_99</td>\n",
       "      <td>D</td>\n",
       "    </tr>\n",
       "    <tr>\n",
       "      <th>99</th>\n",
       "      <td>Artikel_100</td>\n",
       "      <td>D</td>\n",
       "    </tr>\n",
       "    <tr>\n",
       "      <th>100</th>\n",
       "      <td>Artikel_103</td>\n",
       "      <td>F</td>\n",
       "    </tr>\n",
       "  </tbody>\n",
       "</table>\n",
       "</div>"
      ],
      "text/plain": [
       "      Artikel_ID Warengruppe\n",
       "96    Artikel_97           B\n",
       "97    Artikel_98           E\n",
       "98    Artikel_99           D\n",
       "99   Artikel_100           D\n",
       "100  Artikel_103           F"
      ]
     },
     "execution_count": 47,
     "metadata": {},
     "output_type": "execute_result"
    }
   ],
   "source": [
    "from datetime import date\n",
    "\n",
    "df_newItems = pd.DataFrame({'Artikel_ID': [\"Artikel_103\"],'Warengruppe': [\"F\"]})\n",
    "new_left = left.merge(df_newItems,how='outer')\n",
    "new_left.tail()"
   ]
  },
  {
   "cell_type": "markdown",
   "metadata": {},
   "source": [
    "<b>2. `join`</b><br>\n",
    "`join` verknüpft Daten nicht aufgrund von Spalten, sondern aussschließlich am `Index`. Die nach dem `merge` vorgenommene Deklaration der Spalte `ID` als `Index`, müssen wir – wenn wir `join` verwenden wollen – nun im Vorfeld erledigen. Dies ist der entscheidende Unterschied zwischen `merge` und `join` ist."
   ]
  },
  {
   "cell_type": "code",
   "execution_count": 48,
   "metadata": {},
   "outputs": [
    {
     "name": "stdout",
     "output_type": "stream",
     "text": [
      "                 Datum     Kunde  Menge Warengruppe\n",
      "Artikel_ID                                         \n",
      "Artikel_1   2015-01-28  Kunde_18      3           A\n",
      "Artikel_1   2015-02-12   Kunde_2      3           A\n",
      "Artikel_1   2015-02-26  Kunde_19      1           A\n",
      "Artikel_1   2015-03-06  Kunde_28      2           A\n",
      "Artikel_1   2015-03-10  Kunde_22      1           A\n",
      "                 Datum     Kunde  Menge Warengruppe\n",
      "Artikel_ID                                         \n",
      "Artikel_99  2018-11-27  Kunde_25      1           D\n",
      "Artikel_99  2018-11-28       NaN      2           D\n",
      "Artikel_99  2018-11-30   Kunde_2     -1           D\n",
      "Artikel_99  2018-12-12  Kunde_19      2           D\n",
      "Artikel_99  2018-12-18  Kunde_27      2           D\n"
     ]
    }
   ],
   "source": [
    "left_index = left.set_index('Artikel_ID')\n",
    "right_index = right.set_index('Artikel_ID')\n",
    "print(right_index.join(left_index,how='right').head())\n",
    "print(right_index.join(left_index,how='right').tail())"
   ]
  },
  {
   "cell_type": "markdown",
   "metadata": {},
   "source": [
    "<b>3. `concat`</b><br>\n",
    "Die `concat`-Funktion ermöglicht es, mehrere Datensätze gleichzeitig zu verketten.<br>\n",
    "* Durch den Befehl \"axis = 1\" werden die DataFrames spaltenweise angehängt.\n",
    "* Durch den Befehl \"axis = 0\" werden die DataFrames zeilenweise verkettet."
   ]
  },
  {
   "cell_type": "code",
   "execution_count": 49,
   "metadata": {},
   "outputs": [
    {
     "name": "stdout",
     "output_type": "stream",
     "text": [
      "  letter  number letter  number\n",
      "0      a       1      c       3\n",
      "1      b       2      d       4\n",
      "  letter  number\n",
      "0      a       1\n",
      "1      b       2\n",
      "0      c       3\n",
      "1      d       4\n"
     ]
    }
   ],
   "source": [
    "df1 = pd.DataFrame([['a', 1], ['b', 2]],columns=['letter', 'number'])\n",
    "df2 = pd.DataFrame([['c', 3], ['d', 4]],columns=['letter', 'number'])\n",
    "\n",
    "print(pd.concat([df1,df2],axis=1))\n",
    "print(pd.concat([df1,df2],axis=0))"
   ]
  },
  {
   "cell_type": "markdown",
   "metadata": {},
   "source": [
    "Werden `DataFrames` mit überlappenden Spalten zusammengeführt, sieht es wie folgt aus:"
   ]
  },
  {
   "cell_type": "code",
   "execution_count": 50,
   "metadata": {},
   "outputs": [
    {
     "name": "stdout",
     "output_type": "stream",
     "text": [
      "  letter  number animal\n",
      "0      a       1    NaN\n",
      "1      b       2    NaN\n",
      "0      c       3    cat\n",
      "1      d       4    dog\n"
     ]
    }
   ],
   "source": [
    "df3 = pd.DataFrame([['c', 3, 'cat'], ['d', 4, 'dog']], columns=['letter', 'number', 'animal'])\n",
    "print(pd.concat([df1,df3],axis=0,sort=False))"
   ]
  },
  {
   "cell_type": "markdown",
   "metadata": {},
   "source": [
    "<b>4. `append`</b><br>\n",
    "Die Methode append hängt Daten immer zeilenbasiert aneinander. Sie ist als Shortcut von `concat` zu verstehen und stellt keine Erweiterung zu irgendeiner der oben genannten Methoden/Funktionen dar. Analog zu `concat` kann auch `append` beliebig viele Objekte entgegennehmen und sie miteinander verknüpfen."
   ]
  },
  {
   "cell_type": "code",
   "execution_count": 51,
   "metadata": {},
   "outputs": [
    {
     "data": {
      "text/html": [
       "<div>\n",
       "<style scoped>\n",
       "    .dataframe tbody tr th:only-of-type {\n",
       "        vertical-align: middle;\n",
       "    }\n",
       "\n",
       "    .dataframe tbody tr th {\n",
       "        vertical-align: top;\n",
       "    }\n",
       "\n",
       "    .dataframe thead th {\n",
       "        text-align: right;\n",
       "    }\n",
       "</style>\n",
       "<table border=\"1\" class=\"dataframe\">\n",
       "  <thead>\n",
       "    <tr style=\"text-align: right;\">\n",
       "      <th></th>\n",
       "      <th>animal</th>\n",
       "      <th>letter</th>\n",
       "      <th>number</th>\n",
       "    </tr>\n",
       "  </thead>\n",
       "  <tbody>\n",
       "    <tr>\n",
       "      <th>0</th>\n",
       "      <td>cat</td>\n",
       "      <td>c</td>\n",
       "      <td>3</td>\n",
       "    </tr>\n",
       "    <tr>\n",
       "      <th>1</th>\n",
       "      <td>dog</td>\n",
       "      <td>d</td>\n",
       "      <td>4</td>\n",
       "    </tr>\n",
       "    <tr>\n",
       "      <th>0</th>\n",
       "      <td>NaN</td>\n",
       "      <td>a</td>\n",
       "      <td>1</td>\n",
       "    </tr>\n",
       "    <tr>\n",
       "      <th>1</th>\n",
       "      <td>NaN</td>\n",
       "      <td>b</td>\n",
       "      <td>2</td>\n",
       "    </tr>\n",
       "    <tr>\n",
       "      <th>0</th>\n",
       "      <td>NaN</td>\n",
       "      <td>c</td>\n",
       "      <td>3</td>\n",
       "    </tr>\n",
       "    <tr>\n",
       "      <th>1</th>\n",
       "      <td>NaN</td>\n",
       "      <td>d</td>\n",
       "      <td>4</td>\n",
       "    </tr>\n",
       "  </tbody>\n",
       "</table>\n",
       "</div>"
      ],
      "text/plain": [
       "  animal letter  number\n",
       "0    cat      c       3\n",
       "1    dog      d       4\n",
       "0    NaN      a       1\n",
       "1    NaN      b       2\n",
       "0    NaN      c       3\n",
       "1    NaN      d       4"
      ]
     },
     "execution_count": 51,
     "metadata": {},
     "output_type": "execute_result"
    }
   ],
   "source": [
    "df3.append([df1,df2],sort=\"False\")"
   ]
  },
  {
   "cell_type": "markdown",
   "metadata": {},
   "source": [
    "Weitere Informationen zu diesem Abschnitt findest du unter: https://pandas.pydata.org/pandas-docs/version/0.23.4/api.html#data-manipulations"
   ]
  },
  {
   "cell_type": "markdown",
   "metadata": {},
   "source": [
    "### 5.4.3 Daten bearbeiten"
   ]
  },
  {
   "cell_type": "markdown",
   "metadata": {},
   "source": [
    "`Dataframes` unterstützen jetzt viele nützliche Methoden:<br>\n",
    "* `df.head()` zeigt den oberen Bereich des `Dataframes` an, mit `df.tail()` den unteren Bereich\n",
    "* mit `len(df)` sehen Sie, wie viele Zeilen die Tabelle besitzt\n",
    "* über eine eckige Klammer können Sie auf einzelne Spalten zugreifen:"
   ]
  },
  {
   "cell_type": "code",
   "execution_count": 52,
   "metadata": {},
   "outputs": [
    {
     "name": "stdout",
     "output_type": "stream",
     "text": [
      "0    Patient_26\n",
      "1    Patient_24\n",
      "2    Patient_17\n",
      "3    Patient_11\n",
      "4    Patient_22\n",
      "Name: Patient, dtype: object\n"
     ]
    }
   ],
   "source": [
    "df = pd.read_csv(\"../Datensammlung/Data/Medikamente.csv\", delimiter = \";\")\n",
    "print(df[\"Patient\"].head())"
   ]
  },
  {
   "cell_type": "markdown",
   "metadata": {},
   "source": [
    "Um auf einzelne Zeilen per Zahlenindex zuzugreifen, benötigst du die Methode `.iloc`:"
   ]
  },
  {
   "cell_type": "code",
   "execution_count": 53,
   "metadata": {},
   "outputs": [
    {
     "name": "stdout",
     "output_type": "stream",
     "text": [
      "Datum      2015-10-28\n",
      "Arzt            Dr. C\n",
      "Patient    Patient_26\n",
      "Menge               1\n",
      "Name: 0, dtype: object\n",
      "Dr. C\n",
      "Der Patient wurde am 2015-10-28 behandelt.\n"
     ]
    }
   ],
   "source": [
    "zeile = df.iloc[0]\n",
    "print(zeile)\n",
    "print(df.iloc[1][1])\n",
    "print(\"Der Patient wurde am \"+zeile[0]+\" behandelt.\")"
   ]
  },
  {
   "cell_type": "markdown",
   "metadata": {},
   "source": [
    "Um auf einzelne Zeilen per Eintrag zuzugreifen, benötigst du die Methode `.loc`:"
   ]
  },
  {
   "cell_type": "code",
   "execution_count": 54,
   "metadata": {},
   "outputs": [
    {
     "data": {
      "text/html": [
       "<div>\n",
       "<style scoped>\n",
       "    .dataframe tbody tr th:only-of-type {\n",
       "        vertical-align: middle;\n",
       "    }\n",
       "\n",
       "    .dataframe tbody tr th {\n",
       "        vertical-align: top;\n",
       "    }\n",
       "\n",
       "    .dataframe thead th {\n",
       "        text-align: right;\n",
       "    }\n",
       "</style>\n",
       "<table border=\"1\" class=\"dataframe\">\n",
       "  <thead>\n",
       "    <tr style=\"text-align: right;\">\n",
       "      <th></th>\n",
       "      <th>Datum</th>\n",
       "      <th>Arzt</th>\n",
       "      <th>Patient</th>\n",
       "      <th>Menge</th>\n",
       "    </tr>\n",
       "  </thead>\n",
       "  <tbody>\n",
       "    <tr>\n",
       "      <th>0</th>\n",
       "      <td>2015-10-28</td>\n",
       "      <td>Dr. C</td>\n",
       "      <td>Patient_26</td>\n",
       "      <td>1</td>\n",
       "    </tr>\n",
       "    <tr>\n",
       "      <th>61</th>\n",
       "      <td>2018-05-11</td>\n",
       "      <td>Dr. E</td>\n",
       "      <td>Patient_26</td>\n",
       "      <td>2</td>\n",
       "    </tr>\n",
       "    <tr>\n",
       "      <th>82</th>\n",
       "      <td>2017-07-27</td>\n",
       "      <td>Dr. A</td>\n",
       "      <td>Patient_26</td>\n",
       "      <td>1</td>\n",
       "    </tr>\n",
       "    <tr>\n",
       "      <th>111</th>\n",
       "      <td>2016-12-25</td>\n",
       "      <td>Dr. E</td>\n",
       "      <td>Patient_26</td>\n",
       "      <td>2</td>\n",
       "    </tr>\n",
       "    <tr>\n",
       "      <th>140</th>\n",
       "      <td>2017-06-16</td>\n",
       "      <td>Dr. A</td>\n",
       "      <td>Patient_26</td>\n",
       "      <td>1</td>\n",
       "    </tr>\n",
       "    <tr>\n",
       "      <th>243</th>\n",
       "      <td>2017-05-31</td>\n",
       "      <td>Dr. A</td>\n",
       "      <td>Patient_26</td>\n",
       "      <td>2</td>\n",
       "    </tr>\n",
       "    <tr>\n",
       "      <th>284</th>\n",
       "      <td>2017-01-10</td>\n",
       "      <td>Dr. D</td>\n",
       "      <td>Patient_26</td>\n",
       "      <td>1</td>\n",
       "    </tr>\n",
       "  </tbody>\n",
       "</table>\n",
       "</div>"
      ],
      "text/plain": [
       "          Datum   Arzt     Patient  Menge\n",
       "0    2015-10-28  Dr. C  Patient_26      1\n",
       "61   2018-05-11  Dr. E  Patient_26      2\n",
       "82   2017-07-27  Dr. A  Patient_26      1\n",
       "111  2016-12-25  Dr. E  Patient_26      2\n",
       "140  2017-06-16  Dr. A  Patient_26      1\n",
       "243  2017-05-31  Dr. A  Patient_26      2\n",
       "284  2017-01-10  Dr. D  Patient_26      1"
      ]
     },
     "execution_count": 54,
     "metadata": {},
     "output_type": "execute_result"
    }
   ],
   "source": [
    "df.loc[df[\"Patient\"]==\"Patient_26\"]"
   ]
  },
  {
   "cell_type": "markdown",
   "metadata": {},
   "source": [
    "Um dann noch auf eine einzelne Spalte zuzugreifen, schreibe:"
   ]
  },
  {
   "cell_type": "code",
   "execution_count": 55,
   "metadata": {},
   "outputs": [
    {
     "data": {
      "text/plain": [
       "0      1\n",
       "61     2\n",
       "82     1\n",
       "111    2\n",
       "140    1\n",
       "243    2\n",
       "284    1\n",
       "Name: Menge, dtype: int64"
      ]
     },
     "execution_count": 55,
     "metadata": {},
     "output_type": "execute_result"
    }
   ],
   "source": [
    "df.loc[df[\"Patient\"]==\"Patient_26\",\"Menge\"]"
   ]
  },
  {
   "cell_type": "markdown",
   "metadata": {},
   "source": [
    "Um auf einzelne Spalten zuzugreifen, schreibe:"
   ]
  },
  {
   "cell_type": "code",
   "execution_count": 56,
   "metadata": {},
   "outputs": [
    {
     "name": "stdout",
     "output_type": "stream",
     "text": [
      "    Arzt     Patient\n",
      "0  Dr. C  Patient_26\n",
      "1  Dr. C  Patient_24\n",
      "2  Dr. D  Patient_17\n",
      "3  Dr. B  Patient_11\n",
      "4  Dr. C  Patient_22\n"
     ]
    }
   ],
   "source": [
    "print(df[[\"Arzt\",\"Patient\"]].head())"
   ]
  },
  {
   "cell_type": "markdown",
   "metadata": {},
   "source": [
    "Die Methode `.iloc` unterstützt slicing. So kannst du bestimme Bereiche im `Dataframe` herausfiltern:"
   ]
  },
  {
   "cell_type": "code",
   "execution_count": 57,
   "metadata": {},
   "outputs": [
    {
     "name": "stdout",
     "output_type": "stream",
     "text": [
      "        Datum   Arzt     Patient  Menge\n",
      "2  2017-09-30  Dr. D  Patient_17      1\n",
      "3  2016-07-15  Dr. B  Patient_11      2\n"
     ]
    }
   ],
   "source": [
    "print(df.iloc[2:4])"
   ]
  },
  {
   "cell_type": "markdown",
   "metadata": {},
   "source": [
    "Du kannst Spalten und Zeilen einfügen bzw. ändern:"
   ]
  },
  {
   "cell_type": "code",
   "execution_count": null,
   "metadata": {},
   "outputs": [],
   "source": [
    "df[\"Versicherung\"] = \"privat\"  #fügt eine neue Spalte hinzu\n",
    "print(df.head())"
   ]
  },
  {
   "cell_type": "code",
   "execution_count": null,
   "metadata": {},
   "outputs": [],
   "source": [
    "df.loc[300,:] = [\"2018-01-30\",\"Dr. W\",\"Patient_102\",2,\"privat\"] #fügt eine neue Zeile hinzu\n",
    "print(df.tail())"
   ]
  },
  {
   "cell_type": "markdown",
   "metadata": {},
   "source": [
    "Wie du sehen kannst hat sich in der Spalte `Menge` der Datentyp zu einem `float` geändert. Um diese Spalte mit `int`-Werten zu erhalten schreibt man:"
   ]
  },
  {
   "cell_type": "code",
   "execution_count": null,
   "metadata": {},
   "outputs": [],
   "source": [
    "df2 = df[\"Menge\"].astype('int')\n",
    "print(df2.tail())"
   ]
  },
  {
   "cell_type": "code",
   "execution_count": null,
   "metadata": {},
   "outputs": [],
   "source": [
    "df.iloc[2] = [\"2018-01-29\",\"Dr. Y\",\"Patient_2\",3,\"familienversichert\"] #ändert eine bestehende Zeile\n",
    "print(df.head())"
   ]
  },
  {
   "cell_type": "code",
   "execution_count": null,
   "metadata": {},
   "outputs": [],
   "source": [
    "df[\"Versicherung\"] = \"keine Angabe\" #ändert eine bestimmte Spalte\n",
    "print(df.head())"
   ]
  },
  {
   "cell_type": "markdown",
   "metadata": {},
   "source": [
    "Du kannst außerdem Zeilen oder Spalten löschen. Dafür gibt es zwei Möglichkeiten. \n",
    "Bei der `.drop`-Methode  ist es möglich, Spalten (`axis=1`) oder Zeilen (`axis=0`) zu löschen."
   ]
  },
  {
   "cell_type": "code",
   "execution_count": null,
   "metadata": {},
   "outputs": [],
   "source": [
    "df = df.drop(\"Menge\", axis=1) #löscht Spalte\n",
    "print(df.head())"
   ]
  },
  {
   "cell_type": "code",
   "execution_count": null,
   "metadata": {},
   "outputs": [],
   "source": [
    "del df[\"Datum\"] #löscht ebenfalls Spalte\n",
    "print(df.head())"
   ]
  },
  {
   "cell_type": "code",
   "execution_count": null,
   "metadata": {},
   "outputs": [],
   "source": [
    "df = df.drop(3, axis=0) #löscht die dritte Zeile\n",
    "print(df.head())"
   ]
  },
  {
   "cell_type": "markdown",
   "metadata": {},
   "source": [
    "Unter diesem Link findest du die Dokumentation zu `Pandas`: https://pandas.pydata.org/pandas-docs/stable/"
   ]
  },
  {
   "cell_type": "code",
   "execution_count": null,
   "metadata": {},
   "outputs": [],
   "source": []
  }
 ],
 "metadata": {
  "kernelspec": {
   "display_name": "Python 3",
   "language": "python",
   "name": "python3"
  },
  "language_info": {
   "codemirror_mode": {
    "name": "ipython",
    "version": 3
   },
   "file_extension": ".py",
   "mimetype": "text/x-python",
   "name": "python",
   "nbconvert_exporter": "python",
   "pygments_lexer": "ipython3",
   "version": "3.8.5"
  }
 },
 "nbformat": 4,
 "nbformat_minor": 2
}