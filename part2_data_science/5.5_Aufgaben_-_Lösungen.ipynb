{
 "cells": [
  {
   "cell_type": "markdown",
   "metadata": {},
   "source": [
    "# 5.5 Umgang mit Daten in `Pandas`: Aufgaben - Lösungen"
   ]
  },
  {
   "cell_type": "markdown",
   "metadata": {},
   "source": [
    "## Aufgabe 1"
   ]
  },
  {
   "cell_type": "markdown",
   "metadata": {},
   "source": [
    "### a) \n",
    "Lese die Datei `mtcars2` ein und speichere sie als `csv`-Datei. Gebe den oberen und unteren Bereich der Tabelle aus, um zu überprüfen, ob die `csv-Datei` korrekt eingelesen wurde."
   ]
  },
  {
   "cell_type": "code",
   "execution_count": 49,
   "metadata": {
    "scrolled": true
   },
   "outputs": [
    {
     "name": "stdout",
     "output_type": "stream",
     "text": [
      "               Model  Year  Sales\n",
      "0          Mazda RX4  1973  11705\n",
      "1      Mazda RX4 Wag  1973  19334\n",
      "2         Datsun 710  1973  19138\n",
      "3     Hornet 4 Drive  1973  19349\n",
      "4  Hornet Sportabout  1973  22911\n",
      "             Model  Year  Sales\n",
      "59    Lotus Europa  1974  22676\n",
      "60  Ford Pantera L  1974  22921\n",
      "61    Ferrari Dino  1974  10625\n",
      "62   Maserati Bora  1974  14738\n",
      "63      Volvo 142E  1974  10205\n"
     ]
    }
   ],
   "source": [
    "import pandas as pd\n",
    "import os\n",
    "path = os.path.dirname(os.path.dirname(os.path.dirname(os.getcwd())))+r\"\\Repositories\\Python_Tutorial\\data\\mtcars2.csv\"\n",
    "df = pd.read_csv(path, delimiter = \";\")\n",
    "print(df.head())\n",
    "print(df.tail())"
   ]
  },
  {
   "cell_type": "markdown",
   "metadata": {},
   "source": [
    "### b)\n",
    "Beantworte folgende Fragen:\n",
    "1. Wie heißt das Modell des 31. Autos in der Tabelle?\n",
    "2. Wie oft wurde das 30. Auto verkauft?\n",
    "3. In welchem Jahr wurde das 34. Auto das erste Mal verkauft.\n",
    "\n",
    "(Tipp: Es reicht nicht, einfach das gesamte `Pandas.Dataframe` auszugeben, um die Werte abzulesen. Der gesuchte Bereich wird nämlich nicht angezeigt. Achte außerdem auf die richtige Indexwahl.)"
   ]
  },
  {
   "cell_type": "markdown",
   "metadata": {},
   "source": [
    "#### 1. Möglichkeit: Slicing"
   ]
  },
  {
   "cell_type": "code",
   "execution_count": 40,
   "metadata": {},
   "outputs": [
    {
     "name": "stdout",
     "output_type": "stream",
     "text": [
      "                Model  Year  Sales\n",
      "28     Ford Pantera L  1973  22447\n",
      "29       Ferrari Dino  1973  10685\n",
      "30      Maserati Bora  1973  16828\n",
      "31         Volvo 142E  1973  13969\n",
      "32          Mazda RX4  1974  14560\n",
      "33      Mazda RX4 Wag  1974  17593\n",
      "34         Datsun 710  1974  12710\n",
      "35     Hornet 4 Drive  1974  21369\n",
      "36  Hornet Sportabout  1974  13011\n",
      "37            Valiant  1974  13872\n",
      "38         Duster 360  1974  24845\n",
      "39          Merc 240D  1974  22079\n"
     ]
    }
   ],
   "source": [
    "df_ausschnitt = df.iloc[28:40]\n",
    "print(df_ausschnitt)"
   ]
  },
  {
   "cell_type": "markdown",
   "metadata": {},
   "source": [
    "Antwort: 1. Mazda RX4, 2. 10685, 3. 1974"
   ]
  },
  {
   "cell_type": "markdown",
   "metadata": {},
   "source": [
    "#### 2. Möglichkeit: Zugriff auf einzelne Stellen:"
   ]
  },
  {
   "cell_type": "code",
   "execution_count": 41,
   "metadata": {},
   "outputs": [
    {
     "name": "stdout",
     "output_type": "stream",
     "text": [
      "Mazda RX4\n",
      "10685\n",
      "1974\n"
     ]
    }
   ],
   "source": [
    "zeile = df.iloc[32][0]\n",
    "print(zeile)\n",
    "zeile = df.iloc[29][2]\n",
    "print(zeile)\n",
    "zeile = df.iloc[33][1]\n",
    "print(zeile)"
   ]
  },
  {
   "cell_type": "markdown",
   "metadata": {},
   "source": [
    "### c)\n",
    "1. Gebe ein `Dataframe` aus, das die beiden Spalten `Model` und `Sales` enthält.\n",
    "2. Gebe einen `Series` aus, der als Index die `Autonamen` und als Werte die `Sales` besitzt."
   ]
  },
  {
   "cell_type": "code",
   "execution_count": 42,
   "metadata": {},
   "outputs": [
    {
     "name": "stdout",
     "output_type": "stream",
     "text": [
      "                Model  Sales\n",
      "0           Mazda RX4  11705\n",
      "1       Mazda RX4 Wag  19334\n",
      "2          Datsun 710  19138\n",
      "3      Hornet 4 Drive  19349\n",
      "4   Hornet Sportabout  22911\n",
      "..                ...    ...\n",
      "59       Lotus Europa  22676\n",
      "60     Ford Pantera L  22921\n",
      "61       Ferrari Dino  10625\n",
      "62      Maserati Bora  14738\n",
      "63         Volvo 142E  10205\n",
      "\n",
      "[64 rows x 2 columns]\n"
     ]
    }
   ],
   "source": [
    "#1.\n",
    "df2 = df[[\"Model\",\"Sales\"]]\n",
    "print(df2)"
   ]
  },
  {
   "cell_type": "code",
   "execution_count": 43,
   "metadata": {},
   "outputs": [
    {
     "name": "stdout",
     "output_type": "stream",
     "text": [
      "Mazda RX4            11705\n",
      "Mazda RX4 Wag        19334\n",
      "Datsun 710           19138\n",
      "Hornet 4 Drive       19349\n",
      "Hornet Sportabout    22911\n",
      "                     ...  \n",
      "Lotus Europa         22676\n",
      "Ford Pantera L       22921\n",
      "Ferrari Dino         10625\n",
      "Maserati Bora        14738\n",
      "Volvo 142E           10205\n",
      "Length: 64, dtype: int64\n"
     ]
    }
   ],
   "source": [
    "#2.\n",
    "autos = df.iloc[:,0].values.tolist()\n",
    "series = pd.Series(df.iloc[:,2].values.tolist(),index = autos)\n",
    "print(series)"
   ]
  },
  {
   "cell_type": "markdown",
   "metadata": {},
   "source": [
    "### d) \n",
    "Bearbeite die Daten:\n",
    "1. Füge in das oben stehende `Dataframe` eine zusätzliche Spalte `Verfügbarkeit` ein, in der jeder Eintrag lautet: `noch vorrätig`\n",
    "2. Das Auto `Porsche 914-2` ist ausverkauft. Hinterlege das in deinem `Dataframe`."
   ]
  },
  {
   "cell_type": "code",
   "execution_count": 44,
   "metadata": {},
   "outputs": [
    {
     "name": "stdout",
     "output_type": "stream",
     "text": [
      "                Model  Year  Sales  Verfügbarkeit\n",
      "0           Mazda RX4  1973  11705  noch vorrätig\n",
      "1       Mazda RX4 Wag  1973  19334  noch vorrätig\n",
      "2          Datsun 710  1973  19138  noch vorrätig\n",
      "3      Hornet 4 Drive  1973  19349  noch vorrätig\n",
      "4   Hornet Sportabout  1973  22911  noch vorrätig\n",
      "..                ...   ...    ...            ...\n",
      "59       Lotus Europa  1974  22676  noch vorrätig\n",
      "60     Ford Pantera L  1974  22921  noch vorrätig\n",
      "61       Ferrari Dino  1974  10625  noch vorrätig\n",
      "62      Maserati Bora  1974  14738  noch vorrätig\n",
      "63         Volvo 142E  1974  10205  noch vorrätig\n",
      "\n",
      "[64 rows x 4 columns]\n"
     ]
    }
   ],
   "source": [
    "#1.\n",
    "df[\"Verfügbarkeit\"] = \"noch vorrätig\"\n",
    "print(df)"
   ]
  },
  {
   "cell_type": "code",
   "execution_count": 45,
   "metadata": {},
   "outputs": [
    {
     "data": {
      "text/html": [
       "<div>\n",
       "<style scoped>\n",
       "    .dataframe tbody tr th:only-of-type {\n",
       "        vertical-align: middle;\n",
       "    }\n",
       "\n",
       "    .dataframe tbody tr th {\n",
       "        vertical-align: top;\n",
       "    }\n",
       "\n",
       "    .dataframe thead th {\n",
       "        text-align: right;\n",
       "    }\n",
       "</style>\n",
       "<table border=\"1\" class=\"dataframe\">\n",
       "  <thead>\n",
       "    <tr style=\"text-align: right;\">\n",
       "      <th></th>\n",
       "      <th>Model</th>\n",
       "      <th>Year</th>\n",
       "      <th>Sales</th>\n",
       "      <th>Verfügbarkeit</th>\n",
       "    </tr>\n",
       "  </thead>\n",
       "  <tbody>\n",
       "    <tr>\n",
       "      <th>26</th>\n",
       "      <td>Porsche 914-2</td>\n",
       "      <td>1973</td>\n",
       "      <td>17872</td>\n",
       "      <td>noch vorrätig</td>\n",
       "    </tr>\n",
       "    <tr>\n",
       "      <th>58</th>\n",
       "      <td>Porsche 914-2</td>\n",
       "      <td>1974</td>\n",
       "      <td>12609</td>\n",
       "      <td>noch vorrätig</td>\n",
       "    </tr>\n",
       "  </tbody>\n",
       "</table>\n",
       "</div>"
      ],
      "text/plain": [
       "            Model  Year  Sales  Verfügbarkeit\n",
       "26  Porsche 914-2  1973  17872  noch vorrätig\n",
       "58  Porsche 914-2  1974  12609  noch vorrätig"
      ]
     },
     "execution_count": 45,
     "metadata": {},
     "output_type": "execute_result"
    }
   ],
   "source": [
    "#2.\n",
    "df.loc[df[\"Model\"]==\"Porsche 914-2\"]"
   ]
  },
  {
   "cell_type": "code",
   "execution_count": 46,
   "metadata": {},
   "outputs": [],
   "source": [
    "df.loc[df[\"Model\"]==\"Porsche 914-2\",\"Verfügbarkeit\"] = \"ausverkauft\""
   ]
  },
  {
   "cell_type": "code",
   "execution_count": 47,
   "metadata": {},
   "outputs": [
    {
     "data": {
      "text/html": [
       "<div>\n",
       "<style scoped>\n",
       "    .dataframe tbody tr th:only-of-type {\n",
       "        vertical-align: middle;\n",
       "    }\n",
       "\n",
       "    .dataframe tbody tr th {\n",
       "        vertical-align: top;\n",
       "    }\n",
       "\n",
       "    .dataframe thead th {\n",
       "        text-align: right;\n",
       "    }\n",
       "</style>\n",
       "<table border=\"1\" class=\"dataframe\">\n",
       "  <thead>\n",
       "    <tr style=\"text-align: right;\">\n",
       "      <th></th>\n",
       "      <th>Model</th>\n",
       "      <th>Year</th>\n",
       "      <th>Sales</th>\n",
       "      <th>Verfügbarkeit</th>\n",
       "    </tr>\n",
       "  </thead>\n",
       "  <tbody>\n",
       "    <tr>\n",
       "      <th>26</th>\n",
       "      <td>Porsche 914-2</td>\n",
       "      <td>1973</td>\n",
       "      <td>17872</td>\n",
       "      <td>ausverkauft</td>\n",
       "    </tr>\n",
       "    <tr>\n",
       "      <th>58</th>\n",
       "      <td>Porsche 914-2</td>\n",
       "      <td>1974</td>\n",
       "      <td>12609</td>\n",
       "      <td>ausverkauft</td>\n",
       "    </tr>\n",
       "  </tbody>\n",
       "</table>\n",
       "</div>"
      ],
      "text/plain": [
       "            Model  Year  Sales Verfügbarkeit\n",
       "26  Porsche 914-2  1973  17872   ausverkauft\n",
       "58  Porsche 914-2  1974  12609   ausverkauft"
      ]
     },
     "execution_count": 47,
     "metadata": {},
     "output_type": "execute_result"
    }
   ],
   "source": [
    "df.loc[df[\"Model\"]==\"Porsche 914-2\"]"
   ]
  },
  {
   "cell_type": "markdown",
   "metadata": {},
   "source": [
    "### e) \n",
    "Visualisiere das `Dataframe`:<br>\n",
    "Gebe eine Grafik aus, die zu den ersten fünf Modellen die Verkaufszahl anzeigt. Beschrifte außerdem die Achsen."
   ]
  },
  {
   "cell_type": "code",
   "execution_count": 48,
   "metadata": {},
   "outputs": [
    {
     "data": {
      "image/png": "[encoded data removed]",
      "text/plain": [
       "<Figure size 432x288 with 1 Axes>"
      ]
     },
     "metadata": {
      "needs_background": "light"
     },
     "output_type": "display_data"
    }
   ],
   "source": [
    "#1.\n",
    "import matplotlib.pyplot as plt\n",
    "import numpy as np\n",
    "x = np.array(df.Model[:5])\n",
    "y = np.array(df.Sales[:5])\n",
    "plt.plot(x,y)\n",
    "plt.xlabel('Modelle')\n",
    "plt.ylabel('Verkäufe')\n",
    "plt.show()"
   ]
  },
  {
   "cell_type": "code",
   "execution_count": null,
   "metadata": {},
   "outputs": [],
   "source": []
  }
 ],
 "metadata": {
  "kernelspec": {
   "display_name": "Python 3",
   "language": "python",
   "name": "python3"
  },
  "language_info": {
   "codemirror_mode": {
    "name": "ipython",
    "version": 3
   },
   "file_extension": ".py",
   "mimetype": "text/x-python",
   "name": "python",
   "nbconvert_exporter": "python",
   "pygments_lexer": "ipython3",
   "version": "3.8.5"
  }
 },
 "nbformat": 4,
 "nbformat_minor": 2
}
