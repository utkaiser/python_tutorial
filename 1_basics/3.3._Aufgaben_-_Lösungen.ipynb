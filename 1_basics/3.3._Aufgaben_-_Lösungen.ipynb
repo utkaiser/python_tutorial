{
 "cells": [
  {
   "cell_type": "markdown",
   "metadata": {},
   "source": [
    "# 3. Datentypen: Aufgaben - Lösungen"
   ]
  },
  {
   "cell_type": "markdown",
   "metadata": {},
   "source": [
    "## 1. Aufgabe: Variablennamen"
   ]
  },
  {
   "cell_type": "markdown",
   "metadata": {},
   "source": [
    "a) korrekt\n",
    "b) falsch\n",
    "c) korrekt\n",
    "d) falsch"
   ]
  },
  {
   "cell_type": "markdown",
   "metadata": {},
   "source": [
    "## 2. Aufgabe: Variablen und Umformungen"
   ]
  },
  {
   "cell_type": "code",
   "execution_count": 2,
   "metadata": {},
   "outputs": [],
   "source": [
    "array = [5,-7,\"9\", \"1.2\",1.0]"
   ]
  },
  {
   "cell_type": "code",
   "execution_count": 5,
   "metadata": {},
   "outputs": [
    {
     "name": "stdout",
     "output_type": "stream",
     "text": [
      "9.2\n",
      "9\n",
      "9.0\n"
     ]
    }
   ],
   "source": [
    "zahl1 = float(array[2])\n",
    "zahl2 = eval(array[3])\n",
    "result = array[0]+array[1]+zahl1+zahl2+array[-1]#in dieser Zeile ist result vom Typ float\n",
    "print(result)\n",
    "result = int(result)\n",
    "print(result)\n",
    "result = float(result)\n",
    "print(result)"
   ]
  },
  {
   "cell_type": "markdown",
   "metadata": {},
   "source": [
    "## 3. Aufgabe: Listen"
   ]
  },
  {
   "cell_type": "markdown",
   "metadata": {},
   "source": [
    "### 3.1"
   ]
  },
  {
   "cell_type": "code",
   "execution_count": 10,
   "metadata": {},
   "outputs": [
    {
     "name": "stdout",
     "output_type": "stream",
     "text": [
      "4\n",
      "7\n"
     ]
    }
   ],
   "source": [
    "a = [2,4,6,7]\n",
    "#a)\n",
    "print(len(a))\n",
    "#b)\n",
    "print(a[-1])"
   ]
  },
  {
   "cell_type": "code",
   "execution_count": 13,
   "metadata": {},
   "outputs": [
    {
     "name": "stdout",
     "output_type": "stream",
     "text": [
      "[2, 4, 6]\n",
      "[10, 4, 6]\n"
     ]
    }
   ],
   "source": [
    "#c)\n",
    "b = a[:3]\n",
    "print(b)\n",
    "b[0] = 10\n",
    "print(b)"
   ]
  },
  {
   "cell_type": "markdown",
   "metadata": {},
   "source": [
    "### 3.2"
   ]
  },
  {
   "cell_type": "code",
   "execution_count": 20,
   "metadata": {},
   "outputs": [
    {
     "name": "stdout",
     "output_type": "stream",
     "text": [
      "[1, 2, 3, 4, 5, 6, 7, 8, 9, 10]\n"
     ]
    }
   ],
   "source": [
    "#a)\n",
    "a = [\"a\",1,2,3,4,100,\"c\",5,6,7,\"c\"]\n",
    "b = a[1:10]\n",
    "#b)\n",
    "b.remove(\"c\")\n",
    "b.remove(100)\n",
    "#c)\n",
    "b += [8,9,10]\n",
    "print(b)"
   ]
  },
  {
   "cell_type": "markdown",
   "metadata": {},
   "source": [
    "Alternative:"
   ]
  },
  {
   "cell_type": "code",
   "execution_count": 19,
   "metadata": {},
   "outputs": [
    {
     "name": "stdout",
     "output_type": "stream",
     "text": [
      "[1, 2, 3, 4, 5, 6, 7, 8, 9, 10]\n"
     ]
    }
   ],
   "source": [
    "b = a[1:5]+a[7:10]\n",
    "b.append(8)\n",
    "b.append(9)\n",
    "b.append(10)\n",
    "print(b)"
   ]
  },
  {
   "cell_type": "markdown",
   "metadata": {},
   "source": [
    "### 4. Tupel und Mehrdimensionale Arrays"
   ]
  },
  {
   "cell_type": "code",
   "execution_count": 30,
   "metadata": {},
   "outputs": [
    {
     "name": "stdout",
     "output_type": "stream",
     "text": [
      "[['Gold', ('Peter', 1.9, 25)], ['Silber', ('Hans', 1.75, 23)], ['Bronze', ('Ingo', 1.82, 33)]]\n"
     ]
    }
   ],
   "source": [
    "#a)\n",
    "t1 = \"Peter\", 1.90, 25\n",
    "t2 = \"Hans\", 1.75, 23\n",
    "t3 = \"Ingo\", 1.82, 33\n",
    "#b)\n",
    "a = [[\"Gold\",t1],[\"Silber\",t2],[\"Bronze\", t3]]\n",
    "print(a)"
   ]
  },
  {
   "cell_type": "code",
   "execution_count": null,
   "metadata": {},
   "outputs": [],
   "source": [
    "#c)\n",
    "print(a[0][1][0] +\" erhält die \"+a[0][0]+\" Medaille.\")\n",
    "#hier ruft man über a[0][1] das Tripel auf und mit a[0][1][0] die erste Stelle des Tripels."
   ]
  },
  {
   "cell_type": "markdown",
   "metadata": {},
   "source": [
    "### 5. Zeitangaben und Slicing"
   ]
  },
  {
   "cell_type": "code",
   "execution_count": 43,
   "metadata": {},
   "outputs": [
    {
     "name": "stdout",
     "output_type": "stream",
     "text": [
      "2020, 10.08.\n",
      "2020-08-10 00:00:00\n"
     ]
    }
   ],
   "source": [
    "#a)\n",
    "satz = \"Ich vermute, dass wir 2020, 10.08., einen wichtigen Termin haben.\"\n",
    "anfang = satz.index(\"2\")\n",
    "ende = satz.index(\"8\")\n",
    "substring = satz[anfang:ende+2]\n",
    "print(substring)\n",
    "\n",
    "from datetime import datetime\n",
    "date = datetime.strptime(substring, \"%Y, %d.%m.\")\n",
    "print(date)"
   ]
  },
  {
   "cell_type": "code",
   "execution_count": 45,
   "metadata": {},
   "outputs": [
    {
     "name": "stdout",
     "output_type": "stream",
     "text": [
      "10.08.2020\n"
     ]
    }
   ],
   "source": [
    "print(date.strftime('%d.%m.%Y'))"
   ]
  },
  {
   "cell_type": "code",
   "execution_count": 48,
   "metadata": {},
   "outputs": [
    {
     "name": "stdout",
     "output_type": "stream",
     "text": [
      "261 days, 12:38:11.122199\n"
     ]
    }
   ],
   "source": [
    "#b)\n",
    "heute = datetime.now()\n",
    "delta = date-heute\n",
    "print(delta)"
   ]
  }
 ],
 "metadata": {
  "kernelspec": {
   "display_name": "Python 3",
   "language": "python",
   "name": "python3"
  },
  "language_info": {
   "codemirror_mode": {
    "name": "ipython",
    "version": 3
   },
   "file_extension": ".py",
   "mimetype": "text/x-python",
   "name": "python",
   "nbconvert_exporter": "python",
   "pygments_lexer": "ipython3",
   "version": "3.8.5"
  }
 },
 "nbformat": 4,
 "nbformat_minor": 2
}
