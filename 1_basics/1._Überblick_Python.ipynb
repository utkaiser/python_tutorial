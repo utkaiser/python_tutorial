{
 "cells": [
  {
   "cell_type": "markdown",
   "metadata": {},
   "source": [
    "# 1. Überblick Python"
   ]
  },
  {
   "cell_type": "markdown",
   "metadata": {},
   "source": [
    "## 1.1 Motivation"
   ]
  },
  {
   "cell_type": "markdown",
   "metadata": {},
   "source": [
    "Python ist eine weit verbreitete und universell einsetzbare Programmiersprache.<br>\n",
    "Die Programmiersprache unterstützt objektorientierte, aspektorientierte und funktionale Programmierung.\n",
    "\n",
    "Die erste Vollversion erschien 1994 und der Name \"Python\" geht auf die Fernsehsendung Monty Python's Flying Circus zurück.<br>\n",
    "Die moderne Programmiersprache ist open source und hat eine große Community.<br>\n",
    "In der Softwareentwicklung ist Python laut etlichen [Umfragen und Rankings](https://de.statista.com/statistik/daten/studie/678732/umfrage/beliebteste-programmiersprachen-weltweit-laut-pypl-index/) aktuell die beliebteste Programmiersprache.\n",
    "\n",
    "Die Syntax in Python ist sehr einfach gehalten: <br>\n",
    "Variablentypen werden dynamisch vergeben werden und der Wortschatz ist klar und übersichtlich.\n",
    "Es wird größtenteils auf Klammern, Semikolons und Schlüsselwörtern verzichtet. Dadurch ist Python leicht zu erlernen bzw. zu verstehen und ermöglicht es dem Programmierer, sich vergleichsweise schnell in die Programmiersprache einzuarbeiten.\n",
    "Darüber hinaus ist die Speicherverwaltung komplett automatisiert.\n",
    "\n",
    "Python erlaubt die Aufteilung von Programmen in Module, die in anderen Python-Programmen wiederverwendet werden können. Es kommt mit einer großen Sammlung von Standardmodulen, die als Grundlage für eigene Programme genutzt werden können. <br>\n",
    "Die Programmiersprache besitzt beispielsweise mächtige Frameworks und Bibliotheken im Bereich AI, Data Science und Machine Learning.\n",
    "\n",
    "Außerdem ist Python objektorientiert. Dieses Konzept bringt viele Vorteile mit sich und kann auf vielschichtige Weise genutzt werden. Die Aspekte der Objektorientierheit wirst Du in einem späteren Abschnitt näher kennenlernen.\n",
    "Python ermöglicht im Gegensatz zu einigen anderen Sprachen, wie beispielsweise Java, nicht streng nur objektorientierter Programmierung (OOP), sondern erlaubt auch prozedurale Arbeitsweisen. Daher bezeichnet man Python auch als Multiparadigmensprache."
   ]
  },
  {
   "cell_type": "markdown",
   "metadata": {},
   "source": [
    "## 1.2 Einführung"
   ]
  },
  {
   "cell_type": "markdown",
   "metadata": {},
   "source": [
    "Python ist eine interpretierte Sprache. Das bedeutet, dass das Programm den Code während der Ausführung einliest und direkt in Maschinensprache übersetzt.\n",
    "\n",
    "Im Folgenden wird auf die einzelnen Aspekte von Python ausführlich eingegangen.<br>\n",
    "Anschließend an die theoretischen Abschnitte findest Du Übungsaufgaben, in denen das Gelernte angewendet werden kann und auf kleine Schwierigkeiten bzw. Besonderheiten eingegangen wird.\n",
    "In den jeweiligen Abschnitten habe ich Websites verlinkt, die weitere Informationen bieten.<br>\n",
    "Ein ausführliches Python-Handbuch finden Sie [hier](http://openbook.rheinwerk-verlag.de/python/).\n",
    "\n",
    "Die Agenda ist in vier Teile gegliedert:<br>\n",
    "1. Basics in Python\n",
    "2. Einführung in die Data Science\n",
    "3. Objektorientierte Programmierung\n",
    "4. Testing\n",
    "\n",
    "Die einzelnen Abschnitte und Aufgaben sind in Jupyter Notebooks angelegt.<br>\n",
    "Die Notebooks enthalten einen Kernel (stellt den Interpreter dar) und basieren auf einer webbasierten Client-Anwendung. Mittels dieser Notebooks lassen sich auf einfache Weise Ergebnisse teilen und Versionen verwalten.\n",
    "Vorteilhaft ist ebenfalls, dass jeglicher Code in unabhängigen Zellen untergebracht werden kann: So ist es möglich, einzelne Codeblöcke individuell auszuführen und zu testen.\n",
    "Im zweiten Abschnitt findest Du eine kurze Einführung in Jupyter Notebooks."
   ]
  },
  {
   "cell_type": "markdown",
   "metadata": {},
   "source": [
    "## 1.3 Anwendungsgebiete"
   ]
  },
  {
   "cell_type": "markdown",
   "metadata": {},
   "source": [
    "Anwendungsgebiete von Python sind aufgrund der großen Anzahl an mächigen Bibliotheken vielseitig. In Bereichen wie AI, Data Science und Machine Learning, aber auch in der Webprogrammierung wird die Programmiersprache häufig eingesetzt. Auch in der Forschung, in Datenbankanwendungen und GUI-Entwicklungen wird Python verwendet.\n",
    "\n",
    "Die Grenzen von Python liegen dort, wo es auf systemnahe Programmierung bspw. Gerätetreiber oder optimale Geschwindigkeit ankommt. Python ist als Interpretersprache naturgemäß Sprachen wie z.B. der Programmiersprache C unterlegen. "
   ]
  },
  {
   "cell_type": "markdown",
   "metadata": {},
   "source": [
    "## 1.4.\tAlternativen"
   ]
  },
  {
   "cell_type": "markdown",
   "metadata": {},
   "source": [
    "* vergleichbare OOP: Java, Ruby, C++, JavaScript, ...\n",
    "* C, Matlab, R, SAS, SPSS, ..."
   ]
  }
 ],
 "metadata": {
  "kernelspec": {
   "display_name": "Python 3",
   "language": "python",
   "name": "python3"
  },
  "language_info": {
   "codemirror_mode": {
    "name": "ipython",
    "version": 3
   },
   "file_extension": ".py",
   "mimetype": "text/x-python",
   "name": "python",
   "nbconvert_exporter": "python",
   "pygments_lexer": "ipython3",
   "version": "3.8.5"
  }
 },
 "nbformat": 4,
 "nbformat_minor": 2
}