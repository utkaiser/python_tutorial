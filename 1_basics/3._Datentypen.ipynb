{
 "cells": [
  {
   "cell_type": "markdown",
   "metadata": {},
   "source": [
    "## 3.\tDatentypen"
   ]
  },
  {
   "cell_type": "markdown",
   "metadata": {},
   "source": [
    "## 3.1.\tPrimitive Datentypen und `Strings`"
   ]
  },
  {
   "cell_type": "markdown",
   "metadata": {},
   "source": [
    "Python basiert auf dynamischer Typisierung. Das bedeutet, dass der Variablentyp und damit der benötigte Speicherplatz hingegen erst bei der Ausführung festgelegt wird. Das macht es möglich, den Variablentypen innerhalb des Programms zu ändern.<br>\n",
    "Variablennamen sind *case-sensitive* (Groß-und Kleinschreibung wird beachtet) und zulässige Zeichen sind Buchstaben, Zahlen (außer am Anfang) und Unterstriche.\n",
    "\n",
    "Häufig vorkommende Datentypen sind:\n",
    "* `int` (ganze Zahl)\n",
    "* `float` (Fließkommazahl)\n",
    "* `String` (Zeichenkette)\n",
    "* `bool` (Wahrheitswert, `True` oder `False`)\n",
    "\n",
    "Trotz der dynamischen Typvergabe muss man einige Aspekte beachte:\n",
    "1. Der Typ einer Variable kann mit der Funktion `type(variable)` abgefragt werden."
   ]
  },
  {
   "cell_type": "code",
   "execution_count": 2,
   "metadata": {},
   "outputs": [
    {
     "name": "stdout",
     "output_type": "stream",
     "text": [
      "<class 'str'>\n",
      "<class 'int'>\n"
     ]
    }
   ],
   "source": [
    "a = \"Hallo\"\n",
    "b = 3\n",
    "print(type(a))\n",
    "print(type(b))"
   ]
  },
  {
   "cell_type": "markdown",
   "metadata": {},
   "source": [
    "2. Bei vielen Funktionen muss auf den Datentyp geachtet werden. Im Bsp. sieht man, dass die Funktion `len(variable)` nur auf `Strings` angewendet werden kann (da ein `Integer`-Wert keine Länge hat).<br> Um den Fehler zu sehen führen Sie bitte den Code darunter aus."
   ]
  },
  {
   "cell_type": "code",
   "execution_count": 3,
   "metadata": {},
   "outputs": [
    {
     "name": "stdout",
     "output_type": "stream",
     "text": [
      "Variable a hat 5 Buchstaben\n"
     ]
    }
   ],
   "source": [
    "a = \"Hallo\"\n",
    "print(\"Variable a hat\",len(a),\"Buchstaben\")"
   ]
  },
  {
   "cell_type": "code",
   "execution_count": 1,
   "metadata": {},
   "outputs": [
    {
     "ename": "TypeError",
     "evalue": "object of type 'int' has no len()",
     "output_type": "error",
     "traceback": [
      "\u001B[1;31m---------------------------------------------------------------------------\u001B[0m",
      "\u001B[1;31mTypeError\u001B[0m                                 Traceback (most recent call last)",
      "\u001B[1;32m<ipython-input-1-ceb69047a414>\u001B[0m in \u001B[0;36m<module>\u001B[1;34m()\u001B[0m\n\u001B[0;32m      1\u001B[0m \u001B[0mb\u001B[0m \u001B[1;33m=\u001B[0m \u001B[1;36m3\u001B[0m\u001B[1;33m\u001B[0m\u001B[0m\n\u001B[1;32m----> 2\u001B[1;33m \u001B[0mprint\u001B[0m\u001B[1;33m(\u001B[0m\u001B[1;34m\"Variable a hat \"\u001B[0m\u001B[1;33m,\u001B[0m\u001B[0mlen\u001B[0m\u001B[1;33m(\u001B[0m\u001B[0mb\u001B[0m\u001B[1;33m)\u001B[0m\u001B[1;33m,\u001B[0m\u001B[1;34m\" Buchstaben\"\u001B[0m\u001B[1;33m)\u001B[0m\u001B[1;33m\u001B[0m\u001B[0m\n\u001B[0m",
      "\u001B[1;31mTypeError\u001B[0m: object of type 'int' has no len()"
     ]
    }
   ],
   "source": [
    "b = 3\n",
    "print(\"Variable a hat \",len(b),\" Buchstaben\")"
   ]
  },
  {
   "cell_type": "markdown",
   "metadata": {},
   "source": [
    "Ebenfalls muss man bei Rechenoperationen auf Datentypen achten: (Führe den Code darunter aus.) "
   ]
  },
  {
   "cell_type": "code",
   "execution_count": null,
   "metadata": {},
   "outputs": [],
   "source": [
    "a = \"Hallo, \"\n",
    "b = \"wie geht's?\"\n",
    "c = a+b\n",
    "print(c)"
   ]
  },
  {
   "cell_type": "code",
   "execution_count": 38,
   "metadata": {},
   "outputs": [],
   "source": [
    "d = \"Nummer \"\n",
    "e = 4 # e --> int\n",
    "f = d+e\n",
    "print(f)"
   ]
  },
  {
   "cell_type": "markdown",
   "metadata": {},
   "source": [
    "3. Umwandlungen können über die Funktion `eval(variable)` realisiert werden. Die Funktion erkennt selbständig, wie es den Datentyp umwandeln muss."
   ]
  },
  {
   "cell_type": "code",
   "execution_count": 4,
   "metadata": {},
   "outputs": [
    {
     "name": "stdout",
     "output_type": "stream",
     "text": [
      "6\n"
     ]
    }
   ],
   "source": [
    "b = \"3\" #b --> String\n",
    "a = eval(b) #a --> int\n",
    "print(a*2)"
   ]
  },
  {
   "cell_type": "code",
   "execution_count": 5,
   "metadata": {},
   "outputs": [
    {
     "name": "stdout",
     "output_type": "stream",
     "text": [
      "33\n"
     ]
    }
   ],
   "source": [
    "a = \"3\" #a --> String\n",
    "print(a*2) #printet 2mal den String a aus"
   ]
  },
  {
   "cell_type": "markdown",
   "metadata": {},
   "source": [
    "Man kann die Umwandlung des Datentyps auch direkt vornehmen:"
   ]
  },
  {
   "cell_type": "code",
   "execution_count": 101,
   "metadata": {},
   "outputs": [
    {
     "name": "stdout",
     "output_type": "stream",
     "text": [
      "1.0\n"
     ]
    }
   ],
   "source": [
    "a = 1 #a --> int\n",
    "a = float(a)\n",
    "print(a)"
   ]
  },
  {
   "cell_type": "code",
   "execution_count": 100,
   "metadata": {},
   "outputs": [
    {
     "name": "stdout",
     "output_type": "stream",
     "text": [
      "1\n",
      "<class 'int'>\n"
     ]
    }
   ],
   "source": [
    "a = \"1\" #a --> String\n",
    "a = int(a)\n",
    "print(a)\n",
    "print(type(a))"
   ]
  },
  {
   "cell_type": "markdown",
   "metadata": {},
   "source": [
    "4. Boolsche Werte werden mit `&` verbunden."
   ]
  },
  {
   "cell_type": "code",
   "execution_count": 49,
   "metadata": {},
   "outputs": [
    {
     "name": "stdout",
     "output_type": "stream",
     "text": [
      "False\n"
     ]
    }
   ],
   "source": [
    "a = True\n",
    "b = False\n",
    "c = a&b\n",
    "print(c)"
   ]
  },
  {
   "cell_type": "markdown",
   "metadata": {},
   "source": [
    " "
   ]
  },
  {
   "cell_type": "markdown",
   "metadata": {},
   "source": [
    "## 3.2 Datenstrukturen"
   ]
  },
  {
   "cell_type": "markdown",
   "metadata": {},
   "source": [
    "In diesem Teilabschnitt wird kurz auf die Grundlagen der Referenzdatentypen eingegangen.\n",
    "Im Umgang mit `Pandas` und im 2. Teil des Tutorials wirst du anwendungsorientiert diese Datentypen näher kennenlernen."
   ]
  },
  {
   "cell_type": "markdown",
   "metadata": {},
   "source": [
    "### 3.2.1. Listen"
   ]
  },
  {
   "cell_type": "markdown",
   "metadata": {},
   "source": [
    "Listen sind eine sehr wichtige Datenstruktur in Python.\n",
    "Mit ihnen kann man mehrere Informationen in einer übersichtlichen Struktur zusammenfassen.\n",
    "Die Syntax sieht folgendermaßen aus:"
   ]
  },
  {
   "cell_type": "code",
   "execution_count": 54,
   "metadata": {},
   "outputs": [],
   "source": [
    "a = [1,2, \"Hallo\",3.0, True]"
   ]
  },
  {
   "cell_type": "markdown",
   "metadata": {},
   "source": [
    "Es können also verschiedene Datentypen in einer Liste gespeichert werden.\n",
    "Um mit Listen zu arbeiten muss auf die einzelnen Werte zugegriffen werden:"
   ]
  },
  {
   "cell_type": "code",
   "execution_count": 73,
   "metadata": {},
   "outputs": [
    {
     "name": "stdout",
     "output_type": "stream",
     "text": [
      "1\n"
     ]
    }
   ],
   "source": [
    "b = a[0]\n",
    "print(b)"
   ]
  },
  {
   "cell_type": "markdown",
   "metadata": {},
   "source": [
    "Die Werte können wie folgt geändert werden:"
   ]
  },
  {
   "cell_type": "code",
   "execution_count": 76,
   "metadata": {},
   "outputs": [
    {
     "name": "stdout",
     "output_type": "stream",
     "text": [
      "[2, 2, 'Hallo', 3.0, True]\n"
     ]
    }
   ],
   "source": [
    "a[0] = 2\n",
    "print(a)"
   ]
  },
  {
   "cell_type": "markdown",
   "metadata": {},
   "source": [
    "Natürlich muss darauf geachtet werden, dass nicht Stellen außerhalb des Arrays aufgerufen werden.<br>\n",
    "Bevor du den Code darunter ausführst überlege bitte, ob die Stelle 5 überhaupt existiert und was du als Output erwartest."
   ]
  },
  {
   "cell_type": "code",
   "execution_count": 82,
   "metadata": {},
   "outputs": [],
   "source": [
    "b = a[5]\n",
    "print(b)"
   ]
  },
  {
   "cell_type": "markdown",
   "metadata": {},
   "source": [
    "Du kannst eine Liste auch rückwärts durchgehen. Der letzte Eintrag lässt sich auch wie folgt erreichen:"
   ]
  },
  {
   "cell_type": "code",
   "execution_count": 78,
   "metadata": {},
   "outputs": [
    {
     "name": "stdout",
     "output_type": "stream",
     "text": [
      "True\n"
     ]
    }
   ],
   "source": [
    "b = a[-1] #der zweitletzte mit -2 usw.\n",
    "print(b)"
   ]
  },
  {
   "cell_type": "markdown",
   "metadata": {},
   "source": [
    "#### Slicing\n",
    "Um eine Teilliste zu erzeugen, schreibe:"
   ]
  },
  {
   "cell_type": "code",
   "execution_count": 79,
   "metadata": {},
   "outputs": [
    {
     "name": "stdout",
     "output_type": "stream",
     "text": [
      "[2, 'Hallo', 3.0]\n"
     ]
    }
   ],
   "source": [
    "b = a[1:4]\n",
    "print(b)"
   ]
  },
  {
   "cell_type": "markdown",
   "metadata": {},
   "source": [
    "Will man bis zum Ende, oder von 0 bis x, durchlaufen, schreibt man:"
   ]
  },
  {
   "cell_type": "code",
   "execution_count": 80,
   "metadata": {},
   "outputs": [],
   "source": [
    "b = a[:3]\n",
    "b = a[4:]"
   ]
  },
  {
   "cell_type": "markdown",
   "metadata": {},
   "source": [
    "Arrays lassen sich über `+` addieren oder mit `*2` verdoppeln."
   ]
  },
  {
   "cell_type": "code",
   "execution_count": 87,
   "metadata": {},
   "outputs": [
    {
     "name": "stdout",
     "output_type": "stream",
     "text": [
      "[2, 2, 3.0, True, 3, 3, 3, 2, 2, 3.0, True, 3, 3, 3]\n",
      "[2, 2, 3.0, True, 3, 3, 3, 2, 2, 3.0, True, 3, 3, 3]\n"
     ]
    }
   ],
   "source": [
    "print(a+a)\n",
    "print(a*2)"
   ]
  },
  {
   "cell_type": "markdown",
   "metadata": {},
   "source": [
    "Außerdem lässt sich die Liste mit Funktionen bearbeiten.<br>\n",
    "Beispiele:"
   ]
  },
  {
   "cell_type": "code",
   "execution_count": 11,
   "metadata": {},
   "outputs": [
    {
     "name": "stdout",
     "output_type": "stream",
     "text": [
      "2\n",
      "5\n",
      "[1, 2, 3.0, True, 3]\n"
     ]
    }
   ],
   "source": [
    "a = [1,2, \"Hallo\",3.0, True]\n",
    "a.append(3)\n",
    "a.remove(\"Hallo\")\n",
    "print(a.index(3.0))\n",
    "print(len(a))\n",
    "print(a)"
   ]
  },
  {
   "cell_type": "markdown",
   "metadata": {},
   "source": [
    "Mit der `pop`-Funktion lässt sich das letzte Element aus der Liste entfernen. Das entfernte Element kann gespeichert werden:"
   ]
  },
  {
   "cell_type": "code",
   "execution_count": 13,
   "metadata": {},
   "outputs": [
    {
     "name": "stdout",
     "output_type": "stream",
     "text": [
      "4\n",
      "[1, 2, 3]\n"
     ]
    }
   ],
   "source": [
    "a = [1,2,3,4]\n",
    "var = a.pop()\n",
    "print(var)\n",
    "print(a)"
   ]
  },
  {
   "cell_type": "markdown",
   "metadata": {},
   "source": [
    "Um Methoden-Vorschläge zu sehen schreibt man `a.` und betätigt dann `TAB`. Das funktioniert bei allen Datenstrukturen.<br>\n",
    "Nähere Erklärungen zu `List`-Methoden finden Sie auch auf dieser [Website](https://www.w3schools.com/python/python_ref_list.asp).<br>\n",
    "Probieren Sie gerne ein paar Methoden in der nächsten Zeile aus."
   ]
  },
  {
   "cell_type": "code",
   "execution_count": null,
   "metadata": {},
   "outputs": [],
   "source": []
  },
  {
   "cell_type": "markdown",
   "metadata": {},
   "source": [
    "### 3.2.2. `Tupel`"
   ]
  },
  {
   "cell_type": "markdown",
   "metadata": {},
   "source": [
    "Tupel sind unveränderliche Daten und sind vergleichbar mit Listen."
   ]
  },
  {
   "cell_type": "code",
   "execution_count": 106,
   "metadata": {},
   "outputs": [
    {
     "name": "stdout",
     "output_type": "stream",
     "text": [
      "('Max', 'Mustermann', 1.89, 24)\n"
     ]
    }
   ],
   "source": [
    "tupel = \"Max\", \"Mustermann\", 1.89, 24\n",
    "print(tupel)"
   ]
  },
  {
   "cell_type": "markdown",
   "metadata": {},
   "source": [
    "Inhalte des Tupels lassen sich nicht ändern. Führe bitte die Zeile darunter aus."
   ]
  },
  {
   "cell_type": "code",
   "execution_count": 107,
   "metadata": {},
   "outputs": [],
   "source": [
    "tupel[1] = \"Schmidt\""
   ]
  },
  {
   "cell_type": "markdown",
   "metadata": {},
   "source": [
    "Um Werte hinzuzufügen müssen diese Werte zuerst als Tupel gespeichert werden."
   ]
  },
  {
   "cell_type": "code",
   "execution_count": 112,
   "metadata": {},
   "outputs": [
    {
     "name": "stdout",
     "output_type": "stream",
     "text": [
      "('Max', 'Mustermann', 1.89, 24, 10)\n"
     ]
    }
   ],
   "source": [
    "tupel2 = 10,\n",
    "tupel += tupel2 #gleich zu tupel = tupel + tupel2 \n",
    "print(tupel)"
   ]
  },
  {
   "cell_type": "markdown",
   "metadata": {},
   "source": [
    "Oft wird verwendet, dass eine Tupel viele unveränderliche und einen veränderlichen Wert hat. Das lässt sich mit einem Listenelement realisieren.<br>\n",
    "In unserem Beispiel verändert sich das Alter der Person auf 25 Jahre. Der Tupel muss wie folgt geändert werden um das Alter ändern zu können:"
   ]
  },
  {
   "cell_type": "code",
   "execution_count": 1,
   "metadata": {},
   "outputs": [
    {
     "name": "stdout",
     "output_type": "stream",
     "text": [
      "('Max', 'Mustermann', 1.89, [25])\n"
     ]
    }
   ],
   "source": [
    "tupel = \"Max\", \"Mustermann\", 1.89, [24]\n",
    "tupel[3][0] = 25 # bedeutet ich rufe die 3. Stelle im Tupel auf und dann die 0. Stelle im Array\n",
    "print(tupel)"
   ]
  },
  {
   "cell_type": "markdown",
   "metadata": {},
   "source": [
    "### 3.2.3 `Set`"
   ]
  },
  {
   "cell_type": "markdown",
   "metadata": {},
   "source": [
    "Ein `Set` in Python ist eine Datenstruktur, die vergleichbar zu einer Menge in der Mathematik ist. Das bedeutet, dass die Elemente ungeordnet sind und Elemente nicht doppelt vorkommen."
   ]
  },
  {
   "cell_type": "code",
   "execution_count": 8,
   "metadata": {},
   "outputs": [
    {
     "name": "stdout",
     "output_type": "stream",
     "text": [
      "{'w', 't', 'y', 'q', 'r', 'e'}\n",
      "{1, 2, 3}\n",
      "True\n"
     ]
    }
   ],
   "source": [
    "A = {1, 2, 3, 1}\n",
    "B = set('qwerty')\n",
    "C = {2,1,3}\n",
    "print(B)\n",
    "print(A)\n",
    "print(A==C)#überprüft, ob die Mengen A und C die gleichen Elemente enthalten"
   ]
  },
  {
   "cell_type": "markdown",
   "metadata": {},
   "source": [
    "Außerdem lassen sich verschiedene Mengenoperationen durchführen:"
   ]
  },
  {
   "attachments": {},
   "cell_type": "markdown",
   "metadata": {},
   "source": [
    "<img src=\"attachment:grafik.png\" width=\"700\">"
   ]
  },
  {
   "cell_type": "markdown",
   "metadata": {},
   "source": [
    "### 3.2.4 `Dictionaries`"
   ]
  },
  {
   "cell_type": "markdown",
   "metadata": {},
   "source": [
    "Ein `Dictionary` ist ungeordnet, änderbar und jedem Schlüssel (`Key`) ist ein Wert (`Value`) zugeordnet. Man kann auf die Werte über den Schlüssel wie folgt zugreifen:"
   ]
  },
  {
   "cell_type": "code",
   "execution_count": 33,
   "metadata": {},
   "outputs": [
    {
     "name": "stdout",
     "output_type": "stream",
     "text": [
      "Ford\n",
      "Mustang\n"
     ]
    }
   ],
   "source": [
    "dict1 ={\n",
    "    \"brand\": \"Ford\", #links steht der Key, rechts der Value\n",
    "    \"model\": \"Mustang\",\n",
    "    \"year\": 1964\n",
    "}\n",
    "dict1[\"year\"] = 1963 #ändert den Wert\n",
    "dict1[\"sales\"] = 123 #fügt neues Key-Value-Paar hinzu\n",
    "x = dict1[\"brand\"]\n",
    "y = dict1.get(\"model\")\n",
    "print(x)\n",
    "print(y)"
   ]
  },
  {
   "cell_type": "markdown",
   "metadata": {},
   "source": [
    "Diese Datenstruktur besitzt viele weitere Operationen, unter anderem sind wichtig:"
   ]
  },
  {
   "cell_type": "code",
   "execution_count": 34,
   "metadata": {},
   "outputs": [
    {
     "name": "stdout",
     "output_type": "stream",
     "text": [
      "1963\n",
      "{'brand': 'Ford', 'model': 'Mustang', 'sales': 123}\n"
     ]
    }
   ],
   "source": [
    "print(dict1.pop(\"year\")) #diese Operation gibt den Wert des Keys zurück und entfernt ihn aus dem Dictionary\n",
    "print(dict1)"
   ]
  },
  {
   "cell_type": "code",
   "execution_count": 40,
   "metadata": {},
   "outputs": [
    {
     "data": {
      "text/plain": [
       "dict_values(['Ford', 'Mustang', 123])"
      ]
     },
     "execution_count": 40,
     "metadata": {},
     "output_type": "execute_result"
    }
   ],
   "source": [
    "dict1.keys() #liefert Keys\n",
    "dict1.values() #liefert Values"
   ]
  },
  {
   "cell_type": "markdown",
   "metadata": {},
   "source": [
    "Wieder kannst du über `TAB` alle Funktionen sehen, die diese Datenstruktur bietet. Eine ausführliche Beschreibung aller Funktionen findest du [hier](https://www.w3schools.com/python/python_dictionaries.asp)."
   ]
  },
  {
   "cell_type": "markdown",
   "metadata": {},
   "source": [
    "### 3.2.5 Standartmodule für Zeit-Daten"
   ]
  },
  {
   "cell_type": "markdown",
   "metadata": {},
   "source": [
    "Python bietet reichlich Funktionalität, um mit Datums- und Zeit-Daten umzugehen. <br>\n",
    "Die Standard-Bibliotheken enthalten folgende Module:\n",
    "* `datetime`\n",
    "* `time`\n",
    "* `calendar`"
   ]
  },
  {
   "cell_type": "markdown",
   "metadata": {},
   "source": [
    "Im folgenden werde ich exemplarisch auf `Datetime` eingehen:<br>\n",
    "Um die Klasse `Datetime` nutzen zu können, musst du sie zunächst importieren. Ist die Klasse einmal in einer Zelle importiert worden, muss sie in den nächsten Zellen nicht importiert werden."
   ]
  },
  {
   "cell_type": "code",
   "execution_count": 17,
   "metadata": {},
   "outputs": [
    {
     "name": "stdout",
     "output_type": "stream",
     "text": [
      "1993-12-14\n"
     ]
    }
   ],
   "source": [
    "from datetime import date\n",
    "x = date(1993, 12, 14)\n",
    "print(x)"
   ]
  },
  {
   "cell_type": "code",
   "execution_count": 18,
   "metadata": {},
   "outputs": [
    {
     "name": "stdout",
     "output_type": "stream",
     "text": [
      "2019-11-22 10:31:04.967801\n"
     ]
    }
   ],
   "source": [
    "from datetime import datetime\n",
    "x = datetime.now()\n",
    "print(x)"
   ]
  },
  {
   "cell_type": "markdown",
   "metadata": {},
   "source": [
    "Mit der Methode `strftime()` lassen sich aus Zeitangaben in verschiedenen Formen ausgeben:"
   ]
  },
  {
   "cell_type": "code",
   "execution_count": 19,
   "metadata": {},
   "outputs": [
    {
     "name": "stdout",
     "output_type": "stream",
     "text": [
      "14 December 1993\n",
      "14/12/1993\n"
     ]
    }
   ],
   "source": [
    "d1 = datetime(1993, 12, 14)\n",
    "print(d1.strftime('%d %B %Y'))\n",
    "print(d1.strftime('%d/%m/%Y'))"
   ]
  },
  {
   "cell_type": "markdown",
   "metadata": {},
   "source": [
    "Zeitangaben lassen sich auch aus `Strings` erstellen:"
   ]
  },
  {
   "cell_type": "code",
   "execution_count": 20,
   "metadata": {},
   "outputs": [
    {
     "name": "stdout",
     "output_type": "stream",
     "text": [
      "1999-12-30 00:00:00\n"
     ]
    }
   ],
   "source": [
    "t = datetime.strptime(\"30 12 1999\", \"%d %m %Y\")\n",
    "print(t)"
   ]
  },
  {
   "cell_type": "markdown",
   "metadata": {},
   "source": [
    "Zeitdiffenzen lassen sich wie folgt berechnen:"
   ]
  },
  {
   "cell_type": "code",
   "execution_count": 28,
   "metadata": {},
   "outputs": [
    {
     "name": "stdout",
     "output_type": "stream",
     "text": [
      "1993-12-14 00:00:00\n",
      "2012-02-01 00:00:00\n"
     ]
    }
   ],
   "source": [
    "print(d1)\n",
    "d2 = datetime(2012,2,1)\n",
    "print(d2)"
   ]
  },
  {
   "cell_type": "code",
   "execution_count": 31,
   "metadata": {},
   "outputs": [
    {
     "name": "stdout",
     "output_type": "stream",
     "text": [
      "-6623 days, 0:00:00\n"
     ]
    }
   ],
   "source": [
    "delta = d1-d2\n",
    "print(delta)"
   ]
  },
  {
   "cell_type": "markdown",
   "metadata": {},
   "source": [
    "Weitere Informationen zu Zeitangaben findest auf dieser hier: https://www.python-kurs.eu/python3_time_and_date.php"
   ]
  }
 ],
 "metadata": {
  "kernelspec": {
   "display_name": "Python 3",
   "language": "python",
   "name": "python3"
  },
  "language_info": {
   "codemirror_mode": {
    "name": "ipython",
    "version": 3
   },
   "file_extension": ".py",
   "mimetype": "text/x-python",
   "name": "python",
   "nbconvert_exporter": "python",
   "pygments_lexer": "ipython3",
   "version": "3.8.5"
  }
 },
 "nbformat": 4,
 "nbformat_minor": 2
}