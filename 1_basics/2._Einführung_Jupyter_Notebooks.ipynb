{
 "cells": [
  {
   "cell_type": "markdown",
   "metadata": {},
   "source": [
    "# 2. Einführung Jupyter Notebooks"
   ]
  },
  {
   "cell_type": "markdown",
   "metadata": {},
   "source": [
    "In diesem Abschnitt wird interaktiv auf einige wichtige Aspekte im Umgang mit Jupyter Notebooks eingegangen.\n",
    "\n",
    "* Jupyter Notebooks basieren auf `IPython`. <br> `IPython` ist ein Dateiformat, das eine interaktive Programmierumgebung darstellt. Man kann Code, Text, Mathematik, Plots und Medien in einem Programm kombinieren und ausführen. Diese Programme lassen sich dann über Jupyter ausführen.\n",
    "\n",
    "* Führe in der folgenden Zelle Ihren ersten Code aus. Gebe hierfür `print(\"Hello World\")` in die nächste Zeile<br> und drücken anschließend `alt` und `enter` gleichzeitig, oder betätige `Run` in der Toolbar, um den Code auszuführen."
   ]
  },
  {
   "cell_type": "code",
   "execution_count": null,
   "metadata": {},
   "outputs": [],
   "source": []
  },
  {
   "cell_type": "markdown",
   "metadata": {},
   "source": [
    "Du kannst Ausgaben auch ohne die `print`-Funktion realisieren:"
   ]
  },
  {
   "cell_type": "code",
   "execution_count": 3,
   "metadata": {},
   "outputs": [
    {
     "name": "stdout",
     "output_type": "stream",
     "text": [
      "Hallo\n"
     ]
    },
    {
     "data": {
      "text/plain": [
       "'Hallo'"
      ]
     },
     "execution_count": 3,
     "metadata": {},
     "output_type": "execute_result"
    }
   ],
   "source": [
    "print(\"Hallo\")\n",
    "\"Hallo\""
   ]
  },
  {
   "cell_type": "markdown",
   "metadata": {},
   "source": [
    "* Jeder Zelle wird ein bestimmter Typ zugeordnet. <br> In der Toolbar (unterhalb von `Help`) findest Du ein Dropdown-Fenster. Hier habst Du die Möglichkeit, den Zelltyp zu wählen.  <br> Schreibe nun in der nächsten Zeile ebenfalls `print(\"Hello World\")` in eine Textzelle. <br> Wähle dafür im Dropdown-Fenster `Markdown` aus und gebe den Text ein. Betätige ebenfalls `Run`. <br>"
   ]
  },
  {
   "cell_type": "code",
   "execution_count": null,
   "metadata": {},
   "outputs": [],
   "source": []
  },
  {
   "cell_type": "markdown",
   "metadata": {},
   "source": [
    "* Mit einem Doppelklick auf das Textfeld lässt sich die Eingabe bearbeiten. <br> \n",
    "* Die wichtigen Zelltypen sind `Markdown` und `Code`, die anderen werden im gesamten Tutorial nicht weiter betrachtet.\n",
    "* In einer Textzelle lassen sich Überschriften schreiben. Mit `#` kennzeichnest du die größte Überschrift, mit `##` die nächst kleinere usw.. <br>Denke daran, dass du nach dem `#` ein Leerzeichen schreiben und die Zelle als Markdown markieren musst.\n",
    "* <b>Kommentar</b> im Code lassen sich ebenfalls mit `#` schreiben. Markiere hierfür die Zelle als Codezelle."
   ]
  },
  {
   "cell_type": "code",
   "execution_count": null,
   "metadata": {},
   "outputs": [],
   "source": [
    "#das ist ein Kommentar"
   ]
  },
  {
   "cell_type": "markdown",
   "metadata": {},
   "source": [
    "* Rechts neben dem Dropdown-Fenster befindet sich ein Tastatursymbol. Beim Klicken auf dieses Symbol öffnet sich ein Suchfenster, welches auch nützliche Shortcuts enthält. Um diese Shortcuts auszuführen, klicke auf die gewünschte Zelle und drücke `esc` (Escape). <br>Die Umrahmung der Zelle färbt sich nun blau und man befindet sich im `Command-Mode`. Die Shortcuts lassen sich jetzt ausführen. <br> Der Command-Mode ermögicht es ebenfalls, schnell durch die einzelnen Zellen zu springen, ohne sie zu bearbeiten. Möchte man nun eine Zelle editieren, drückt man an der gewünschten Zelle `enter`."
   ]
  },
  {
   "cell_type": "code",
   "execution_count": null,
   "metadata": {},
   "outputs": [],
   "source": []
  },
  {
   "cell_type": "markdown",
   "metadata": {},
   "source": [
    "* Unter dem Reiter `File` haben Sie die Möglichkeit, Checkpoints zu vergeben und darauf zuzugreifen. Unter `File` kann das Juypternotebook außerdem in verschiedenen Dateiformaten heruntergeladen werden."
   ]
  },
  {
   "cell_type": "markdown",
   "metadata": {},
   "source": [
    "* <b>Häufige Fehlerquelle</b>: Wenn Sie eine Zeile mitten in einem Jupyter Notebook ausführen kann es sein, dass ein Fehler auftritt. Das liegt daran, dass dann nur die einzelne Zelle ausgeführt wird, und nicht alles. Zellen darüber, die noch nicht ausgeführt wurden, werden also nicht betrachtet. Typische Fehlerquellen sind dann: fehlende Imports, Variablen nicht in der Zelle deklariert oder initialisiert, etc. Im Zweifelsfall bietet es sich an, den Code einfach von oben bis zu der gewünschten Stelle zellenweise ausführen oder unter dem Reiter Cell `Run all` auszuführen."
   ]
  },
  {
   "cell_type": "markdown",
   "metadata": {},
   "source": [
    "* Mit `TAB` lassen sich Codevorschläge anzeigen (z.B. `array.>>TAB<<` --> `array.length`, `array.sort`, ...).\n",
    "* `shift` + `tab` gibt genauere Auskunft zu bestimmten Datentypen.\n",
    "* `help( --- )` gibt Erklärung zu Inhalt in der Klammer an."
   ]
  },
  {
   "cell_type": "markdown",
   "metadata": {},
   "source": [
    "Weitere Informationen und Erklärungen zu Jupter Notebooks findest Du unter: <br>\n",
    "https://jupyter.brynmawr.edu/services/public/dblank/Jupyter%20Notebook%20Users%20Manual.ipynb\n",
    "\n",
    "Gerne kannst du in diesem Dokument noch weitere Funktionalitäten der Juypter Notebooks austesten."
   ]
  },
  {
   "attachments": {},
   "cell_type": "markdown",
   "metadata": {},
   "source": []
  },
  {
   "cell_type": "code",
   "execution_count": null,
   "metadata": {},
   "outputs": [],
   "source": []
  }
 ],
 "metadata": {
  "kernelspec": {
   "display_name": "Python 3",
   "language": "python",
   "name": "python3"
  },
  "language_info": {
   "codemirror_mode": {
    "name": "ipython",
    "version": 3
   },
   "file_extension": ".py",
   "mimetype": "text/x-python",
   "name": "python",
   "nbconvert_exporter": "python",
   "pygments_lexer": "ipython3",
   "version": "3.8.5"
  }
 },
 "nbformat": 4,
 "nbformat_minor": 2
}