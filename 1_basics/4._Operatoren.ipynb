{
 "cells": [
  {
   "cell_type": "markdown",
   "metadata": {},
   "source": [
    "# 4. Operatoren"
   ]
  },
  {
   "cell_type": "markdown",
   "metadata": {},
   "source": [
    "## 4.1 Vergleichs- und Zuweisungsoperatoren"
   ]
  },
  {
   "cell_type": "markdown",
   "metadata": {},
   "source": [
    "Die meisten Operatoren für Zahlenwerte sind in Python sehr ähnlich zu anderen Programmiersprachen. Hier siehst du eine kleine Übersicht mit wichtigen Operatoren. Diese werden im Folgenden näher erläutert."
   ]
  },
  {
   "attachments": {
    "grafik.png": {
     "image/png": "[encoded data removed]"
    }
   },
   "cell_type": "markdown",
   "metadata": {},
   "source": [
    "![grafik.png](attachment:grafik.png)"
   ]
  },
  {
   "attachments": {},
   "cell_type": "markdown",
   "metadata": {},
   "source": [
    "Vergleichsoperationen liefern einen `Boolean`. Beispiele in Python:"
   ]
  },
  {
   "cell_type": "code",
   "execution_count": 1,
   "metadata": {},
   "outputs": [],
   "source": [
    "a = [0,1,2,3,0]"
   ]
  },
  {
   "cell_type": "code",
   "execution_count": 2,
   "metadata": {},
   "outputs": [
    {
     "data": {
      "text/plain": [
       "True"
      ]
     },
     "execution_count": 2,
     "metadata": {},
     "output_type": "execute_result"
    }
   ],
   "source": [
    "b = a[0]==a[4]\n",
    "c = False\n",
    "d = True\n",
    "a and b or c"
   ]
  },
  {
   "cell_type": "code",
   "execution_count": 3,
   "metadata": {},
   "outputs": [
    {
     "data": {
      "text/plain": [
       "True"
      ]
     },
     "execution_count": 3,
     "metadata": {},
     "output_type": "execute_result"
    }
   ],
   "source": [
    "3 not in [1,2,4]"
   ]
  },
  {
   "cell_type": "markdown",
   "metadata": {},
   "source": [
    "Allgemein ist zu beachten, das nur Variablen gleichen Typs verglichen werden:"
   ]
  },
  {
   "cell_type": "code",
   "execution_count": 4,
   "metadata": {},
   "outputs": [
    {
     "ename": "TypeError",
     "evalue": "unsupported operand type(s) for -: 'str' and 'int'",
     "output_type": "error",
     "traceback": [
      "\u001B[1;31m---------------------------------------------------------------------------\u001B[0m",
      "\u001B[1;31mTypeError\u001B[0m                                 Traceback (most recent call last)",
      "\u001B[1;32m<ipython-input-4-62324cf37122>\u001B[0m in \u001B[0;36m<module>\u001B[1;34m()\u001B[0m\n\u001B[0;32m      1\u001B[0m \u001B[0ma\u001B[0m  \u001B[1;33m=\u001B[0m \u001B[1;34m\"Hallo\"\u001B[0m\u001B[1;33m\u001B[0m\u001B[0m\n\u001B[1;32m----> 2\u001B[1;33m \u001B[0mb\u001B[0m \u001B[1;33m=\u001B[0m \u001B[0ma\u001B[0m\u001B[1;33m-\u001B[0m\u001B[1;36m1\u001B[0m\u001B[1;33m\u001B[0m\u001B[0m\n\u001B[0m",
      "\u001B[1;31mTypeError\u001B[0m: unsupported operand type(s) for -: 'str' and 'int'"
     ]
    }
   ],
   "source": [
    "a  = \"Hallo\"\n",
    "b = a-1"
   ]
  },
  {
   "cell_type": "markdown",
   "metadata": {},
   "source": [
    "Für schnellere Zuweisungen und übersichtlicheren Code kann man folgende Zuweisungs-Schreibweise verwenden."
   ]
  },
  {
   "cell_type": "code",
   "execution_count": null,
   "metadata": {},
   "outputs": [],
   "source": [
    "a = 1\n",
    "a += 1\n",
    "print(a)\n",
    "#funktioniert genauso bei a -= 1, a *=1, a /=1"
   ]
  },
  {
   "cell_type": "markdown",
   "metadata": {},
   "source": [
    "Ausführlichere Informationen findest du [hier](https://www.data-science-architect.de/operatoren-in-python/)."
   ]
  },
  {
   "cell_type": "markdown",
   "metadata": {},
   "source": [
    "## 4.2 Bedingungen"
   ]
  },
  {
   "cell_type": "markdown",
   "metadata": {},
   "source": [
    "Bedingungen in Python lassen sich in `if-else`-Statements darstellen. Es werden zwei Werte verglichen und daher ist die Bedingung stets ein `Boolean`."
   ]
  },
  {
   "cell_type": "code",
   "execution_count": null,
   "metadata": {},
   "outputs": [],
   "source": [
    "from random import *\n",
    "a = randint(1,6) #Zufallszahl zwischen 1 und 6\n",
    "if a>5:\n",
    "    print(\"Gewonnen\")\n",
    "elif a>3:\n",
    "    print(\"Würfel erneut\")\n",
    "else:\n",
    "    print(\"Verloren\")"
   ]
  },
  {
   "cell_type": "code",
   "execution_count": null,
   "metadata": {},
   "outputs": [],
   "source": [
    "b = 2 if not a>3 else 0"
   ]
  },
  {
   "cell_type": "markdown",
   "metadata": {},
   "source": [
    "## 4.3 Schleifen"
   ]
  },
  {
   "cell_type": "markdown",
   "metadata": {},
   "source": [
    "<b>`For-Schleifen`</b> definieren das Inkrement im Schleifenkopf. Nützliche Operatoren hierfür sind der `in`-Operator und die `range`-Funktion."
   ]
  },
  {
   "cell_type": "code",
   "execution_count": null,
   "metadata": {},
   "outputs": [],
   "source": [
    "liste = [1,2,3,4,5]\n",
    "j = 0\n",
    "for i in liste: #Schleifenkopf\n",
    "    liste[j] = i*2\n",
    "    j += 1\n",
    "print(liste)\n",
    "\n",
    "for i in range(0,10): #zählt von 0 bis 9, also insgesamt 10 Zahlen\n",
    "    liste.append(i)\n",
    "print(liste)"
   ]
  },
  {
   "cell_type": "markdown",
   "metadata": {},
   "source": [
    "Um alle Einträge eines Arrays auf die gleiche Art und Weise zu verändern, kann man auch vereinfacht schreiben:"
   ]
  },
  {
   "cell_type": "code",
   "execution_count": null,
   "metadata": {},
   "outputs": [],
   "source": [
    "a = [1,2,3,4,5]\n",
    "b = [i*2 for i in a]\n",
    "print(b)"
   ]
  },
  {
   "cell_type": "markdown",
   "metadata": {},
   "source": [
    "<b>`While-Schleifen`</b> haben das Abbruchkriterien im Schleifenkopf, das Abbruchkriterium ist ein Boolean und das Inkrement wird im Schleifendurchlauf manipuliert."
   ]
  },
  {
   "cell_type": "code",
   "execution_count": null,
   "metadata": {},
   "outputs": [],
   "source": [
    "a = 0\n",
    "while a<7:\n",
    "    a += 1"
   ]
  },
  {
   "cell_type": "markdown",
   "metadata": {},
   "source": [
    "Bei Schleifen gilt es zu beachten, dass der Algorithmus terminiert. Das bedeutet, dass die Schleife nach endlichen Schritten verlassen wird. Im obigen Beispiel ist also zu beachten, das die Folgenglieder von `a` nicht kleiner werden dürfen, da sonst unser Algorithmus nicht terminieren würde.<br>\n",
    "Am rechten oberen Bildrand unter `Logout` sieht man einen Kreis, der nicht gefüllt ist.\n",
    "Führe nun den unteren Code aus. Der Kernel füllt sich und zeigt uns dadurch an, dass das Programm noch abläuft. Stoppen lässt sich dieser Vorgang, indem man in der Menüleiste das Quadrat betätigt (rechts neben `Run`). Das stoppt den Kernel und man kann nun den Fehler beheben."
   ]
  },
  {
   "cell_type": "code",
   "execution_count": null,
   "metadata": {},
   "outputs": [],
   "source": [
    "a = 0\n",
    "while a<7:\n",
    "    a -= 1"
   ]
  },
  {
   "cell_type": "markdown",
   "metadata": {},
   "source": [
    "<b>`break und continue`</b> sind hilfreiche Statements im Zusammenhang mit Schleifen. Das `break`-Statement sorgt dafür, dass die Schleife verlassen wird."
   ]
  },
  {
   "cell_type": "code",
   "execution_count": null,
   "metadata": {},
   "outputs": [],
   "source": [
    "a = []\n",
    "for i in range(1,10):\n",
    "    if i%5>0:\n",
    "        a.append(i)\n",
    "    else:\n",
    "        break\n",
    "print(a)"
   ]
  },
  {
   "cell_type": "markdown",
   "metadata": {},
   "source": [
    "Im Vergleich dazu erreicht man durch ein `continue`-Statement, dass nur der aktuelle Schleifendurchlauf übersprungen wird."
   ]
  },
  {
   "cell_type": "code",
   "execution_count": null,
   "metadata": {},
   "outputs": [],
   "source": [
    "a = []\n",
    "for i in range(1,10):\n",
    "    if i%5>0:\n",
    "        a.append(i)\n",
    "    else:\n",
    "        continue\n",
    "print(a)"
   ]
  },
  {
   "cell_type": "markdown",
   "metadata": {},
   "source": [
    "## 4.4 Rekursion"
   ]
  },
  {
   "cell_type": "markdown",
   "metadata": {},
   "source": [
    "Rekursion löst ein Problem, indem der Algorithmus sich selbst auf kleinere Teilprobleme anwendet. Hierbei werden zwei grundlegende Operationen genutzt:\n",
    "* rekursiver Aufruf mit kleinerem Teilproblem\n",
    "* Abbruch der Rekursion aufgrund einer Bedingung (Terminierung)<br><br>\n",
    "Das folgende Beispiel berechnet die Fakultät von `n (n! = n(n-1)...2*1)`:"
   ]
  },
  {
   "cell_type": "code",
   "execution_count": null,
   "metadata": {},
   "outputs": [],
   "source": [
    "def fakultät(n):\n",
    "    if n<=1:\n",
    "        return 1\n",
    "    else:\n",
    "        return n*fakultät(n-1)"
   ]
  },
  {
   "cell_type": "code",
   "execution_count": null,
   "metadata": {},
   "outputs": [],
   "source": [
    "print(fakultät(5))"
   ]
  },
  {
   "cell_type": "markdown",
   "metadata": {},
   "source": [
    "Das Problem (Berechen die Fakultät einer Zahl) wird so lange verringert, bis die Lösung trivial (`fak(n)` für `n<=1` ist nämlich 1) ist."
   ]
  },
  {
   "cell_type": "markdown",
   "metadata": {},
   "source": [
    "Ein weiteres Beispiel ist die Funktion, die mir den größten gemeisamen Teiler (`GGT`) zweier Zahlen berechnet."
   ]
  },
  {
   "cell_type": "code",
   "execution_count": null,
   "metadata": {},
   "outputs": [],
   "source": [
    "def ggt(a,b):\n",
    "    if b == 0:\n",
    "        return a\n",
    "    elif a < b:\n",
    "        return ggt(b,a)\n",
    "    else:\n",
    "        return ggt(a-b,b)"
   ]
  },
  {
   "cell_type": "code",
   "execution_count": null,
   "metadata": {},
   "outputs": [],
   "source": [
    "print(ggt(18,12))"
   ]
  }
 ],
 "metadata": {
  "kernelspec": {
   "display_name": "Python 3",
   "language": "python",
   "name": "python3"
  },
  "language_info": {
   "codemirror_mode": {
    "name": "ipython",
    "version": 3
   },
   "file_extension": ".py",
   "mimetype": "text/x-python",
   "name": "python",
   "nbconvert_exporter": "python",
   "pygments_lexer": "ipython3",
   "version": "3.8.5"
  }
 },
 "nbformat": 4,
 "nbformat_minor": 2
}